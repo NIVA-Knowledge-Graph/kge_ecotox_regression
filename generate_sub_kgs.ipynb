{
 "cells": [
  {
   "cell_type": "code",
   "execution_count": 1,
   "metadata": {},
   "outputs": [
    {
     "data": {
      "text/plain": [
       "(1090, 431)"
      ]
     },
     "execution_count": 1,
     "metadata": {},
     "output_type": "execute_result"
    }
   ],
   "source": [
    "import pandas as pd\n",
    "from tqdm import tqdm\n",
    "from rdflib import Graph,Literal,URIRef\n",
    "from tera.DataIntegration import LogMapMapping\n",
    "\n",
    "ONLY_ORGANIC = True\n",
    "\n",
    "effect_data = pd.read_csv('only_organic_effect_data.csv' if ONLY_ORGANIC else 'effect_data.csv')\n",
    "species = set(effect_data['species'].values)\n",
    "chemicals = set(effect_data['chemical'].values)\n",
    "len(species),len(chemicals)"
   ]
  },
  {
   "cell_type": "code",
   "execution_count": 2,
   "metadata": {},
   "outputs": [],
   "source": [
    "from collections import defaultdict\n",
    "mappings = {}\n",
    "for part in range(11):\n",
    "    aml = LogMapMapping(f'om_outputs/aml_output/{part}.rdf', strip=False, threshold=0.5, unique=True)\n",
    "    aml.load()\n",
    "    lm = LogMapMapping(f'om_outputs/logmap_outputs/{part}/logmap2_mappings.rdf', strip=False, threshold=0.5, unique=True)\n",
    "    lm.load()\n",
    "    mappings = {**aml.mappings,**mappings}\n",
    "    mappings = {**lm.mappings,**mappings}"
   ]
  },
  {
   "cell_type": "code",
   "execution_count": 3,
   "metadata": {},
   "outputs": [],
   "source": [
    "to_del = set()\n",
    "for k in mappings:\n",
    "    if len(mappings[k]) > 1:\n",
    "        to_del.add(k)\n",
    "    else:\n",
    "        mappings[k] = mappings[k].pop(0)\n",
    "mappings = {i:k for k,i in mappings.items() if k not in to_del}"
   ]
  },
  {
   "cell_type": "code",
   "execution_count": 4,
   "metadata": {},
   "outputs": [],
   "source": [
    "ncbi_graph = Graph()\n",
    "ncbi_graph.load('../TERA_OUTPUT/ncbi.nt',format='nt')\n",
    "\n",
    "def remove_literals(graph):\n",
    "    for s,p,o in graph:\n",
    "        if isinstance(o,Literal):\n",
    "            graph.remove((s,p,o))\n",
    "            \n",
    "    return graph\n",
    "            \n",
    "def replace_entities(graph,mappings):\n",
    "    for k in mappings:\n",
    "        triples = graph.triples((URIRef(k),None,None))\n",
    "        for s,p,o in triples:\n",
    "            graph.remove((s,p,o))\n",
    "            graph.add((URIRef(mappings[k]),p,o))\n",
    "\n",
    "        triples = graph.triples((None,None,URIRef(k)))\n",
    "        for s,p,o in triples:\n",
    "            graph.remove((s,p,o))\n",
    "            graph.add((s,p,URIRef(mappings[k])))\n",
    "            \n",
    "    return graph\n",
    "\n",
    "ncbi_graph = remove_literals(ncbi_graph)\n",
    "ncbi_graph = replace_entities(ncbi_graph,mappings)\n"
   ]
  },
  {
   "cell_type": "code",
   "execution_count": 5,
   "metadata": {},
   "outputs": [],
   "source": [
    "def get_all_connections(graph,entities,back_tracking=0):\n",
    "    \n",
    "    to_explore = set(entities)\n",
    "    explored = set()\n",
    "    out = Graph()\n",
    "    \n",
    "    if back_tracking < 0: return out\n",
    "    \n",
    "    while len(to_explore) > 0:\n",
    "        e = to_explore.pop()\n",
    "        explored.add(e)\n",
    "        \n",
    "        out += graph.triples((e,None,None))\n",
    "        to_explore |= set(out.objects())\n",
    "        to_explore -= explored\n",
    "        \n",
    "    tmp = set.union(*[set(graph.subjects(object=e)) for e in explored]) - explored\n",
    "    out += get_all_connections(graph,tmp,back_tracking-1)\n",
    "        \n",
    "    return out\n"
   ]
  },
  {
   "cell_type": "code",
   "execution_count": 6,
   "metadata": {},
   "outputs": [
    {
     "name": "stdout",
     "output_type": "stream",
     "text": [
      "CPU times: user 29.3 s, sys: 144 ms, total: 29.5 s\n",
      "Wall time: 29.5 s\n"
     ]
    }
   ],
   "source": [
    "%%time\n",
    "new_graph = get_all_connections(ncbi_graph,set(map(URIRef,species)),back_tracking=0)\n",
    "new_graph.serialize('only_organic_reduced_kgs/reduced_taxonomy.nt' if ONLY_ORGANIC else 'reduced_kgs/reduced_taxonomy.nt',format='nt')"
   ]
  },
  {
   "cell_type": "code",
   "execution_count": 7,
   "metadata": {},
   "outputs": [
    {
     "name": "stdout",
     "output_type": "stream",
     "text": [
      "Requirement already satisfied: sparqlwrapper in /home/erik/.local/lib/python3.8/site-packages (1.8.5)\r\n",
      "Requirement already satisfied: rdflib>=4.0 in /home/erik/.local/lib/python3.8/site-packages (from sparqlwrapper) (5.0.0)\r\n",
      "Requirement already satisfied: isodate in /home/erik/.local/lib/python3.8/site-packages (from rdflib>=4.0->sparqlwrapper) (0.6.0)\r\n",
      "Requirement already satisfied: six in /home/erik/anaconda3/lib/python3.8/site-packages (from rdflib>=4.0->sparqlwrapper) (1.15.0)\r\n",
      "Requirement already satisfied: pyparsing in /home/erik/.local/lib/python3.8/site-packages (from rdflib>=4.0->sparqlwrapper) (2.4.7)\r\n"
     ]
    }
   ],
   "source": [
    "!pip3 install sparqlwrapper"
   ]
  },
  {
   "cell_type": "code",
   "execution_count": 8,
   "metadata": {},
   "outputs": [],
   "source": [
    "\n",
    "import sys\n",
    "from SPARQLWrapper import SPARQLWrapper, JSON\n",
    "\n",
    "endpoint_url = \"https://query.wikidata.org/sparql\"\n",
    "\n",
    "query = \"\"\"select ?from ?to where {\n",
    "  [] wdt:P830 ?from ;\n",
    "      wdt:P685 ?to .    \n",
    "}\n",
    "\"\"\"\n",
    "\n",
    "\n",
    "def get_results(endpoint_url, query):\n",
    "    user_agent = \"WDQS-example Python/%s.%s\" % (sys.version_info[0], sys.version_info[1])\n",
    "    # TODO adjust user agent; see https://w.wiki/CX6\n",
    "    sparql = SPARQLWrapper(endpoint_url, agent=user_agent)\n",
    "    sparql.setQuery(query)\n",
    "    sparql.setReturnFormat(JSON)\n",
    "    return sparql.query().convert()\n",
    "\n",
    "\n",
    "results = get_results(endpoint_url, query)\n",
    "\n",
    "eol_mappings = {}\n",
    "\n",
    "for result in results[\"results\"][\"bindings\"]:\n",
    "    eol = 'https://eol.org/pages/' + result['from']['value']\n",
    "    ncbi = 'https://www.ncbi.nlm.nih.gov/taxonomy/taxon/' + result['to']['value']\n",
    "    try:\n",
    "        eol_mappings[eol] = mappings[ncbi]\n",
    "    except KeyError:\n",
    "        pass\n",
    "    "
   ]
  },
  {
   "cell_type": "code",
   "execution_count": 9,
   "metadata": {},
   "outputs": [],
   "source": [
    "traits_graph = Graph()\n",
    "traits_graph.load('../TERA_OUTPUT/traits.nt',format='nt')\n",
    "traits_graph = remove_literals(traits_graph)\n",
    "traits_graph = replace_entities(traits_graph,eol_mappings)"
   ]
  },
  {
   "cell_type": "code",
   "execution_count": 10,
   "metadata": {},
   "outputs": [
    {
     "name": "stdout",
     "output_type": "stream",
     "text": [
      "CPU times: user 38.6 s, sys: 91.9 ms, total: 38.7 s\n",
      "Wall time: 38.7 s\n"
     ]
    }
   ],
   "source": [
    "%%time\n",
    "new_graph = get_all_connections(traits_graph,set(map(URIRef,species)),back_tracking=0)\n",
    "new_graph.serialize('only_organic_reduced_kgs/reduced_traits.nt' if ONLY_ORGANIC else 'reduced_kgs/reduced_traits.nt',format='nt')"
   ]
  },
  {
   "cell_type": "code",
   "execution_count": 11,
   "metadata": {},
   "outputs": [],
   "source": [
    "\n",
    "import sys\n",
    "from SPARQLWrapper import SPARQLWrapper, JSON\n",
    "\n",
    "endpoint_url = \"https://query.wikidata.org/sparql\"\n",
    "\n",
    "query = \"\"\"select ?from ?to where {\n",
    "   ?chem wdt:P231 ?tmp ;\n",
    "         wdt:P683 ?to .\n",
    "   bind( replace(?tmp,'-','') as ?from )\n",
    "}\"\"\"\n",
    "\n",
    "\n",
    "def get_results(endpoint_url, query):\n",
    "    user_agent = \"WDQS-example Python/%s.%s\" % (sys.version_info[0], sys.version_info[1])\n",
    "    # TODO adjust user agent; see https://w.wiki/CX6\n",
    "    sparql = SPARQLWrapper(endpoint_url, agent=user_agent)\n",
    "    sparql.setQuery(query)\n",
    "    sparql.setReturnFormat(JSON)\n",
    "    return sparql.query().convert()\n",
    "\n",
    "\n",
    "results = get_results(endpoint_url, query)\n",
    "cas_chebi_mapping = {}\n",
    "for result in results[\"results\"][\"bindings\"]:\n",
    "    cas_chebi_mapping['https://cfpub.epa.gov/ecotox/cas/'+ result['from']['value']]='http://purl.obolibrary.org/obo/CHEBI_'+result['to']['value']\n",
    "cas_chebi_mapping = {i:k for k,i in cas_chebi_mapping.items()}"
   ]
  },
  {
   "cell_type": "code",
   "execution_count": 12,
   "metadata": {},
   "outputs": [
    {
     "name": "stdout",
     "output_type": "stream",
     "text": [
      "CPU times: user 7min 7s, sys: 1.63 s, total: 7min 9s\n",
      "Wall time: 7min 11s\n"
     ]
    }
   ],
   "source": [
    "%%time\n",
    "for filename in ['../chebi/chebi.ttl']:\n",
    "    \n",
    "    graph = Graph()\n",
    "    graph.load(filename,format=filename.split('.')[-1])\n",
    "    graph = remove_literals(graph)\n",
    "    graph = replace_entities(graph,cas_chebi_mapping)\n",
    "    new_graph = get_all_connections(graph,set(map(URIRef,chemicals)),back_tracking=0)\n",
    "    fn,fm = 'reduced_' + filename.split('/')[-1],filename.split('.')[-1]\n",
    "    new_graph.serialize(f'only_organic_reduced_kgs/{fn}' if ONLY_ORGANIC else f'reduced_kgs/{fn}',format=fm)\n",
    "    "
   ]
  },
  {
   "cell_type": "code",
   "execution_count": 13,
   "metadata": {},
   "outputs": [],
   "source": [
    "\n",
    "query = \"\"\"select ?from ?to where {\n",
    "   ?chem wdt:P231 ?tmp ;\n",
    "         wdt:P486 ?to .\n",
    "   bind( replace(?tmp,'-','') as ?from )\n",
    "}\n",
    "\"\"\"\n",
    "\n",
    "results = get_results(endpoint_url, query)\n",
    "cas_mesh_mapping = {}\n",
    "for result in results[\"results\"][\"bindings\"]:\n",
    "    cas_mesh_mapping['https://cfpub.epa.gov/ecotox/cas/'+result['from']['value']]='http://id.nlm.nih.gov/mesh/'+result['to']['value']\n",
    "cas_mesh_mapping = {i:k for k,i in cas_mesh_mapping.items()}"
   ]
  },
  {
   "cell_type": "code",
   "execution_count": 14,
   "metadata": {
    "scrolled": true
   },
   "outputs": [
    {
     "name": "stdout",
     "output_type": "stream",
     "text": [
      "CPU times: user 1h 23min 51s, sys: 6.27 s, total: 1h 23min 57s\n",
      "Wall time: 1h 24min 1s\n"
     ]
    }
   ],
   "source": [
    "%%time\n",
    "for filename in ['../mesh/mesh.nt']:\n",
    "    \n",
    "    graph = Graph()\n",
    "    graph.load(filename,format=filename.split('.')[-1])\n",
    "    graph = remove_literals(graph)\n",
    "    graph = replace_entities(graph,cas_mesh_mapping)\n",
    "    new_graph = get_all_connections(graph,set(map(URIRef,chemicals)),back_tracking=0)\n",
    "    fn,fm = 'reduced_' + filename.split('/')[-1],filename.split('.')[-1]\n",
    "    new_graph.serialize(f'only_organic_reduced_kgs/{fn}' if ONLY_ORGANIC else f'reduced_kgs/{fn}',format=fm)\n",
    "    "
   ]
  },
  {
   "cell_type": "code",
   "execution_count": 15,
   "metadata": {},
   "outputs": [],
   "source": [
    "\n",
    "query = \"\"\"select ?from ?to where {\n",
    "   ?chem wdt:P231 ?tmp ;\n",
    "         wdt:P592 ?to .\n",
    "   bind( replace(?tmp,'-','') as ?from )\n",
    "}\n",
    "\"\"\"\n",
    "\n",
    "results = get_results(endpoint_url, query)\n",
    "cas_chembl_mapping = {}\n",
    "for result in results[\"results\"][\"bindings\"]:\n",
    "    cas_chembl_mapping['https://cfpub.epa.gov/ecotox/cas/'+result['from']['value']]='http://rdf.ebi.ac.uk/resource/chembl/molecule/'+result['to']['value']\n",
    "cas_chembl_mapping = {i:k for k,i in cas_chembl_mapping.items()}"
   ]
  },
  {
   "cell_type": "code",
   "execution_count": 16,
   "metadata": {},
   "outputs": [],
   "source": [
    "species_mappings = {k.replace('https://www.ncbi.nlm.nih.gov/taxonomy/taxon/','http://identifiers.org/taxonomy/'):i for k,i in mappings.items()}"
   ]
  },
  {
   "cell_type": "code",
   "execution_count": null,
   "metadata": {},
   "outputs": [],
   "source": [
    "%%time\n",
    "for filename in ['../chembl/chembl_26.0_bindingsite.ttl',\n",
    "                 '../chembl/chembl_26.0_biocmpt.ttl',\n",
    "                 '../chembl/chembl_26.0_cellline.ttl',\n",
    "                 '../chembl/chembl_26.0_complextarget_targetcmpt_ls.ttl',\n",
    "                 '../chembl/chembl_26.0_grouptarget_targetcmpt_ls.ttl',\n",
    "                 '../chembl/chembl_26.0_indication.ttl',\n",
    "                 '../chembl/chembl_26.0_journal.ttl',\n",
    "                 '../chembl/chembl_26.0_moa.ttl',\n",
    "                 '../chembl/chembl_26.0_molecule_chebi_ls.ttl',\n",
    "                 '../chembl/chembl_26.0_molhierarchy.ttl',\n",
    "                 '../chembl/chembl_26.0_protclass.ttl',\n",
    "                 '../chembl/chembl_26.0_singletarget_targetcmpt_ls.ttl',\n",
    "                 '../chembl/chembl_26.0_source.ttl',\n",
    "                 '../chembl/chembl_26.0_target.ttl',\n",
    "                 '../chembl/chembl_26.0_targetcmpt.ttl',\n",
    "                 '../chembl/chembl_26.0_targetcmpt_uniprot_ls.ttl',\n",
    "                 '../chembl/chembl_26.0_targetrel.ttl',\n",
    "                 '../chembl/chembl_26.0_unichem.ttl']:\n",
    "    \n",
    "    graph = Graph()\n",
    "    graph.load(filename,format=filename.split('.')[-1])\n",
    "    \n",
    "    graph = remove_literals(graph)\n",
    "    graph = replace_entities(graph,cas_chembl_mapping)\n",
    "    graph = replace_entities(graph,species_mappings)\n",
    "    \n",
    "    new_graph = get_all_connections(graph,set(map(URIRef,chemicals))|set(map(URIRef,species)),back_tracking=0)\n",
    "    fn,fm = 'reduced_' + filename.split('/')[-1],filename.split('.')[-1]\n",
    "    new_graph.serialize(f'only_organic_reduced_kgs/{fn}' if ONLY_ORGANIC else f'reduced_kgs/{fn}',format=fm)"
   ]
  },
  {
   "cell_type": "code",
   "execution_count": null,
   "metadata": {},
   "outputs": [],
   "source": []
  },
  {
   "cell_type": "code",
   "execution_count": null,
   "metadata": {},
   "outputs": [],
   "source": []
  }
 ],
 "metadata": {
  "kernelspec": {
   "display_name": "Python 3",
   "language": "python",
   "name": "python3"
  },
  "language_info": {
   "codemirror_mode": {
    "name": "ipython",
    "version": 3
   },
   "file_extension": ".py",
   "mimetype": "text/x-python",
   "name": "python",
   "nbconvert_exporter": "python",
   "pygments_lexer": "ipython3",
   "version": "3.8.5"
  }
 },
 "nbformat": 4,
 "nbformat_minor": 4
}
