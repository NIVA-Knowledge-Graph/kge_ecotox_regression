{
 "cells": [
  {
   "cell_type": "code",
   "execution_count": 1,
   "metadata": {},
   "outputs": [],
   "source": [
    "import pandas as pd\n",
    "import numpy as np\n",
    "data = pd.read_csv('effect_data.csv')"
   ]
  },
  {
   "cell_type": "code",
   "execution_count": 2,
   "metadata": {},
   "outputs": [
    {
     "data": {
      "text/html": [
       "<div>\n",
       "<style scoped>\n",
       "    .dataframe tbody tr th:only-of-type {\n",
       "        vertical-align: middle;\n",
       "    }\n",
       "\n",
       "    .dataframe tbody tr th {\n",
       "        vertical-align: top;\n",
       "    }\n",
       "\n",
       "    .dataframe thead th {\n",
       "        text-align: right;\n",
       "    }\n",
       "</style>\n",
       "<table border=\"1\" class=\"dataframe\">\n",
       "  <thead>\n",
       "    <tr style=\"text-align: right;\">\n",
       "      <th></th>\n",
       "      <th>Unnamed: 0</th>\n",
       "      <th>species</th>\n",
       "      <th>chemical</th>\n",
       "      <th>conc (mol/L)</th>\n",
       "    </tr>\n",
       "  </thead>\n",
       "  <tbody>\n",
       "    <tr>\n",
       "      <th>0</th>\n",
       "      <td>0</td>\n",
       "      <td>https://cfpub.epa.gov/ecotox/taxon/1</td>\n",
       "      <td>https://cfpub.epa.gov/ecotox/cas/10025919</td>\n",
       "      <td>3.051629</td>\n",
       "    </tr>\n",
       "    <tr>\n",
       "      <th>1</th>\n",
       "      <td>1</td>\n",
       "      <td>https://cfpub.epa.gov/ecotox/taxon/1</td>\n",
       "      <td>https://cfpub.epa.gov/ecotox/cas/10028156</td>\n",
       "      <td>5.681105</td>\n",
       "    </tr>\n",
       "    <tr>\n",
       "      <th>2</th>\n",
       "      <td>2</td>\n",
       "      <td>https://cfpub.epa.gov/ecotox/taxon/1</td>\n",
       "      <td>https://cfpub.epa.gov/ecotox/cas/100414</td>\n",
       "      <td>3.398977</td>\n",
       "    </tr>\n",
       "    <tr>\n",
       "      <th>3</th>\n",
       "      <td>3</td>\n",
       "      <td>https://cfpub.epa.gov/ecotox/taxon/1</td>\n",
       "      <td>https://cfpub.epa.gov/ecotox/cas/100425</td>\n",
       "      <td>3.512146</td>\n",
       "    </tr>\n",
       "    <tr>\n",
       "      <th>4</th>\n",
       "      <td>4</td>\n",
       "      <td>https://cfpub.epa.gov/ecotox/taxon/1</td>\n",
       "      <td>https://cfpub.epa.gov/ecotox/cas/10043013</td>\n",
       "      <td>3.127255</td>\n",
       "    </tr>\n",
       "  </tbody>\n",
       "</table>\n",
       "</div>"
      ],
      "text/plain": [
       "   Unnamed: 0                               species  \\\n",
       "0           0  https://cfpub.epa.gov/ecotox/taxon/1   \n",
       "1           1  https://cfpub.epa.gov/ecotox/taxon/1   \n",
       "2           2  https://cfpub.epa.gov/ecotox/taxon/1   \n",
       "3           3  https://cfpub.epa.gov/ecotox/taxon/1   \n",
       "4           4  https://cfpub.epa.gov/ecotox/taxon/1   \n",
       "\n",
       "                                    chemical  conc (mol/L)  \n",
       "0  https://cfpub.epa.gov/ecotox/cas/10025919      3.051629  \n",
       "1  https://cfpub.epa.gov/ecotox/cas/10028156      5.681105  \n",
       "2    https://cfpub.epa.gov/ecotox/cas/100414      3.398977  \n",
       "3    https://cfpub.epa.gov/ecotox/cas/100425      3.512146  \n",
       "4  https://cfpub.epa.gov/ecotox/cas/10043013      3.127255  "
      ]
     },
     "execution_count": 2,
     "metadata": {},
     "output_type": "execute_result"
    }
   ],
   "source": [
    "data.head()"
   ]
  },
  {
   "cell_type": "code",
   "execution_count": 3,
   "metadata": {},
   "outputs": [
    {
     "data": {
      "text/plain": [
       "<AxesSubplot:>"
      ]
     },
     "execution_count": 3,
     "metadata": {},
     "output_type": "execute_result"
    },
    {
     "data": {
      "image/png": "[encoded data removed]",
      "text/plain": [
       "<Figure size 432x288 with 1 Axes>"
      ]
     },
     "metadata": {
      "needs_background": "light"
     },
     "output_type": "display_data"
    }
   ],
   "source": [
    "data.groupby('species').count().chemical.hist(bins=30,log=True)"
   ]
  },
  {
   "cell_type": "code",
   "execution_count": 4,
   "metadata": {},
   "outputs": [
    {
     "data": {
      "text/plain": [
       "<AxesSubplot:>"
      ]
     },
     "execution_count": 4,
     "metadata": {},
     "output_type": "execute_result"
    },
    {
     "data": {
      "image/png": "[encoded data removed]",
      "text/plain": [
       "<Figure size 432x288 with 1 Axes>"
      ]
     },
     "metadata": {
      "needs_background": "light"
     },
     "output_type": "display_data"
    }
   ],
   "source": [
    "data.groupby('chemical').count().species.hist(bins=30,log=True)"
   ]
  },
  {
   "cell_type": "code",
   "execution_count": 5,
   "metadata": {},
   "outputs": [
    {
     "data": {
      "text/plain": [
       "(4.13464533786474, 1.691965380643943)"
      ]
     },
     "execution_count": 5,
     "metadata": {},
     "output_type": "execute_result"
    },
    {
     "data": {
      "image/png": "[encoded data removed]",
      "text/plain": [
       "<Figure size 432x288 with 1 Axes>"
      ]
     },
     "metadata": {
      "needs_background": "light"
     },
     "output_type": "display_data"
    }
   ],
   "source": [
    "data['conc (mol/L)'].hist(bins=30)\n",
    "data['conc (mol/L)'].mean(),data['conc (mol/L)'].std()"
   ]
  },
  {
   "cell_type": "code",
   "execution_count": 6,
   "metadata": {},
   "outputs": [],
   "source": [
    "mapping_species = {k:i for i,k in enumerate(data.species.unique())}\n",
    "mapping_chemical = {k:i for i,k in enumerate(data.chemical.unique())}"
   ]
  },
  {
   "cell_type": "code",
   "execution_count": 7,
   "metadata": {},
   "outputs": [],
   "source": [
    "M = np.zeros((len(mapping_species),len(mapping_chemical)))"
   ]
  },
  {
   "cell_type": "code",
   "execution_count": 8,
   "metadata": {},
   "outputs": [],
   "source": [
    "for i,j in zip(data.species,data.chemical):\n",
    "    i = mapping_species[i]\n",
    "    j = mapping_chemical[j]\n",
    "    M[i,j] = 1"
   ]
  },
  {
   "cell_type": "code",
   "execution_count": 9,
   "metadata": {},
   "outputs": [
    {
     "data": {
      "text/plain": [
       "(array([0., 1.]), array([1055548,    8452]))"
      ]
     },
     "execution_count": 9,
     "metadata": {},
     "output_type": "execute_result"
    }
   ],
   "source": [
    "np.unique(M,return_counts=True)"
   ]
  },
  {
   "cell_type": "code",
   "execution_count": 10,
   "metadata": {},
   "outputs": [],
   "source": [
    "import networkx as nx\n",
    "\n",
    "G = nx.DiGraph()\n",
    "\n",
    "for s,c in zip(data.species,data.chemical):\n",
    "    G.add_edge(s,c)\n",
    "    G.add_edge(c,s)\n",
    "    \n",
    "edges_to_remove = []\n",
    "for edge in G.edges():\n",
    "    if (edge[1],edge[0]) in G.edges() and (edge[1],edge[0]) not in edges_to_remove:\n",
    "        edges_to_remove.append(edge)\n",
    "        \n",
    "for edge in edges_to_remove:\n",
    "    G.remove_edge(*edge)"
   ]
  },
  {
   "cell_type": "code",
   "execution_count": 11,
   "metadata": {},
   "outputs": [
    {
     "data": {
      "text/plain": [
       "(2358, 8452)"
      ]
     },
     "execution_count": 11,
     "metadata": {},
     "output_type": "execute_result"
    }
   ],
   "source": [
    "G.number_of_nodes(),G.number_of_edges()"
   ]
  },
  {
   "cell_type": "code",
   "execution_count": 12,
   "metadata": {},
   "outputs": [
    {
     "data": {
      "text/plain": [
       "['https://cfpub.epa.gov/ecotox/cas/12027677',\n",
       " 'https://cfpub.epa.gov/ecotox/taxon/532',\n",
       " 'https://cfpub.epa.gov/ecotox/cas/7788989',\n",
       " 'https://cfpub.epa.gov/ecotox/taxon/5',\n",
       " 'https://cfpub.epa.gov/ecotox/cas/10026116',\n",
       " 'https://cfpub.epa.gov/ecotox/taxon/4',\n",
       " 'https://cfpub.epa.gov/ecotox/cas/1310538',\n",
       " 'https://cfpub.epa.gov/ecotox/taxon/25',\n",
       " 'https://cfpub.epa.gov/ecotox/cas/106956',\n",
       " 'https://cfpub.epa.gov/ecotox/taxon/206',\n",
       " 'https://cfpub.epa.gov/ecotox/cas/107926',\n",
       " 'https://cfpub.epa.gov/ecotox/taxon/2',\n",
       " 'https://cfpub.epa.gov/ecotox/cas/120127',\n",
       " 'https://cfpub.epa.gov/ecotox/taxon/142',\n",
       " 'https://cfpub.epa.gov/ecotox/cas/479458',\n",
       " 'https://cfpub.epa.gov/ecotox/taxon/1196',\n",
       " 'https://cfpub.epa.gov/ecotox/cas/88891',\n",
       " 'https://cfpub.epa.gov/ecotox/taxon/109',\n",
       " 'https://cfpub.epa.gov/ecotox/cas/7773015',\n",
       " 'https://cfpub.epa.gov/ecotox/taxon/10300',\n",
       " 'https://cfpub.epa.gov/ecotox/cas/137268',\n",
       " 'https://cfpub.epa.gov/ecotox/taxon/102',\n",
       " 'https://cfpub.epa.gov/ecotox/cas/52918635',\n",
       " 'https://cfpub.epa.gov/ecotox/taxon/1015',\n",
       " 'https://cfpub.epa.gov/ecotox/cas/121755',\n",
       " 'https://cfpub.epa.gov/ecotox/taxon/1']"
      ]
     },
     "execution_count": 12,
     "metadata": {},
     "output_type": "execute_result"
    }
   ],
   "source": [
    "nx.algorithms.dag.dag_longest_path(G)"
   ]
  },
  {
   "cell_type": "code",
   "execution_count": 13,
   "metadata": {},
   "outputs": [],
   "source": [
    "from rdflib import Graph, URIRef, BNode, Literal\n",
    "from rdflib.namespace import RDF, Namespace\n",
    "\n",
    "tax = Graph()\n",
    "tax.load('../TERA_OUTPUT/ecotox_taxonomy.nt',format='nt')\n",
    "\n",
    "chem = Graph()\n",
    "chem.load('reduced_kgs/reduced_chebi.ttl',format='ttl')\n"
   ]
  },
  {
   "cell_type": "code",
   "execution_count": 14,
   "metadata": {},
   "outputs": [],
   "source": [
    "#TODO add chemical and tax group exploration.\n",
    "\n",
    "other = ['https://cfpub.epa.gov/ecotox/group/StandardTestSpecies',\n",
    "        'https://cfpub.epa.gov/ecotox/group/U.S.Exotic/NuisanceSpecies',\n",
    "        'https://cfpub.epa.gov/ecotox/group/U.S.ThreatenedandEndangeredSpecies']\n",
    "\n",
    "divs = []\n",
    "others = []\n",
    "for s in data.species:\n",
    "    uri = URIRef(s)\n",
    "    div = sorted(list(map(str,tax.objects(subject=uri,predicate=URIRef('https://cfpub.epa.gov/ecotox/ecotoxGroup')))))\n",
    "    idx = [div.index(o) for o in other if o in div]\n",
    "    \n",
    "    ot = ','.join(div[i] for i in idx)\n",
    "    if ot == ',': ot = None\n",
    "    \n",
    "    div = [div[i] for i in range(len(div)) if i not in idx][0]\n",
    "    \n",
    "    others.append(ot)\n",
    "    divs.append(div)\n",
    "\n",
    "data['species_divisions'] = divs\n",
    "data['species_others'] = others\n"
   ]
  },
  {
   "cell_type": "code",
   "execution_count": 15,
   "metadata": {},
   "outputs": [
    {
     "data": {
      "text/html": [
       "<div>\n",
       "<style scoped>\n",
       "    .dataframe tbody tr th:only-of-type {\n",
       "        vertical-align: middle;\n",
       "    }\n",
       "\n",
       "    .dataframe tbody tr th {\n",
       "        vertical-align: top;\n",
       "    }\n",
       "\n",
       "    .dataframe thead th {\n",
       "        text-align: right;\n",
       "    }\n",
       "</style>\n",
       "<table border=\"1\" class=\"dataframe\">\n",
       "  <thead>\n",
       "    <tr style=\"text-align: right;\">\n",
       "      <th></th>\n",
       "      <th>Unnamed: 0</th>\n",
       "      <th>species</th>\n",
       "      <th>chemical</th>\n",
       "      <th>conc (mol/L)</th>\n",
       "      <th>species_others</th>\n",
       "    </tr>\n",
       "    <tr>\n",
       "      <th>species_divisions</th>\n",
       "      <th></th>\n",
       "      <th></th>\n",
       "      <th></th>\n",
       "      <th></th>\n",
       "      <th></th>\n",
       "    </tr>\n",
       "  </thead>\n",
       "  <tbody>\n",
       "    <tr>\n",
       "      <th>https://cfpub.epa.gov/ecotox/group/Algae</th>\n",
       "      <td>27</td>\n",
       "      <td>27</td>\n",
       "      <td>27</td>\n",
       "      <td>27</td>\n",
       "      <td>27</td>\n",
       "    </tr>\n",
       "    <tr>\n",
       "      <th>https://cfpub.epa.gov/ecotox/group/Amphibians</th>\n",
       "      <td>371</td>\n",
       "      <td>371</td>\n",
       "      <td>371</td>\n",
       "      <td>371</td>\n",
       "      <td>371</td>\n",
       "    </tr>\n",
       "    <tr>\n",
       "      <th>https://cfpub.epa.gov/ecotox/group/Birds</th>\n",
       "      <td>2</td>\n",
       "      <td>2</td>\n",
       "      <td>2</td>\n",
       "      <td>2</td>\n",
       "      <td>2</td>\n",
       "    </tr>\n",
       "    <tr>\n",
       "      <th>https://cfpub.epa.gov/ecotox/group/Crustaceans</th>\n",
       "      <td>2226</td>\n",
       "      <td>2226</td>\n",
       "      <td>2226</td>\n",
       "      <td>2226</td>\n",
       "      <td>2226</td>\n",
       "    </tr>\n",
       "    <tr>\n",
       "      <th>https://cfpub.epa.gov/ecotox/group/Ferns</th>\n",
       "      <td>18</td>\n",
       "      <td>18</td>\n",
       "      <td>18</td>\n",
       "      <td>18</td>\n",
       "      <td>18</td>\n",
       "    </tr>\n",
       "    <tr>\n",
       "      <th>https://cfpub.epa.gov/ecotox/group/Fish</th>\n",
       "      <td>2936</td>\n",
       "      <td>2936</td>\n",
       "      <td>2936</td>\n",
       "      <td>2936</td>\n",
       "      <td>2936</td>\n",
       "    </tr>\n",
       "    <tr>\n",
       "      <th>https://cfpub.epa.gov/ecotox/group/Hornworts</th>\n",
       "      <td>2</td>\n",
       "      <td>2</td>\n",
       "      <td>2</td>\n",
       "      <td>2</td>\n",
       "      <td>2</td>\n",
       "    </tr>\n",
       "    <tr>\n",
       "      <th>https://cfpub.epa.gov/ecotox/group/Insects/Spiders</th>\n",
       "      <td>1239</td>\n",
       "      <td>1239</td>\n",
       "      <td>1239</td>\n",
       "      <td>1239</td>\n",
       "      <td>1239</td>\n",
       "    </tr>\n",
       "    <tr>\n",
       "      <th>https://cfpub.epa.gov/ecotox/group/Invertebrates</th>\n",
       "      <td>328</td>\n",
       "      <td>328</td>\n",
       "      <td>328</td>\n",
       "      <td>328</td>\n",
       "      <td>328</td>\n",
       "    </tr>\n",
       "    <tr>\n",
       "      <th>https://cfpub.epa.gov/ecotox/group/Miscellaneous</th>\n",
       "      <td>7</td>\n",
       "      <td>7</td>\n",
       "      <td>7</td>\n",
       "      <td>7</td>\n",
       "      <td>7</td>\n",
       "    </tr>\n",
       "    <tr>\n",
       "      <th>https://cfpub.epa.gov/ecotox/group/Molluscs</th>\n",
       "      <td>815</td>\n",
       "      <td>815</td>\n",
       "      <td>815</td>\n",
       "      <td>815</td>\n",
       "      <td>815</td>\n",
       "    </tr>\n",
       "    <tr>\n",
       "      <th>https://cfpub.epa.gov/ecotox/group/Worms</th>\n",
       "      <td>481</td>\n",
       "      <td>481</td>\n",
       "      <td>481</td>\n",
       "      <td>481</td>\n",
       "      <td>481</td>\n",
       "    </tr>\n",
       "  </tbody>\n",
       "</table>\n",
       "</div>"
      ],
      "text/plain": [
       "                                                    Unnamed: 0  species  \\\n",
       "species_divisions                                                         \n",
       "https://cfpub.epa.gov/ecotox/group/Algae                    27       27   \n",
       "https://cfpub.epa.gov/ecotox/group/Amphibians              371      371   \n",
       "https://cfpub.epa.gov/ecotox/group/Birds                     2        2   \n",
       "https://cfpub.epa.gov/ecotox/group/Crustaceans            2226     2226   \n",
       "https://cfpub.epa.gov/ecotox/group/Ferns                    18       18   \n",
       "https://cfpub.epa.gov/ecotox/group/Fish                   2936     2936   \n",
       "https://cfpub.epa.gov/ecotox/group/Hornworts                 2        2   \n",
       "https://cfpub.epa.gov/ecotox/group/Insects/Spiders        1239     1239   \n",
       "https://cfpub.epa.gov/ecotox/group/Invertebrates           328      328   \n",
       "https://cfpub.epa.gov/ecotox/group/Miscellaneous             7        7   \n",
       "https://cfpub.epa.gov/ecotox/group/Molluscs                815      815   \n",
       "https://cfpub.epa.gov/ecotox/group/Worms                   481      481   \n",
       "\n",
       "                                                    chemical  conc (mol/L)  \\\n",
       "species_divisions                                                            \n",
       "https://cfpub.epa.gov/ecotox/group/Algae                  27            27   \n",
       "https://cfpub.epa.gov/ecotox/group/Amphibians            371           371   \n",
       "https://cfpub.epa.gov/ecotox/group/Birds                   2             2   \n",
       "https://cfpub.epa.gov/ecotox/group/Crustaceans          2226          2226   \n",
       "https://cfpub.epa.gov/ecotox/group/Ferns                  18            18   \n",
       "https://cfpub.epa.gov/ecotox/group/Fish                 2936          2936   \n",
       "https://cfpub.epa.gov/ecotox/group/Hornworts               2             2   \n",
       "https://cfpub.epa.gov/ecotox/group/Insects/Spiders      1239          1239   \n",
       "https://cfpub.epa.gov/ecotox/group/Invertebrates         328           328   \n",
       "https://cfpub.epa.gov/ecotox/group/Miscellaneous           7             7   \n",
       "https://cfpub.epa.gov/ecotox/group/Molluscs              815           815   \n",
       "https://cfpub.epa.gov/ecotox/group/Worms                 481           481   \n",
       "\n",
       "                                                    species_others  \n",
       "species_divisions                                                   \n",
       "https://cfpub.epa.gov/ecotox/group/Algae                        27  \n",
       "https://cfpub.epa.gov/ecotox/group/Amphibians                  371  \n",
       "https://cfpub.epa.gov/ecotox/group/Birds                         2  \n",
       "https://cfpub.epa.gov/ecotox/group/Crustaceans                2226  \n",
       "https://cfpub.epa.gov/ecotox/group/Ferns                        18  \n",
       "https://cfpub.epa.gov/ecotox/group/Fish                       2936  \n",
       "https://cfpub.epa.gov/ecotox/group/Hornworts                     2  \n",
       "https://cfpub.epa.gov/ecotox/group/Insects/Spiders            1239  \n",
       "https://cfpub.epa.gov/ecotox/group/Invertebrates               328  \n",
       "https://cfpub.epa.gov/ecotox/group/Miscellaneous                 7  \n",
       "https://cfpub.epa.gov/ecotox/group/Molluscs                    815  \n",
       "https://cfpub.epa.gov/ecotox/group/Worms                       481  "
      ]
     },
     "execution_count": 15,
     "metadata": {},
     "output_type": "execute_result"
    }
   ],
   "source": [
    "data.groupby('species_divisions').count()"
   ]
  },
  {
   "cell_type": "code",
   "execution_count": 121,
   "metadata": {},
   "outputs": [
    {
     "data": {
      "application/vnd.jupyter.widget-view+json": {
       "model_id": "111cefbf3c7b4143930d1f4564b3aed5",
       "version_major": 2,
       "version_minor": 0
      },
      "text/plain": [
       "HBox(children=(FloatProgress(value=0.0, max=8452.0), HTML(value='')))"
      ]
     },
     "metadata": {},
     "output_type": "display_data"
    },
    {
     "name": "stdout",
     "output_type": "stream",
     "text": [
      "\n"
     ]
    }
   ],
   "source": [
    "import tqdm.notebook as tq\n",
    "\n",
    "\n",
    "for p in ['http://www.w3.org/2000/01/rdf-schema#subClassOf']:\n",
    "\n",
    "    divs = []\n",
    "    for c in tq.tqdm(data.chemical):\n",
    "        uri = URIRef(c)\n",
    "        \n",
    "        q = \"\"\"\n",
    "            select ?c where {\n",
    "                ?s rdfs:subClassOf* ?c .\n",
    "                ?c rdfs:subClassOf ?top .\n",
    "            }\"\"\"\n",
    "        \n",
    "        div = chem.query(q,initNs={'rdfs':Namespace('http://www.w3.org/2000/01/rdf-schema#')},\n",
    "                        initBindings={'s':URIRef(c),\n",
    "                                      'top':URIRef('http://purl.obolibrary.org/obo/CHEBI_72695')})\n",
    "        div = sorted([d[0] for d in div if not isinstance(d[0],BNode)])\n",
    "        \n",
    "        div = ','.join(div)\n",
    "        if div == ',': div = None\n",
    "\n",
    "        divs.append(str(div))\n",
    "\n",
    "    singles = set([d for d in divs if len(d.split(','))<2])\n",
    "    \n",
    "    divs = [for if len(d.split(','))>1]\n",
    "        \n",
    "    data[p.split('#')[-1]] = divs\n"
   ]
  },
  {
   "cell_type": "code",
   "execution_count": 18,
   "metadata": {},
   "outputs": [
    {
     "data": {
      "text/html": [
       "<div>\n",
       "<style scoped>\n",
       "    .dataframe tbody tr th:only-of-type {\n",
       "        vertical-align: middle;\n",
       "    }\n",
       "\n",
       "    .dataframe tbody tr th {\n",
       "        vertical-align: top;\n",
       "    }\n",
       "\n",
       "    .dataframe thead th {\n",
       "        text-align: right;\n",
       "    }\n",
       "</style>\n",
       "<table border=\"1\" class=\"dataframe\">\n",
       "  <thead>\n",
       "    <tr style=\"text-align: right;\">\n",
       "      <th></th>\n",
       "      <th>Unnamed: 0</th>\n",
       "      <th>species</th>\n",
       "      <th>chemical</th>\n",
       "      <th>conc (mol/L)</th>\n",
       "      <th>species_divisions</th>\n",
       "      <th>species_others</th>\n",
       "    </tr>\n",
       "    <tr>\n",
       "      <th>subClassOf</th>\n",
       "      <th></th>\n",
       "      <th></th>\n",
       "      <th></th>\n",
       "      <th></th>\n",
       "      <th></th>\n",
       "      <th></th>\n",
       "    </tr>\n",
       "  </thead>\n",
       "  <tbody>\n",
       "    <tr>\n",
       "      <th></th>\n",
       "      <td>5533</td>\n",
       "      <td>5533</td>\n",
       "      <td>5533</td>\n",
       "      <td>5533</td>\n",
       "      <td>5533</td>\n",
       "      <td>5533</td>\n",
       "    </tr>\n",
       "    <tr>\n",
       "      <th>http://purl.obolibrary.org/obo/CHEBI_134179</th>\n",
       "      <td>272</td>\n",
       "      <td>272</td>\n",
       "      <td>272</td>\n",
       "      <td>272</td>\n",
       "      <td>272</td>\n",
       "      <td>272</td>\n",
       "    </tr>\n",
       "    <tr>\n",
       "      <th>http://purl.obolibrary.org/obo/CHEBI_134179,http://purl.obolibrary.org/obo/CHEBI_33832</th>\n",
       "      <td>103</td>\n",
       "      <td>103</td>\n",
       "      <td>103</td>\n",
       "      <td>103</td>\n",
       "      <td>103</td>\n",
       "      <td>103</td>\n",
       "    </tr>\n",
       "    <tr>\n",
       "      <th>http://purl.obolibrary.org/obo/CHEBI_134179,http://purl.obolibrary.org/obo/CHEBI_35716</th>\n",
       "      <td>1</td>\n",
       "      <td>1</td>\n",
       "      <td>1</td>\n",
       "      <td>1</td>\n",
       "      <td>1</td>\n",
       "      <td>1</td>\n",
       "    </tr>\n",
       "    <tr>\n",
       "      <th>http://purl.obolibrary.org/obo/CHEBI_134179,http://purl.obolibrary.org/obo/CHEBI_36587</th>\n",
       "      <td>54</td>\n",
       "      <td>54</td>\n",
       "      <td>54</td>\n",
       "      <td>54</td>\n",
       "      <td>54</td>\n",
       "      <td>54</td>\n",
       "    </tr>\n",
       "    <tr>\n",
       "      <th>http://purl.obolibrary.org/obo/CHEBI_134179,http://purl.obolibrary.org/obo/CHEBI_73474</th>\n",
       "      <td>2</td>\n",
       "      <td>2</td>\n",
       "      <td>2</td>\n",
       "      <td>2</td>\n",
       "      <td>2</td>\n",
       "      <td>2</td>\n",
       "    </tr>\n",
       "    <tr>\n",
       "      <th>http://purl.obolibrary.org/obo/CHEBI_33832</th>\n",
       "      <td>1478</td>\n",
       "      <td>1478</td>\n",
       "      <td>1478</td>\n",
       "      <td>1478</td>\n",
       "      <td>1478</td>\n",
       "      <td>1478</td>\n",
       "    </tr>\n",
       "    <tr>\n",
       "      <th>http://purl.obolibrary.org/obo/CHEBI_33832,http://purl.obolibrary.org/obo/CHEBI_35716</th>\n",
       "      <td>44</td>\n",
       "      <td>44</td>\n",
       "      <td>44</td>\n",
       "      <td>44</td>\n",
       "      <td>44</td>\n",
       "      <td>44</td>\n",
       "    </tr>\n",
       "    <tr>\n",
       "      <th>http://purl.obolibrary.org/obo/CHEBI_33832,http://purl.obolibrary.org/obo/CHEBI_36587</th>\n",
       "      <td>586</td>\n",
       "      <td>586</td>\n",
       "      <td>586</td>\n",
       "      <td>586</td>\n",
       "      <td>586</td>\n",
       "      <td>586</td>\n",
       "    </tr>\n",
       "    <tr>\n",
       "      <th>http://purl.obolibrary.org/obo/CHEBI_35716</th>\n",
       "      <td>138</td>\n",
       "      <td>138</td>\n",
       "      <td>138</td>\n",
       "      <td>138</td>\n",
       "      <td>138</td>\n",
       "      <td>138</td>\n",
       "    </tr>\n",
       "    <tr>\n",
       "      <th>http://purl.obolibrary.org/obo/CHEBI_36587</th>\n",
       "      <td>239</td>\n",
       "      <td>239</td>\n",
       "      <td>239</td>\n",
       "      <td>239</td>\n",
       "      <td>239</td>\n",
       "      <td>239</td>\n",
       "    </tr>\n",
       "    <tr>\n",
       "      <th>http://purl.obolibrary.org/obo/CHEBI_51151</th>\n",
       "      <td>2</td>\n",
       "      <td>2</td>\n",
       "      <td>2</td>\n",
       "      <td>2</td>\n",
       "      <td>2</td>\n",
       "      <td>2</td>\n",
       "    </tr>\n",
       "  </tbody>\n",
       "</table>\n",
       "</div>"
      ],
      "text/plain": [
       "                                                    Unnamed: 0  species  \\\n",
       "subClassOf                                                                \n",
       "                                                          5533     5533   \n",
       "http://purl.obolibrary.org/obo/CHEBI_134179                272      272   \n",
       "http://purl.obolibrary.org/obo/CHEBI_134179,htt...         103      103   \n",
       "http://purl.obolibrary.org/obo/CHEBI_134179,htt...           1        1   \n",
       "http://purl.obolibrary.org/obo/CHEBI_134179,htt...          54       54   \n",
       "http://purl.obolibrary.org/obo/CHEBI_134179,htt...           2        2   \n",
       "http://purl.obolibrary.org/obo/CHEBI_33832                1478     1478   \n",
       "http://purl.obolibrary.org/obo/CHEBI_33832,http...          44       44   \n",
       "http://purl.obolibrary.org/obo/CHEBI_33832,http...         586      586   \n",
       "http://purl.obolibrary.org/obo/CHEBI_35716                 138      138   \n",
       "http://purl.obolibrary.org/obo/CHEBI_36587                 239      239   \n",
       "http://purl.obolibrary.org/obo/CHEBI_51151                   2        2   \n",
       "\n",
       "                                                    chemical  conc (mol/L)  \\\n",
       "subClassOf                                                                   \n",
       "                                                        5533          5533   \n",
       "http://purl.obolibrary.org/obo/CHEBI_134179              272           272   \n",
       "http://purl.obolibrary.org/obo/CHEBI_134179,htt...       103           103   \n",
       "http://purl.obolibrary.org/obo/CHEBI_134179,htt...         1             1   \n",
       "http://purl.obolibrary.org/obo/CHEBI_134179,htt...        54            54   \n",
       "http://purl.obolibrary.org/obo/CHEBI_134179,htt...         2             2   \n",
       "http://purl.obolibrary.org/obo/CHEBI_33832              1478          1478   \n",
       "http://purl.obolibrary.org/obo/CHEBI_33832,http...        44            44   \n",
       "http://purl.obolibrary.org/obo/CHEBI_33832,http...       586           586   \n",
       "http://purl.obolibrary.org/obo/CHEBI_35716               138           138   \n",
       "http://purl.obolibrary.org/obo/CHEBI_36587               239           239   \n",
       "http://purl.obolibrary.org/obo/CHEBI_51151                 2             2   \n",
       "\n",
       "                                                    species_divisions  \\\n",
       "subClassOf                                                              \n",
       "                                                                 5533   \n",
       "http://purl.obolibrary.org/obo/CHEBI_134179                       272   \n",
       "http://purl.obolibrary.org/obo/CHEBI_134179,htt...                103   \n",
       "http://purl.obolibrary.org/obo/CHEBI_134179,htt...                  1   \n",
       "http://purl.obolibrary.org/obo/CHEBI_134179,htt...                 54   \n",
       "http://purl.obolibrary.org/obo/CHEBI_134179,htt...                  2   \n",
       "http://purl.obolibrary.org/obo/CHEBI_33832                       1478   \n",
       "http://purl.obolibrary.org/obo/CHEBI_33832,http...                 44   \n",
       "http://purl.obolibrary.org/obo/CHEBI_33832,http...                586   \n",
       "http://purl.obolibrary.org/obo/CHEBI_35716                        138   \n",
       "http://purl.obolibrary.org/obo/CHEBI_36587                        239   \n",
       "http://purl.obolibrary.org/obo/CHEBI_51151                          2   \n",
       "\n",
       "                                                    species_others  \n",
       "subClassOf                                                          \n",
       "                                                              5533  \n",
       "http://purl.obolibrary.org/obo/CHEBI_134179                    272  \n",
       "http://purl.obolibrary.org/obo/CHEBI_134179,htt...             103  \n",
       "http://purl.obolibrary.org/obo/CHEBI_134179,htt...               1  \n",
       "http://purl.obolibrary.org/obo/CHEBI_134179,htt...              54  \n",
       "http://purl.obolibrary.org/obo/CHEBI_134179,htt...               2  \n",
       "http://purl.obolibrary.org/obo/CHEBI_33832                    1478  \n",
       "http://purl.obolibrary.org/obo/CHEBI_33832,http...              44  \n",
       "http://purl.obolibrary.org/obo/CHEBI_33832,http...             586  \n",
       "http://purl.obolibrary.org/obo/CHEBI_35716                     138  \n",
       "http://purl.obolibrary.org/obo/CHEBI_36587                     239  \n",
       "http://purl.obolibrary.org/obo/CHEBI_51151                       2  "
      ]
     },
     "execution_count": 18,
     "metadata": {},
     "output_type": "execute_result"
    }
   ],
   "source": [
    "data.groupby('subClassOf').count()"
   ]
  },
  {
   "cell_type": "code",
   "execution_count": 35,
   "metadata": {},
   "outputs": [],
   "source": [
    "import sys\n",
    "from SPARQLWrapper import SPARQLWrapper, JSON\n",
    "\n",
    "endpoint_url = \"https://query.wikidata.org/sparql\"\n",
    "\n",
    "query = \"\"\"select ?cas ?smiles where {\n",
    "  [] wdt:P233 ?smiles ;\n",
    "     wdt:P231 ?cas .\n",
    "}\"\"\"\n",
    "\n",
    "def get_results(endpoint_url, query):\n",
    "    user_agent = \"WDQS-example Python/%s.%s\" % (sys.version_info[0], sys.version_info[1])\n",
    "    # TODO adjust user agent; see https://w.wiki/CX6\n",
    "    sparql = SPARQLWrapper(endpoint_url, agent=user_agent)\n",
    "    sparql.setQuery(query)\n",
    "    sparql.setReturnFormat(JSON)\n",
    "    return sparql.query().convert()\n",
    "\n",
    "\n",
    "results = get_results(endpoint_url, query)\n",
    "\n",
    "cas_to_smiles = {}\n",
    "\n",
    "for result in results[\"results\"][\"bindings\"]:\n",
    "    cas = result['cas']['value'].replace('-','')\n",
    "    smiles = result['smiles']['value']\n",
    "    cas_to_smiles[cas] = smiles"
   ]
  },
  {
   "cell_type": "code",
   "execution_count": 40,
   "metadata": {},
   "outputs": [],
   "source": [
    "data['smiles']=list(map(lambda x:cas_to_smiles[x.split('/')[-1]] if x.split('/')[-1] in cas_to_smiles else None, data.chemical))"
   ]
  },
  {
   "cell_type": "code",
   "execution_count": 43,
   "metadata": {},
   "outputs": [
    {
     "name": "stdout",
     "output_type": "stream",
     "text": [
      "fatal: destination path 'pySMIfp' already exists and is not an empty directory.\r\n"
     ]
    }
   ],
   "source": [
    "!git clone https://github.com/Erik-BM/pySMIfp"
   ]
  },
  {
   "cell_type": "code",
   "execution_count": 44,
   "metadata": {},
   "outputs": [],
   "source": [
    "from pySMIfp.smiles_fingerprints import smiles_fingerprint"
   ]
  },
  {
   "cell_type": "code",
   "execution_count": 81,
   "metadata": {},
   "outputs": [],
   "source": [
    "smiles_fp = data['smiles'].apply(lambda x: smiles_fingerprint(x) if x else None)"
   ]
  },
  {
   "cell_type": "code",
   "execution_count": 82,
   "metadata": {},
   "outputs": [],
   "source": [
    "idx = [i for i,e in enumerate(smiles_fp.values) if e is not None]"
   ]
  },
  {
   "cell_type": "code",
   "execution_count": 83,
   "metadata": {},
   "outputs": [],
   "source": [
    "smiles_fp = [np.asarray(s) for s in smiles_fp.values if s is not None]"
   ]
  },
  {
   "cell_type": "code",
   "execution_count": 123,
   "metadata": {},
   "outputs": [
    {
     "data": {
      "text/plain": [
       "KMeans(n_clusters=5)"
      ]
     },
     "execution_count": 123,
     "metadata": {},
     "output_type": "execute_result"
    }
   ],
   "source": [
    "from sklearn.cluster import KMeans\n",
    "kmeans = KMeans(5)\n",
    "kmeans.fit(np.unique(smiles_fp,axis=0))"
   ]
  },
  {
   "cell_type": "code",
   "execution_count": 107,
   "metadata": {},
   "outputs": [],
   "source": [
    "data['smiles_clusters'] = -1"
   ]
  },
  {
   "cell_type": "code",
   "execution_count": 124,
   "metadata": {},
   "outputs": [],
   "source": [
    "data.loc[idx,'smiles_clusters'] = kmeans.predict(smiles_fp)"
   ]
  },
  {
   "cell_type": "code",
   "execution_count": 125,
   "metadata": {},
   "outputs": [
    {
     "data": {
      "text/html": [
       "<div>\n",
       "<style scoped>\n",
       "    .dataframe tbody tr th:only-of-type {\n",
       "        vertical-align: middle;\n",
       "    }\n",
       "\n",
       "    .dataframe tbody tr th {\n",
       "        vertical-align: top;\n",
       "    }\n",
       "\n",
       "    .dataframe thead th {\n",
       "        text-align: right;\n",
       "    }\n",
       "</style>\n",
       "<table border=\"1\" class=\"dataframe\">\n",
       "  <thead>\n",
       "    <tr style=\"text-align: right;\">\n",
       "      <th></th>\n",
       "      <th>Unnamed: 0</th>\n",
       "      <th>species</th>\n",
       "      <th>chemical</th>\n",
       "      <th>conc (mol/L)</th>\n",
       "      <th>species_divisions</th>\n",
       "      <th>species_others</th>\n",
       "      <th>subClassOf</th>\n",
       "      <th>smiles</th>\n",
       "    </tr>\n",
       "    <tr>\n",
       "      <th>smiles_clusters</th>\n",
       "      <th></th>\n",
       "      <th></th>\n",
       "      <th></th>\n",
       "      <th></th>\n",
       "      <th></th>\n",
       "      <th></th>\n",
       "      <th></th>\n",
       "      <th></th>\n",
       "    </tr>\n",
       "  </thead>\n",
       "  <tbody>\n",
       "    <tr>\n",
       "      <th>-1</th>\n",
       "      <td>76</td>\n",
       "      <td>76</td>\n",
       "      <td>76</td>\n",
       "      <td>76</td>\n",
       "      <td>76</td>\n",
       "      <td>76</td>\n",
       "      <td>76</td>\n",
       "      <td>0</td>\n",
       "    </tr>\n",
       "    <tr>\n",
       "      <th>0</th>\n",
       "      <td>710</td>\n",
       "      <td>710</td>\n",
       "      <td>710</td>\n",
       "      <td>710</td>\n",
       "      <td>710</td>\n",
       "      <td>710</td>\n",
       "      <td>710</td>\n",
       "      <td>710</td>\n",
       "    </tr>\n",
       "    <tr>\n",
       "      <th>1</th>\n",
       "      <td>364</td>\n",
       "      <td>364</td>\n",
       "      <td>364</td>\n",
       "      <td>364</td>\n",
       "      <td>364</td>\n",
       "      <td>364</td>\n",
       "      <td>364</td>\n",
       "      <td>364</td>\n",
       "    </tr>\n",
       "    <tr>\n",
       "      <th>2</th>\n",
       "      <td>2295</td>\n",
       "      <td>2295</td>\n",
       "      <td>2295</td>\n",
       "      <td>2295</td>\n",
       "      <td>2295</td>\n",
       "      <td>2295</td>\n",
       "      <td>2295</td>\n",
       "      <td>2295</td>\n",
       "    </tr>\n",
       "    <tr>\n",
       "      <th>3</th>\n",
       "      <td>14</td>\n",
       "      <td>14</td>\n",
       "      <td>14</td>\n",
       "      <td>14</td>\n",
       "      <td>14</td>\n",
       "      <td>14</td>\n",
       "      <td>14</td>\n",
       "      <td>14</td>\n",
       "    </tr>\n",
       "    <tr>\n",
       "      <th>4</th>\n",
       "      <td>4993</td>\n",
       "      <td>4993</td>\n",
       "      <td>4993</td>\n",
       "      <td>4993</td>\n",
       "      <td>4993</td>\n",
       "      <td>4993</td>\n",
       "      <td>4993</td>\n",
       "      <td>4993</td>\n",
       "    </tr>\n",
       "  </tbody>\n",
       "</table>\n",
       "</div>"
      ],
      "text/plain": [
       "                 Unnamed: 0  species  chemical  conc (mol/L)  \\\n",
       "smiles_clusters                                                \n",
       "-1                       76       76        76            76   \n",
       " 0                      710      710       710           710   \n",
       " 1                      364      364       364           364   \n",
       " 2                     2295     2295      2295          2295   \n",
       " 3                       14       14        14            14   \n",
       " 4                     4993     4993      4993          4993   \n",
       "\n",
       "                 species_divisions  species_others  subClassOf  smiles  \n",
       "smiles_clusters                                                         \n",
       "-1                              76              76          76       0  \n",
       " 0                             710             710         710     710  \n",
       " 1                             364             364         364     364  \n",
       " 2                            2295            2295        2295    2295  \n",
       " 3                              14              14          14      14  \n",
       " 4                            4993            4993        4993    4993  "
      ]
     },
     "execution_count": 125,
     "metadata": {},
     "output_type": "execute_result"
    }
   ],
   "source": [
    "data.groupby('smiles_clusters').count()"
   ]
  },
  {
   "cell_type": "code",
   "execution_count": 126,
   "metadata": {},
   "outputs": [],
   "source": [
    "data.to_csv('effect_data_extra.csv')"
   ]
  },
  {
   "cell_type": "code",
   "execution_count": null,
   "metadata": {},
   "outputs": [],
   "source": []
  }
 ],
 "metadata": {
  "kernelspec": {
   "display_name": "Python 3",
   "language": "python",
   "name": "python3"
  },
  "language_info": {
   "codemirror_mode": {
    "name": "ipython",
    "version": 3
   },
   "file_extension": ".py",
   "mimetype": "text/x-python",
   "name": "python",
   "nbconvert_exporter": "python",
   "pygments_lexer": "ipython3",
   "version": "3.8.5"
  }
 },
 "nbformat": 4,
 "nbformat_minor": 4
}
