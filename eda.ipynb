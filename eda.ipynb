{
 "cells": [
  {
   "cell_type": "code",
   "execution_count": 28,
   "metadata": {},
   "outputs": [],
   "source": [
    "import pandas as pd\n",
    "import numpy as np\n",
    "ONLY_ORGANIC = True\n",
    "data = pd.read_csv('only_organic_effect_data.csv' if ONLY_ORGANIC else 'effect_data.csv',index_col=0)"
   ]
  },
  {
   "cell_type": "code",
   "execution_count": 29,
   "metadata": {},
   "outputs": [
    {
     "data": {
      "text/html": [
       "<div>\n",
       "<style scoped>\n",
       "    .dataframe tbody tr th:only-of-type {\n",
       "        vertical-align: middle;\n",
       "    }\n",
       "\n",
       "    .dataframe tbody tr th {\n",
       "        vertical-align: top;\n",
       "    }\n",
       "\n",
       "    .dataframe thead th {\n",
       "        text-align: right;\n",
       "    }\n",
       "</style>\n",
       "<table border=\"1\" class=\"dataframe\">\n",
       "  <thead>\n",
       "    <tr style=\"text-align: right;\">\n",
       "      <th></th>\n",
       "      <th>species</th>\n",
       "      <th>chemical</th>\n",
       "      <th>conc (mol/L)</th>\n",
       "    </tr>\n",
       "  </thead>\n",
       "  <tbody>\n",
       "    <tr>\n",
       "      <th>0</th>\n",
       "      <td>https://cfpub.epa.gov/ecotox/taxon/1</td>\n",
       "      <td>https://cfpub.epa.gov/ecotox/cas/100414</td>\n",
       "      <td>3.398977</td>\n",
       "    </tr>\n",
       "    <tr>\n",
       "      <th>1</th>\n",
       "      <td>https://cfpub.epa.gov/ecotox/taxon/1</td>\n",
       "      <td>https://cfpub.epa.gov/ecotox/cas/100425</td>\n",
       "      <td>3.512146</td>\n",
       "    </tr>\n",
       "    <tr>\n",
       "      <th>2</th>\n",
       "      <td>https://cfpub.epa.gov/ecotox/taxon/1</td>\n",
       "      <td>https://cfpub.epa.gov/ecotox/cas/100447</td>\n",
       "      <td>4.237130</td>\n",
       "    </tr>\n",
       "    <tr>\n",
       "      <th>3</th>\n",
       "      <td>https://cfpub.epa.gov/ecotox/taxon/1</td>\n",
       "      <td>https://cfpub.epa.gov/ecotox/cas/100516</td>\n",
       "      <td>2.147166</td>\n",
       "    </tr>\n",
       "    <tr>\n",
       "      <th>4</th>\n",
       "      <td>https://cfpub.epa.gov/ecotox/taxon/1</td>\n",
       "      <td>https://cfpub.epa.gov/ecotox/cas/100527</td>\n",
       "      <td>3.610505</td>\n",
       "    </tr>\n",
       "    <tr>\n",
       "      <th>...</th>\n",
       "      <td>...</td>\n",
       "      <td>...</td>\n",
       "      <td>...</td>\n",
       "    </tr>\n",
       "    <tr>\n",
       "      <th>4426</th>\n",
       "      <td>https://cfpub.epa.gov/ecotox/taxon/9943</td>\n",
       "      <td>https://cfpub.epa.gov/ecotox/cas/110918</td>\n",
       "      <td>3.062257</td>\n",
       "    </tr>\n",
       "    <tr>\n",
       "      <th>4427</th>\n",
       "      <td>https://cfpub.epa.gov/ecotox/taxon/997</td>\n",
       "      <td>https://cfpub.epa.gov/ecotox/cas/148243</td>\n",
       "      <td>0.582372</td>\n",
       "    </tr>\n",
       "    <tr>\n",
       "      <th>4428</th>\n",
       "      <td>https://cfpub.epa.gov/ecotox/taxon/997</td>\n",
       "      <td>https://cfpub.epa.gov/ecotox/cas/50293</td>\n",
       "      <td>6.004827</td>\n",
       "    </tr>\n",
       "    <tr>\n",
       "      <th>4429</th>\n",
       "      <td>https://cfpub.epa.gov/ecotox/taxon/997</td>\n",
       "      <td>https://cfpub.epa.gov/ecotox/cas/52645531</td>\n",
       "      <td>6.312399</td>\n",
       "    </tr>\n",
       "    <tr>\n",
       "      <th>4430</th>\n",
       "      <td>https://cfpub.epa.gov/ecotox/taxon/997</td>\n",
       "      <td>https://cfpub.epa.gov/ecotox/cas/62737</td>\n",
       "      <td>4.535390</td>\n",
       "    </tr>\n",
       "  </tbody>\n",
       "</table>\n",
       "<p>4431 rows × 3 columns</p>\n",
       "</div>"
      ],
      "text/plain": [
       "                                      species  \\\n",
       "0        https://cfpub.epa.gov/ecotox/taxon/1   \n",
       "1        https://cfpub.epa.gov/ecotox/taxon/1   \n",
       "2        https://cfpub.epa.gov/ecotox/taxon/1   \n",
       "3        https://cfpub.epa.gov/ecotox/taxon/1   \n",
       "4        https://cfpub.epa.gov/ecotox/taxon/1   \n",
       "...                                       ...   \n",
       "4426  https://cfpub.epa.gov/ecotox/taxon/9943   \n",
       "4427   https://cfpub.epa.gov/ecotox/taxon/997   \n",
       "4428   https://cfpub.epa.gov/ecotox/taxon/997   \n",
       "4429   https://cfpub.epa.gov/ecotox/taxon/997   \n",
       "4430   https://cfpub.epa.gov/ecotox/taxon/997   \n",
       "\n",
       "                                       chemical  conc (mol/L)  \n",
       "0       https://cfpub.epa.gov/ecotox/cas/100414      3.398977  \n",
       "1       https://cfpub.epa.gov/ecotox/cas/100425      3.512146  \n",
       "2       https://cfpub.epa.gov/ecotox/cas/100447      4.237130  \n",
       "3       https://cfpub.epa.gov/ecotox/cas/100516      2.147166  \n",
       "4       https://cfpub.epa.gov/ecotox/cas/100527      3.610505  \n",
       "...                                         ...           ...  \n",
       "4426    https://cfpub.epa.gov/ecotox/cas/110918      3.062257  \n",
       "4427    https://cfpub.epa.gov/ecotox/cas/148243      0.582372  \n",
       "4428     https://cfpub.epa.gov/ecotox/cas/50293      6.004827  \n",
       "4429  https://cfpub.epa.gov/ecotox/cas/52645531      6.312399  \n",
       "4430     https://cfpub.epa.gov/ecotox/cas/62737      4.535390  \n",
       "\n",
       "[4431 rows x 3 columns]"
      ]
     },
     "execution_count": 29,
     "metadata": {},
     "output_type": "execute_result"
    }
   ],
   "source": [
    "data"
   ]
  },
  {
   "cell_type": "code",
   "execution_count": 57,
   "metadata": {},
   "outputs": [
    {
     "data": {
      "text/plain": [
       "<AxesSubplot:>"
      ]
     },
     "execution_count": 57,
     "metadata": {},
     "output_type": "execute_result"
    },
    {
     "data": {
      "image/png": "[encoded data removed]",
      "text/plain": [
       "<Figure size 432x288 with 1 Axes>"
      ]
     },
     "metadata": {
      "needs_background": "light"
     },
     "output_type": "display_data"
    }
   ],
   "source": [
    "data.groupby('species').count().chemical.hist(bins=30,log=True)"
   ]
  },
  {
   "cell_type": "code",
   "execution_count": 58,
   "metadata": {},
   "outputs": [
    {
     "data": {
      "text/plain": [
       "<AxesSubplot:>"
      ]
     },
     "execution_count": 58,
     "metadata": {},
     "output_type": "execute_result"
    },
    {
     "data": {
      "image/png": "[encoded data removed]",
      "text/plain": [
       "<Figure size 432x288 with 1 Axes>"
      ]
     },
     "metadata": {
      "needs_background": "light"
     },
     "output_type": "display_data"
    }
   ],
   "source": [
    "data.groupby('chemical').count().species.hist(bins=30,log=True)"
   ]
  },
  {
   "cell_type": "code",
   "execution_count": 59,
   "metadata": {},
   "outputs": [
    {
     "data": {
      "text/plain": [
       "(4.146954748369991, 1.8141159210326503)"
      ]
     },
     "execution_count": 59,
     "metadata": {},
     "output_type": "execute_result"
    },
    {
     "data": {
      "image/png": "[encoded data removed]",
      "text/plain": [
       "<Figure size 432x288 with 1 Axes>"
      ]
     },
     "metadata": {
      "needs_background": "light"
     },
     "output_type": "display_data"
    }
   ],
   "source": [
    "data['conc (mol/L)'].hist(bins=30)\n",
    "data['conc (mol/L)'].mean(),data['conc (mol/L)'].std()"
   ]
  },
  {
   "cell_type": "code",
   "execution_count": 33,
   "metadata": {},
   "outputs": [],
   "source": [
    "mapping_species = {k:i for i,k in enumerate(data.species.unique())}\n",
    "mapping_chemical = {k:i for i,k in enumerate(data.chemical.unique())}"
   ]
  },
  {
   "cell_type": "code",
   "execution_count": 34,
   "metadata": {},
   "outputs": [],
   "source": [
    "M = np.zeros((len(mapping_species),len(mapping_chemical)))"
   ]
  },
  {
   "cell_type": "code",
   "execution_count": 35,
   "metadata": {},
   "outputs": [],
   "source": [
    "for i,j in zip(data.species,data.chemical):\n",
    "    i = mapping_species[i]\n",
    "    j = mapping_chemical[j]\n",
    "    M[i,j] = 1"
   ]
  },
  {
   "cell_type": "code",
   "execution_count": 36,
   "metadata": {},
   "outputs": [
    {
     "data": {
      "text/plain": [
       "(array([0., 1.]), array([465359,   4431]))"
      ]
     },
     "execution_count": 36,
     "metadata": {},
     "output_type": "execute_result"
    }
   ],
   "source": [
    "np.unique(M,return_counts=True)"
   ]
  },
  {
   "cell_type": "code",
   "execution_count": 37,
   "metadata": {},
   "outputs": [],
   "source": [
    "import networkx as nx\n",
    "\n",
    "G = nx.DiGraph()\n",
    "\n",
    "for s,c in zip(data.species,data.chemical):\n",
    "    G.add_edge(s,c)\n",
    "    G.add_edge(c,s)\n",
    "    \n",
    "edges_to_remove = []\n",
    "for edge in G.edges():\n",
    "    if (edge[1],edge[0]) in G.edges() and (edge[1],edge[0]) not in edges_to_remove:\n",
    "        edges_to_remove.append(edge)\n",
    "        \n",
    "for edge in edges_to_remove:\n",
    "    G.remove_edge(*edge)"
   ]
  },
  {
   "cell_type": "code",
   "execution_count": 38,
   "metadata": {},
   "outputs": [
    {
     "data": {
      "text/plain": [
       "(1521, 4431)"
      ]
     },
     "execution_count": 38,
     "metadata": {},
     "output_type": "execute_result"
    }
   ],
   "source": [
    "G.number_of_nodes(),G.number_of_edges()"
   ]
  },
  {
   "cell_type": "code",
   "execution_count": 39,
   "metadata": {},
   "outputs": [
    {
     "data": {
      "text/plain": [
       "['https://cfpub.epa.gov/ecotox/cas/108736',\n",
       " 'https://cfpub.epa.gov/ecotox/taxon/70',\n",
       " 'https://cfpub.epa.gov/ecotox/cas/123308',\n",
       " 'https://cfpub.epa.gov/ecotox/taxon/5156',\n",
       " 'https://cfpub.epa.gov/ecotox/cas/100663',\n",
       " 'https://cfpub.epa.gov/ecotox/taxon/4752',\n",
       " 'https://cfpub.epa.gov/ecotox/cas/95534',\n",
       " 'https://cfpub.epa.gov/ecotox/taxon/25',\n",
       " 'https://cfpub.epa.gov/ecotox/cas/106956',\n",
       " 'https://cfpub.epa.gov/ecotox/taxon/206',\n",
       " 'https://cfpub.epa.gov/ecotox/cas/107926',\n",
       " 'https://cfpub.epa.gov/ecotox/taxon/2',\n",
       " 'https://cfpub.epa.gov/ecotox/cas/120127',\n",
       " 'https://cfpub.epa.gov/ecotox/taxon/142',\n",
       " 'https://cfpub.epa.gov/ecotox/cas/479458',\n",
       " 'https://cfpub.epa.gov/ecotox/taxon/1196',\n",
       " 'https://cfpub.epa.gov/ecotox/cas/88891',\n",
       " 'https://cfpub.epa.gov/ecotox/taxon/109',\n",
       " 'https://cfpub.epa.gov/ecotox/cas/52315078',\n",
       " 'https://cfpub.epa.gov/ecotox/taxon/102',\n",
       " 'https://cfpub.epa.gov/ecotox/cas/52918635',\n",
       " 'https://cfpub.epa.gov/ecotox/taxon/1015',\n",
       " 'https://cfpub.epa.gov/ecotox/cas/121755',\n",
       " 'https://cfpub.epa.gov/ecotox/taxon/1']"
      ]
     },
     "execution_count": 39,
     "metadata": {},
     "output_type": "execute_result"
    }
   ],
   "source": [
    "nx.algorithms.dag.dag_longest_path(G)"
   ]
  },
  {
   "cell_type": "code",
   "execution_count": 40,
   "metadata": {},
   "outputs": [],
   "source": [
    "from rdflib import Graph, URIRef, BNode, Literal\n",
    "from rdflib.namespace import RDF, Namespace\n",
    "\n",
    "tax = Graph()\n",
    "tax.load('../TERA_OUTPUT/ecotox_taxonomy.nt',format='nt')\n",
    "\n",
    "chem = Graph()\n",
    "chem.load('only_organic_reduced_kgs/reduced_chebi.ttl' if ONLY_ORGANIC else 'reduced_kgs/reduced_chebi.ttl',format='ttl')\n"
   ]
  },
  {
   "cell_type": "code",
   "execution_count": 41,
   "metadata": {},
   "outputs": [],
   "source": [
    "#TODO add chemical and tax group exploration.\n",
    "\n",
    "other = ['https://cfpub.epa.gov/ecotox/group/StandardTestSpecies',\n",
    "        'https://cfpub.epa.gov/ecotox/group/U.S.Exotic/NuisanceSpecies',\n",
    "        'https://cfpub.epa.gov/ecotox/group/U.S.ThreatenedandEndangeredSpecies']\n",
    "\n",
    "divs = []\n",
    "others = []\n",
    "for s in data.species:\n",
    "    uri = URIRef(s)\n",
    "    div = sorted(list(map(str,tax.objects(subject=uri,predicate=URIRef('https://cfpub.epa.gov/ecotox/ecotoxGroup')))))\n",
    "    idx = [div.index(o) for o in other if o in div]\n",
    "    \n",
    "    ot = ','.join(div[i] for i in idx)\n",
    "    if ot == ',': ot = None\n",
    "    \n",
    "    div = [div[i] for i in range(len(div)) if i not in idx][0]\n",
    "    \n",
    "    others.append(ot)\n",
    "    divs.append(div)\n",
    "\n",
    "data['species_divisions'] = divs\n",
    "data['species_others'] = others\n"
   ]
  },
  {
   "cell_type": "code",
   "execution_count": 42,
   "metadata": {},
   "outputs": [
    {
     "data": {
      "text/html": [
       "<div>\n",
       "<style scoped>\n",
       "    .dataframe tbody tr th:only-of-type {\n",
       "        vertical-align: middle;\n",
       "    }\n",
       "\n",
       "    .dataframe tbody tr th {\n",
       "        vertical-align: top;\n",
       "    }\n",
       "\n",
       "    .dataframe thead th {\n",
       "        text-align: right;\n",
       "    }\n",
       "</style>\n",
       "<table border=\"1\" class=\"dataframe\">\n",
       "  <thead>\n",
       "    <tr style=\"text-align: right;\">\n",
       "      <th></th>\n",
       "      <th>species</th>\n",
       "      <th>chemical</th>\n",
       "      <th>conc (mol/L)</th>\n",
       "      <th>species_others</th>\n",
       "    </tr>\n",
       "    <tr>\n",
       "      <th>species_divisions</th>\n",
       "      <th></th>\n",
       "      <th></th>\n",
       "      <th></th>\n",
       "      <th></th>\n",
       "    </tr>\n",
       "  </thead>\n",
       "  <tbody>\n",
       "    <tr>\n",
       "      <th>https://cfpub.epa.gov/ecotox/group/Algae</th>\n",
       "      <td>12</td>\n",
       "      <td>12</td>\n",
       "      <td>12</td>\n",
       "      <td>12</td>\n",
       "    </tr>\n",
       "    <tr>\n",
       "      <th>https://cfpub.epa.gov/ecotox/group/Amphibians</th>\n",
       "      <td>214</td>\n",
       "      <td>214</td>\n",
       "      <td>214</td>\n",
       "      <td>214</td>\n",
       "    </tr>\n",
       "    <tr>\n",
       "      <th>https://cfpub.epa.gov/ecotox/group/Birds</th>\n",
       "      <td>2</td>\n",
       "      <td>2</td>\n",
       "      <td>2</td>\n",
       "      <td>2</td>\n",
       "    </tr>\n",
       "    <tr>\n",
       "      <th>https://cfpub.epa.gov/ecotox/group/Crustaceans</th>\n",
       "      <td>1020</td>\n",
       "      <td>1020</td>\n",
       "      <td>1020</td>\n",
       "      <td>1020</td>\n",
       "    </tr>\n",
       "    <tr>\n",
       "      <th>https://cfpub.epa.gov/ecotox/group/Ferns</th>\n",
       "      <td>1</td>\n",
       "      <td>1</td>\n",
       "      <td>1</td>\n",
       "      <td>1</td>\n",
       "    </tr>\n",
       "    <tr>\n",
       "      <th>https://cfpub.epa.gov/ecotox/group/Fish</th>\n",
       "      <td>1634</td>\n",
       "      <td>1634</td>\n",
       "      <td>1634</td>\n",
       "      <td>1634</td>\n",
       "    </tr>\n",
       "    <tr>\n",
       "      <th>https://cfpub.epa.gov/ecotox/group/Insects/Spiders</th>\n",
       "      <td>995</td>\n",
       "      <td>995</td>\n",
       "      <td>995</td>\n",
       "      <td>995</td>\n",
       "    </tr>\n",
       "    <tr>\n",
       "      <th>https://cfpub.epa.gov/ecotox/group/Invertebrates</th>\n",
       "      <td>90</td>\n",
       "      <td>90</td>\n",
       "      <td>90</td>\n",
       "      <td>90</td>\n",
       "    </tr>\n",
       "    <tr>\n",
       "      <th>https://cfpub.epa.gov/ecotox/group/Miscellaneous</th>\n",
       "      <td>2</td>\n",
       "      <td>2</td>\n",
       "      <td>2</td>\n",
       "      <td>2</td>\n",
       "    </tr>\n",
       "    <tr>\n",
       "      <th>https://cfpub.epa.gov/ecotox/group/Molluscs</th>\n",
       "      <td>278</td>\n",
       "      <td>278</td>\n",
       "      <td>278</td>\n",
       "      <td>278</td>\n",
       "    </tr>\n",
       "    <tr>\n",
       "      <th>https://cfpub.epa.gov/ecotox/group/Worms</th>\n",
       "      <td>183</td>\n",
       "      <td>183</td>\n",
       "      <td>183</td>\n",
       "      <td>183</td>\n",
       "    </tr>\n",
       "  </tbody>\n",
       "</table>\n",
       "</div>"
      ],
      "text/plain": [
       "                                                    species  chemical  \\\n",
       "species_divisions                                                       \n",
       "https://cfpub.epa.gov/ecotox/group/Algae                 12        12   \n",
       "https://cfpub.epa.gov/ecotox/group/Amphibians           214       214   \n",
       "https://cfpub.epa.gov/ecotox/group/Birds                  2         2   \n",
       "https://cfpub.epa.gov/ecotox/group/Crustaceans         1020      1020   \n",
       "https://cfpub.epa.gov/ecotox/group/Ferns                  1         1   \n",
       "https://cfpub.epa.gov/ecotox/group/Fish                1634      1634   \n",
       "https://cfpub.epa.gov/ecotox/group/Insects/Spiders      995       995   \n",
       "https://cfpub.epa.gov/ecotox/group/Invertebrates         90        90   \n",
       "https://cfpub.epa.gov/ecotox/group/Miscellaneous          2         2   \n",
       "https://cfpub.epa.gov/ecotox/group/Molluscs             278       278   \n",
       "https://cfpub.epa.gov/ecotox/group/Worms                183       183   \n",
       "\n",
       "                                                    conc (mol/L)  \\\n",
       "species_divisions                                                  \n",
       "https://cfpub.epa.gov/ecotox/group/Algae                      12   \n",
       "https://cfpub.epa.gov/ecotox/group/Amphibians                214   \n",
       "https://cfpub.epa.gov/ecotox/group/Birds                       2   \n",
       "https://cfpub.epa.gov/ecotox/group/Crustaceans              1020   \n",
       "https://cfpub.epa.gov/ecotox/group/Ferns                       1   \n",
       "https://cfpub.epa.gov/ecotox/group/Fish                     1634   \n",
       "https://cfpub.epa.gov/ecotox/group/Insects/Spiders           995   \n",
       "https://cfpub.epa.gov/ecotox/group/Invertebrates              90   \n",
       "https://cfpub.epa.gov/ecotox/group/Miscellaneous               2   \n",
       "https://cfpub.epa.gov/ecotox/group/Molluscs                  278   \n",
       "https://cfpub.epa.gov/ecotox/group/Worms                     183   \n",
       "\n",
       "                                                    species_others  \n",
       "species_divisions                                                   \n",
       "https://cfpub.epa.gov/ecotox/group/Algae                        12  \n",
       "https://cfpub.epa.gov/ecotox/group/Amphibians                  214  \n",
       "https://cfpub.epa.gov/ecotox/group/Birds                         2  \n",
       "https://cfpub.epa.gov/ecotox/group/Crustaceans                1020  \n",
       "https://cfpub.epa.gov/ecotox/group/Ferns                         1  \n",
       "https://cfpub.epa.gov/ecotox/group/Fish                       1634  \n",
       "https://cfpub.epa.gov/ecotox/group/Insects/Spiders             995  \n",
       "https://cfpub.epa.gov/ecotox/group/Invertebrates                90  \n",
       "https://cfpub.epa.gov/ecotox/group/Miscellaneous                 2  \n",
       "https://cfpub.epa.gov/ecotox/group/Molluscs                    278  \n",
       "https://cfpub.epa.gov/ecotox/group/Worms                       183  "
      ]
     },
     "execution_count": 42,
     "metadata": {},
     "output_type": "execute_result"
    }
   ],
   "source": [
    "data.groupby('species_divisions').count()"
   ]
  },
  {
   "cell_type": "code",
   "execution_count": 43,
   "metadata": {},
   "outputs": [
    {
     "data": {
      "application/vnd.jupyter.widget-view+json": {
       "model_id": "266e6fd415d747d790083d4e4aa2f04e",
       "version_major": 2,
       "version_minor": 0
      },
      "text/plain": [
       "HBox(children=(FloatProgress(value=0.0, max=4431.0), HTML(value='')))"
      ]
     },
     "metadata": {},
     "output_type": "display_data"
    },
    {
     "name": "stdout",
     "output_type": "stream",
     "text": [
      "\n"
     ]
    }
   ],
   "source": [
    "import tqdm.notebook as tq\n",
    "\n",
    "\n",
    "for p in ['http://www.w3.org/2000/01/rdf-schema#subClassOf']:\n",
    "\n",
    "    divs = []\n",
    "    for c in tq.tqdm(data.chemical):\n",
    "        uri = URIRef(c)\n",
    "        \n",
    "        q = \"\"\"\n",
    "            select ?c where {\n",
    "                ?s rdfs:subClassOf* ?c .\n",
    "                ?c rdfs:subClassOf ?top .\n",
    "            }\"\"\"\n",
    "        \n",
    "        div = chem.query(q,initNs={'rdfs':Namespace('http://www.w3.org/2000/01/rdf-schema#')},\n",
    "                        initBindings={'s':URIRef(c),\n",
    "                                      'top':URIRef('http://purl.obolibrary.org/obo/CHEBI_72695')}) #organi\n",
    "        div = sorted([d[0] for d in div if not isinstance(d[0],BNode)])\n",
    "        \n",
    "        div = ','.join(div)\n",
    "        if div == ',': div = None\n",
    "\n",
    "        divs.append(str(div))\n",
    "\n",
    "    singles = set([d for d in divs if len(d.split(','))<2])\n",
    "    \n",
    "    divs = [d.split(',')[0] if len(d.split(','))>1 else d for d in divs]\n",
    "        \n",
    "    data[p.split('#')[-1]] = divs\n"
   ]
  },
  {
   "cell_type": "code",
   "execution_count": 44,
   "metadata": {},
   "outputs": [
    {
     "data": {
      "text/html": [
       "<div>\n",
       "<style scoped>\n",
       "    .dataframe tbody tr th:only-of-type {\n",
       "        vertical-align: middle;\n",
       "    }\n",
       "\n",
       "    .dataframe tbody tr th {\n",
       "        vertical-align: top;\n",
       "    }\n",
       "\n",
       "    .dataframe thead th {\n",
       "        text-align: right;\n",
       "    }\n",
       "</style>\n",
       "<table border=\"1\" class=\"dataframe\">\n",
       "  <thead>\n",
       "    <tr style=\"text-align: right;\">\n",
       "      <th></th>\n",
       "      <th>species</th>\n",
       "      <th>chemical</th>\n",
       "      <th>conc (mol/L)</th>\n",
       "      <th>species_divisions</th>\n",
       "      <th>species_others</th>\n",
       "    </tr>\n",
       "    <tr>\n",
       "      <th>subClassOf</th>\n",
       "      <th></th>\n",
       "      <th></th>\n",
       "      <th></th>\n",
       "      <th></th>\n",
       "      <th></th>\n",
       "    </tr>\n",
       "  </thead>\n",
       "  <tbody>\n",
       "    <tr>\n",
       "      <th></th>\n",
       "      <td>1222</td>\n",
       "      <td>1222</td>\n",
       "      <td>1222</td>\n",
       "      <td>1222</td>\n",
       "      <td>1222</td>\n",
       "    </tr>\n",
       "    <tr>\n",
       "      <th>http://purl.obolibrary.org/obo/CHEBI_134179</th>\n",
       "      <td>432</td>\n",
       "      <td>432</td>\n",
       "      <td>432</td>\n",
       "      <td>432</td>\n",
       "      <td>432</td>\n",
       "    </tr>\n",
       "    <tr>\n",
       "      <th>http://purl.obolibrary.org/obo/CHEBI_33832</th>\n",
       "      <td>2110</td>\n",
       "      <td>2110</td>\n",
       "      <td>2110</td>\n",
       "      <td>2110</td>\n",
       "      <td>2110</td>\n",
       "    </tr>\n",
       "    <tr>\n",
       "      <th>http://purl.obolibrary.org/obo/CHEBI_35716</th>\n",
       "      <td>138</td>\n",
       "      <td>138</td>\n",
       "      <td>138</td>\n",
       "      <td>138</td>\n",
       "      <td>138</td>\n",
       "    </tr>\n",
       "    <tr>\n",
       "      <th>http://purl.obolibrary.org/obo/CHEBI_36587</th>\n",
       "      <td>527</td>\n",
       "      <td>527</td>\n",
       "      <td>527</td>\n",
       "      <td>527</td>\n",
       "      <td>527</td>\n",
       "    </tr>\n",
       "    <tr>\n",
       "      <th>http://purl.obolibrary.org/obo/CHEBI_51151</th>\n",
       "      <td>2</td>\n",
       "      <td>2</td>\n",
       "      <td>2</td>\n",
       "      <td>2</td>\n",
       "      <td>2</td>\n",
       "    </tr>\n",
       "  </tbody>\n",
       "</table>\n",
       "</div>"
      ],
      "text/plain": [
       "                                             species  chemical  conc (mol/L)  \\\n",
       "subClassOf                                                                     \n",
       "                                                1222      1222          1222   \n",
       "http://purl.obolibrary.org/obo/CHEBI_134179      432       432           432   \n",
       "http://purl.obolibrary.org/obo/CHEBI_33832      2110      2110          2110   \n",
       "http://purl.obolibrary.org/obo/CHEBI_35716       138       138           138   \n",
       "http://purl.obolibrary.org/obo/CHEBI_36587       527       527           527   \n",
       "http://purl.obolibrary.org/obo/CHEBI_51151         2         2             2   \n",
       "\n",
       "                                             species_divisions  species_others  \n",
       "subClassOf                                                                      \n",
       "                                                          1222            1222  \n",
       "http://purl.obolibrary.org/obo/CHEBI_134179                432             432  \n",
       "http://purl.obolibrary.org/obo/CHEBI_33832                2110            2110  \n",
       "http://purl.obolibrary.org/obo/CHEBI_35716                 138             138  \n",
       "http://purl.obolibrary.org/obo/CHEBI_36587                 527             527  \n",
       "http://purl.obolibrary.org/obo/CHEBI_51151                   2               2  "
      ]
     },
     "execution_count": 44,
     "metadata": {},
     "output_type": "execute_result"
    }
   ],
   "source": [
    "data.groupby('subClassOf').count()"
   ]
  },
  {
   "cell_type": "code",
   "execution_count": 45,
   "metadata": {},
   "outputs": [],
   "source": [
    "import sys\n",
    "from SPARQLWrapper import SPARQLWrapper, JSON\n",
    "\n",
    "endpoint_url = \"https://query.wikidata.org/sparql\"\n",
    "\n",
    "query = \"\"\"select ?cas ?smiles where {\n",
    "  [] wdt:P233 ?smiles ;\n",
    "     wdt:P231 ?cas .\n",
    "}\"\"\"\n",
    "\n",
    "def get_results(endpoint_url, query):\n",
    "    user_agent = \"WDQS-example Python/%s.%s\" % (sys.version_info[0], sys.version_info[1])\n",
    "    # TODO adjust user agent; see https://w.wiki/CX6\n",
    "    sparql = SPARQLWrapper(endpoint_url, agent=user_agent)\n",
    "    sparql.setQuery(query)\n",
    "    sparql.setReturnFormat(JSON)\n",
    "    return sparql.query().convert()\n",
    "\n",
    "\n",
    "results = get_results(endpoint_url, query)\n",
    "\n",
    "cas_to_smiles = {}\n",
    "\n",
    "for result in results[\"results\"][\"bindings\"]:\n",
    "    cas = result['cas']['value'].replace('-','')\n",
    "    smiles = result['smiles']['value']\n",
    "    cas_to_smiles[cas] = smiles"
   ]
  },
  {
   "cell_type": "code",
   "execution_count": 46,
   "metadata": {},
   "outputs": [],
   "source": [
    "data['smiles']=list(map(lambda x:cas_to_smiles[x.split('/')[-1]] if x.split('/')[-1] in cas_to_smiles else None, data.chemical))"
   ]
  },
  {
   "cell_type": "code",
   "execution_count": 47,
   "metadata": {},
   "outputs": [
    {
     "name": "stdout",
     "output_type": "stream",
     "text": [
      "fatal: destination path 'pySMIfp' already exists and is not an empty directory.\r\n"
     ]
    }
   ],
   "source": [
    "!git clone https://github.com/Erik-BM/pySMIfp"
   ]
  },
  {
   "cell_type": "code",
   "execution_count": 48,
   "metadata": {},
   "outputs": [],
   "source": [
    "from pySMIfp.smiles_fingerprints import smiles_fingerprint"
   ]
  },
  {
   "cell_type": "code",
   "execution_count": 49,
   "metadata": {},
   "outputs": [],
   "source": [
    "smiles_fp = data['smiles'].apply(lambda x: smiles_fingerprint(x) if x else None)"
   ]
  },
  {
   "cell_type": "code",
   "execution_count": 50,
   "metadata": {},
   "outputs": [],
   "source": [
    "idx = [i for i,e in enumerate(smiles_fp.values) if e is not None]"
   ]
  },
  {
   "cell_type": "code",
   "execution_count": 51,
   "metadata": {},
   "outputs": [],
   "source": [
    "smiles_fp = [np.asarray(s) for s in smiles_fp.values if s is not None]"
   ]
  },
  {
   "cell_type": "code",
   "execution_count": 52,
   "metadata": {},
   "outputs": [
    {
     "data": {
      "text/plain": [
       "KMeans(n_clusters=5)"
      ]
     },
     "execution_count": 52,
     "metadata": {},
     "output_type": "execute_result"
    }
   ],
   "source": [
    "from sklearn.cluster import KMeans\n",
    "kmeans = KMeans(5)\n",
    "kmeans.fit(np.unique(smiles_fp,axis=0))"
   ]
  },
  {
   "cell_type": "code",
   "execution_count": 53,
   "metadata": {},
   "outputs": [],
   "source": [
    "data['smiles_clusters'] = -1"
   ]
  },
  {
   "cell_type": "code",
   "execution_count": 54,
   "metadata": {},
   "outputs": [],
   "source": [
    "data.loc[idx,'smiles_clusters'] = kmeans.predict(smiles_fp)"
   ]
  },
  {
   "cell_type": "code",
   "execution_count": 55,
   "metadata": {},
   "outputs": [
    {
     "data": {
      "text/html": [
       "<div>\n",
       "<style scoped>\n",
       "    .dataframe tbody tr th:only-of-type {\n",
       "        vertical-align: middle;\n",
       "    }\n",
       "\n",
       "    .dataframe tbody tr th {\n",
       "        vertical-align: top;\n",
       "    }\n",
       "\n",
       "    .dataframe thead th {\n",
       "        text-align: right;\n",
       "    }\n",
       "</style>\n",
       "<table border=\"1\" class=\"dataframe\">\n",
       "  <thead>\n",
       "    <tr style=\"text-align: right;\">\n",
       "      <th></th>\n",
       "      <th>species</th>\n",
       "      <th>chemical</th>\n",
       "      <th>conc (mol/L)</th>\n",
       "      <th>species_divisions</th>\n",
       "      <th>species_others</th>\n",
       "      <th>subClassOf</th>\n",
       "      <th>smiles</th>\n",
       "    </tr>\n",
       "    <tr>\n",
       "      <th>smiles_clusters</th>\n",
       "      <th></th>\n",
       "      <th></th>\n",
       "      <th></th>\n",
       "      <th></th>\n",
       "      <th></th>\n",
       "      <th></th>\n",
       "      <th></th>\n",
       "    </tr>\n",
       "  </thead>\n",
       "  <tbody>\n",
       "    <tr>\n",
       "      <th>-1</th>\n",
       "      <td>34</td>\n",
       "      <td>34</td>\n",
       "      <td>34</td>\n",
       "      <td>34</td>\n",
       "      <td>34</td>\n",
       "      <td>34</td>\n",
       "      <td>0</td>\n",
       "    </tr>\n",
       "    <tr>\n",
       "      <th>0</th>\n",
       "      <td>673</td>\n",
       "      <td>673</td>\n",
       "      <td>673</td>\n",
       "      <td>673</td>\n",
       "      <td>673</td>\n",
       "      <td>673</td>\n",
       "      <td>673</td>\n",
       "    </tr>\n",
       "    <tr>\n",
       "      <th>1</th>\n",
       "      <td>1849</td>\n",
       "      <td>1849</td>\n",
       "      <td>1849</td>\n",
       "      <td>1849</td>\n",
       "      <td>1849</td>\n",
       "      <td>1849</td>\n",
       "      <td>1849</td>\n",
       "    </tr>\n",
       "    <tr>\n",
       "      <th>2</th>\n",
       "      <td>14</td>\n",
       "      <td>14</td>\n",
       "      <td>14</td>\n",
       "      <td>14</td>\n",
       "      <td>14</td>\n",
       "      <td>14</td>\n",
       "      <td>14</td>\n",
       "    </tr>\n",
       "    <tr>\n",
       "      <th>3</th>\n",
       "      <td>1838</td>\n",
       "      <td>1838</td>\n",
       "      <td>1838</td>\n",
       "      <td>1838</td>\n",
       "      <td>1838</td>\n",
       "      <td>1838</td>\n",
       "      <td>1838</td>\n",
       "    </tr>\n",
       "    <tr>\n",
       "      <th>4</th>\n",
       "      <td>23</td>\n",
       "      <td>23</td>\n",
       "      <td>23</td>\n",
       "      <td>23</td>\n",
       "      <td>23</td>\n",
       "      <td>23</td>\n",
       "      <td>23</td>\n",
       "    </tr>\n",
       "  </tbody>\n",
       "</table>\n",
       "</div>"
      ],
      "text/plain": [
       "                 species  chemical  conc (mol/L)  species_divisions  \\\n",
       "smiles_clusters                                                       \n",
       "-1                    34        34            34                 34   \n",
       " 0                   673       673           673                673   \n",
       " 1                  1849      1849          1849               1849   \n",
       " 2                    14        14            14                 14   \n",
       " 3                  1838      1838          1838               1838   \n",
       " 4                    23        23            23                 23   \n",
       "\n",
       "                 species_others  subClassOf  smiles  \n",
       "smiles_clusters                                      \n",
       "-1                           34          34       0  \n",
       " 0                          673         673     673  \n",
       " 1                         1849        1849    1849  \n",
       " 2                           14          14      14  \n",
       " 3                         1838        1838    1838  \n",
       " 4                           23          23      23  "
      ]
     },
     "execution_count": 55,
     "metadata": {},
     "output_type": "execute_result"
    }
   ],
   "source": [
    "data.groupby('smiles_clusters').count()"
   ]
  },
  {
   "cell_type": "code",
   "execution_count": 56,
   "metadata": {},
   "outputs": [],
   "source": [
    "data.to_csv('only_organic_effect_data_extra.csv' if ONLY_ORGANIC else 'effect_data_extra.csv')"
   ]
  },
  {
   "cell_type": "code",
   "execution_count": null,
   "metadata": {},
   "outputs": [],
   "source": []
  }
 ],
 "metadata": {
  "kernelspec": {
   "display_name": "Python 3",
   "language": "python",
   "name": "python3"
  },
  "language_info": {
   "codemirror_mode": {
    "name": "ipython",
    "version": 3
   },
   "file_extension": ".py",
   "mimetype": "text/x-python",
   "name": "python",
   "nbconvert_exporter": "python",
   "pygments_lexer": "ipython3",
   "version": "3.8.5"
  }
 },
 "nbformat": 4,
 "nbformat_minor": 4
}
