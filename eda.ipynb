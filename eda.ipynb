{
 "cells": [
  {
   "cell_type": "code",
   "execution_count": 57,
   "metadata": {},
   "outputs": [],
   "source": [
    "import pandas as pd\n",
    "import numpy as np\n",
    "ONLY_ORGANIC = False\n",
    "data = pd.read_csv('only_organic_effect_data.csv' if ONLY_ORGANIC else 'effect_data.csv',index_col=0)"
   ]
  },
  {
   "cell_type": "code",
   "execution_count": 58,
   "metadata": {},
   "outputs": [
    {
     "data": {
      "text/html": [
       "<div>\n",
       "<style scoped>\n",
       "    .dataframe tbody tr th:only-of-type {\n",
       "        vertical-align: middle;\n",
       "    }\n",
       "\n",
       "    .dataframe tbody tr th {\n",
       "        vertical-align: top;\n",
       "    }\n",
       "\n",
       "    .dataframe thead th {\n",
       "        text-align: right;\n",
       "    }\n",
       "</style>\n",
       "<table border=\"1\" class=\"dataframe\">\n",
       "  <thead>\n",
       "    <tr style=\"text-align: right;\">\n",
       "      <th></th>\n",
       "      <th>species</th>\n",
       "      <th>chemical</th>\n",
       "      <th>log conc (mol/L)</th>\n",
       "    </tr>\n",
       "  </thead>\n",
       "  <tbody>\n",
       "    <tr>\n",
       "      <th>0</th>\n",
       "      <td>https://cfpub.epa.gov/ecotox/taxon/1</td>\n",
       "      <td>https://cfpub.epa.gov/ecotox/cas/10025919</td>\n",
       "      <td>3.113194</td>\n",
       "    </tr>\n",
       "    <tr>\n",
       "      <th>1</th>\n",
       "      <td>https://cfpub.epa.gov/ecotox/taxon/1</td>\n",
       "      <td>https://cfpub.epa.gov/ecotox/cas/10099748</td>\n",
       "      <td>4.947392</td>\n",
       "    </tr>\n",
       "    <tr>\n",
       "      <th>2</th>\n",
       "      <td>https://cfpub.epa.gov/ecotox/taxon/1</td>\n",
       "      <td>https://cfpub.epa.gov/ecotox/cas/12125018</td>\n",
       "      <td>1.007724</td>\n",
       "    </tr>\n",
       "    <tr>\n",
       "      <th>3</th>\n",
       "      <td>https://cfpub.epa.gov/ecotox/taxon/1</td>\n",
       "      <td>https://cfpub.epa.gov/ecotox/cas/13762511</td>\n",
       "      <td>1.732426</td>\n",
       "    </tr>\n",
       "    <tr>\n",
       "      <th>4</th>\n",
       "      <td>https://cfpub.epa.gov/ecotox/taxon/1</td>\n",
       "      <td>https://cfpub.epa.gov/ecotox/cas/5329146</td>\n",
       "      <td>2.139740</td>\n",
       "    </tr>\n",
       "    <tr>\n",
       "      <th>...</th>\n",
       "      <td>...</td>\n",
       "      <td>...</td>\n",
       "      <td>...</td>\n",
       "    </tr>\n",
       "    <tr>\n",
       "      <th>661</th>\n",
       "      <td>https://cfpub.epa.gov/ecotox/taxon/89</td>\n",
       "      <td>https://cfpub.epa.gov/ecotox/cas/85007</td>\n",
       "      <td>4.118948</td>\n",
       "    </tr>\n",
       "    <tr>\n",
       "      <th>662</th>\n",
       "      <td>https://cfpub.epa.gov/ecotox/taxon/964</td>\n",
       "      <td>https://cfpub.epa.gov/ecotox/cas/10108642</td>\n",
       "      <td>0.937636</td>\n",
       "    </tr>\n",
       "    <tr>\n",
       "      <th>663</th>\n",
       "      <td>https://cfpub.epa.gov/ecotox/taxon/964</td>\n",
       "      <td>https://cfpub.epa.gov/ecotox/cas/107642</td>\n",
       "      <td>2.817235</td>\n",
       "    </tr>\n",
       "    <tr>\n",
       "      <th>664</th>\n",
       "      <td>https://cfpub.epa.gov/ecotox/taxon/97</td>\n",
       "      <td>https://cfpub.epa.gov/ecotox/cas/13721396</td>\n",
       "      <td>2.796218</td>\n",
       "    </tr>\n",
       "    <tr>\n",
       "      <th>665</th>\n",
       "      <td>https://cfpub.epa.gov/ecotox/taxon/971</td>\n",
       "      <td>https://cfpub.epa.gov/ecotox/cas/7647145</td>\n",
       "      <td>0.691902</td>\n",
       "    </tr>\n",
       "  </tbody>\n",
       "</table>\n",
       "<p>666 rows × 3 columns</p>\n",
       "</div>"
      ],
      "text/plain": [
       "                                    species  \\\n",
       "0      https://cfpub.epa.gov/ecotox/taxon/1   \n",
       "1      https://cfpub.epa.gov/ecotox/taxon/1   \n",
       "2      https://cfpub.epa.gov/ecotox/taxon/1   \n",
       "3      https://cfpub.epa.gov/ecotox/taxon/1   \n",
       "4      https://cfpub.epa.gov/ecotox/taxon/1   \n",
       "..                                      ...   \n",
       "661   https://cfpub.epa.gov/ecotox/taxon/89   \n",
       "662  https://cfpub.epa.gov/ecotox/taxon/964   \n",
       "663  https://cfpub.epa.gov/ecotox/taxon/964   \n",
       "664   https://cfpub.epa.gov/ecotox/taxon/97   \n",
       "665  https://cfpub.epa.gov/ecotox/taxon/971   \n",
       "\n",
       "                                      chemical  log conc (mol/L)  \n",
       "0    https://cfpub.epa.gov/ecotox/cas/10025919          3.113194  \n",
       "1    https://cfpub.epa.gov/ecotox/cas/10099748          4.947392  \n",
       "2    https://cfpub.epa.gov/ecotox/cas/12125018          1.007724  \n",
       "3    https://cfpub.epa.gov/ecotox/cas/13762511          1.732426  \n",
       "4     https://cfpub.epa.gov/ecotox/cas/5329146          2.139740  \n",
       "..                                         ...               ...  \n",
       "661     https://cfpub.epa.gov/ecotox/cas/85007          4.118948  \n",
       "662  https://cfpub.epa.gov/ecotox/cas/10108642          0.937636  \n",
       "663    https://cfpub.epa.gov/ecotox/cas/107642          2.817235  \n",
       "664  https://cfpub.epa.gov/ecotox/cas/13721396          2.796218  \n",
       "665   https://cfpub.epa.gov/ecotox/cas/7647145          0.691902  \n",
       "\n",
       "[666 rows x 3 columns]"
      ]
     },
     "execution_count": 58,
     "metadata": {},
     "output_type": "execute_result"
    }
   ],
   "source": [
    "data"
   ]
  },
  {
   "cell_type": "code",
   "execution_count": 59,
   "metadata": {},
   "outputs": [
    {
     "data": {
      "text/plain": [
       "<AxesSubplot:>"
      ]
     },
     "execution_count": 59,
     "metadata": {},
     "output_type": "execute_result"
    },
    {
     "data": {
      "image/png": "[encoded data removed]",
      "text/plain": [
       "<Figure size 432x288 with 1 Axes>"
      ]
     },
     "metadata": {
      "needs_background": "light"
     },
     "output_type": "display_data"
    }
   ],
   "source": [
    "data.groupby('species').count().chemical.hist(bins=30,log=True)"
   ]
  },
  {
   "cell_type": "code",
   "execution_count": 60,
   "metadata": {},
   "outputs": [
    {
     "data": {
      "text/plain": [
       "<AxesSubplot:>"
      ]
     },
     "execution_count": 60,
     "metadata": {},
     "output_type": "execute_result"
    },
    {
     "data": {
      "image/png": "[encoded data removed]",
      "text/plain": [
       "<Figure size 432x288 with 1 Axes>"
      ]
     },
     "metadata": {
      "needs_background": "light"
     },
     "output_type": "display_data"
    }
   ],
   "source": [
    "data.groupby('chemical').count().species.hist(bins=30,log=True)"
   ]
  },
  {
   "cell_type": "code",
   "execution_count": 61,
   "metadata": {},
   "outputs": [
    {
     "data": {
      "text/plain": [
       "(3.51773503497006, 1.705279465735659)"
      ]
     },
     "execution_count": 61,
     "metadata": {},
     "output_type": "execute_result"
    },
    {
     "data": {
      "image/png": "[encoded data removed]",
      "text/plain": [
       "<Figure size 432x288 with 1 Axes>"
      ]
     },
     "metadata": {
      "needs_background": "light"
     },
     "output_type": "display_data"
    }
   ],
   "source": [
    "data['log conc (mol/L)'].hist(bins=30)\n",
    "data['log conc (mol/L)'].mean(),data['log conc (mol/L)'].std()"
   ]
  },
  {
   "cell_type": "code",
   "execution_count": 62,
   "metadata": {},
   "outputs": [],
   "source": [
    "mapping_species = {k:i for i,k in enumerate(data.species.unique())}\n",
    "mapping_chemical = {k:i for i,k in enumerate(data.chemical.unique())}"
   ]
  },
  {
   "cell_type": "code",
   "execution_count": 63,
   "metadata": {},
   "outputs": [],
   "source": [
    "M = np.zeros((len(mapping_species),len(mapping_chemical)))"
   ]
  },
  {
   "cell_type": "code",
   "execution_count": 64,
   "metadata": {},
   "outputs": [],
   "source": [
    "for i,j in zip(data.species,data.chemical):\n",
    "    i = mapping_species[i]\n",
    "    j = mapping_chemical[j]\n",
    "    M[i,j] = 1"
   ]
  },
  {
   "cell_type": "code",
   "execution_count": 65,
   "metadata": {},
   "outputs": [
    {
     "data": {
      "text/plain": [
       "(array([0., 1.]), array([23414,   666]))"
      ]
     },
     "execution_count": 65,
     "metadata": {},
     "output_type": "execute_result"
    }
   ],
   "source": [
    "np.unique(M,return_counts=True)"
   ]
  },
  {
   "cell_type": "code",
   "execution_count": 66,
   "metadata": {},
   "outputs": [],
   "source": [
    "import networkx as nx\n",
    "\n",
    "G = nx.DiGraph()\n",
    "\n",
    "for s,c in zip(data.species,data.chemical):\n",
    "    G.add_edge(s,c)\n",
    "    G.add_edge(c,s)\n",
    "    \n",
    "edges_to_remove = []\n",
    "for edge in G.edges():\n",
    "    if (edge[1],edge[0]) in G.edges() and (edge[1],edge[0]) not in edges_to_remove:\n",
    "        edges_to_remove.append(edge)\n",
    "        \n",
    "for edge in edges_to_remove:\n",
    "    G.remove_edge(*edge)"
   ]
  },
  {
   "cell_type": "code",
   "execution_count": 67,
   "metadata": {},
   "outputs": [
    {
     "data": {
      "text/plain": [
       "(366, 666)"
      ]
     },
     "execution_count": 67,
     "metadata": {},
     "output_type": "execute_result"
    }
   ],
   "source": [
    "G.number_of_nodes(),G.number_of_edges()"
   ]
  },
  {
   "cell_type": "code",
   "execution_count": 68,
   "metadata": {},
   "outputs": [
    {
     "data": {
      "text/plain": [
       "['https://cfpub.epa.gov/ecotox/cas/1317391',\n",
       " 'https://cfpub.epa.gov/ecotox/taxon/5',\n",
       " 'https://cfpub.epa.gov/ecotox/cas/112281773',\n",
       " 'https://cfpub.epa.gov/ecotox/taxon/4910',\n",
       " 'https://cfpub.epa.gov/ecotox/cas/13410010',\n",
       " 'https://cfpub.epa.gov/ecotox/taxon/206',\n",
       " 'https://cfpub.epa.gov/ecotox/cas/7784465',\n",
       " 'https://cfpub.epa.gov/ecotox/taxon/18447',\n",
       " 'https://cfpub.epa.gov/ecotox/cas/7758954',\n",
       " 'https://cfpub.epa.gov/ecotox/taxon/1292',\n",
       " 'https://cfpub.epa.gov/ecotox/cas/10108642',\n",
       " 'https://cfpub.epa.gov/ecotox/taxon/1146',\n",
       " 'https://cfpub.epa.gov/ecotox/cas/7646799',\n",
       " 'https://cfpub.epa.gov/ecotox/taxon/1']"
      ]
     },
     "execution_count": 68,
     "metadata": {},
     "output_type": "execute_result"
    }
   ],
   "source": [
    "nx.algorithms.dag.dag_longest_path(G)"
   ]
  },
  {
   "cell_type": "code",
   "execution_count": 69,
   "metadata": {},
   "outputs": [],
   "source": [
    "from rdflib import Graph, URIRef, BNode, Literal\n",
    "from rdflib.namespace import RDF, Namespace\n",
    "\n",
    "tax = Graph()\n",
    "tax.load('../TERA_OUTPUT/ecotox_taxonomy.nt',format='nt')\n",
    "\n",
    "chem = Graph()\n",
    "chem.load('only_organic_reduced_kgs/reduced_chebi.ttl' if ONLY_ORGANIC else 'reduced_kgs/reduced_chebi.ttl',format='ttl')\n"
   ]
  },
  {
   "cell_type": "code",
   "execution_count": 70,
   "metadata": {},
   "outputs": [],
   "source": [
    "#TODO add chemical and tax group exploration.\n",
    "\n",
    "other = ['https://cfpub.epa.gov/ecotox/group/StandardTestSpecies',\n",
    "        'https://cfpub.epa.gov/ecotox/group/U.S.Exotic/NuisanceSpecies',\n",
    "        'https://cfpub.epa.gov/ecotox/group/U.S.ThreatenedandEndangeredSpecies']\n",
    "\n",
    "divs = []\n",
    "others = []\n",
    "for s in data.species:\n",
    "    uri = URIRef(s)\n",
    "    div = sorted(list(map(str,tax.objects(subject=uri,predicate=URIRef('https://cfpub.epa.gov/ecotox/ecotoxGroup')))))\n",
    "    idx = [div.index(o) for o in other if o in div]\n",
    "    \n",
    "    ot = ','.join(div[i] for i in idx)\n",
    "    if ot == ',': ot = None\n",
    "    \n",
    "    div = [div[i] for i in range(len(div)) if i not in idx][0]\n",
    "    \n",
    "    others.append(ot)\n",
    "    divs.append(div)\n",
    "\n",
    "data['species_divisions'] = divs\n",
    "data['species_others'] = others\n"
   ]
  },
  {
   "cell_type": "code",
   "execution_count": 71,
   "metadata": {},
   "outputs": [
    {
     "data": {
      "text/html": [
       "<div>\n",
       "<style scoped>\n",
       "    .dataframe tbody tr th:only-of-type {\n",
       "        vertical-align: middle;\n",
       "    }\n",
       "\n",
       "    .dataframe tbody tr th {\n",
       "        vertical-align: top;\n",
       "    }\n",
       "\n",
       "    .dataframe thead th {\n",
       "        text-align: right;\n",
       "    }\n",
       "</style>\n",
       "<table border=\"1\" class=\"dataframe\">\n",
       "  <thead>\n",
       "    <tr style=\"text-align: right;\">\n",
       "      <th></th>\n",
       "      <th>species</th>\n",
       "      <th>chemical</th>\n",
       "      <th>log conc (mol/L)</th>\n",
       "      <th>species_others</th>\n",
       "    </tr>\n",
       "    <tr>\n",
       "      <th>species_divisions</th>\n",
       "      <th></th>\n",
       "      <th></th>\n",
       "      <th></th>\n",
       "      <th></th>\n",
       "    </tr>\n",
       "  </thead>\n",
       "  <tbody>\n",
       "    <tr>\n",
       "      <th>https://cfpub.epa.gov/ecotox/group/Algae</th>\n",
       "      <td>1</td>\n",
       "      <td>1</td>\n",
       "      <td>1</td>\n",
       "      <td>1</td>\n",
       "    </tr>\n",
       "    <tr>\n",
       "      <th>https://cfpub.epa.gov/ecotox/group/Amphibians</th>\n",
       "      <td>46</td>\n",
       "      <td>46</td>\n",
       "      <td>46</td>\n",
       "      <td>46</td>\n",
       "    </tr>\n",
       "    <tr>\n",
       "      <th>https://cfpub.epa.gov/ecotox/group/Crustaceans</th>\n",
       "      <td>192</td>\n",
       "      <td>192</td>\n",
       "      <td>192</td>\n",
       "      <td>192</td>\n",
       "    </tr>\n",
       "    <tr>\n",
       "      <th>https://cfpub.epa.gov/ecotox/group/Fish</th>\n",
       "      <td>189</td>\n",
       "      <td>189</td>\n",
       "      <td>189</td>\n",
       "      <td>189</td>\n",
       "    </tr>\n",
       "    <tr>\n",
       "      <th>https://cfpub.epa.gov/ecotox/group/Insects/Spiders</th>\n",
       "      <td>85</td>\n",
       "      <td>85</td>\n",
       "      <td>85</td>\n",
       "      <td>85</td>\n",
       "    </tr>\n",
       "    <tr>\n",
       "      <th>https://cfpub.epa.gov/ecotox/group/Invertebrates</th>\n",
       "      <td>17</td>\n",
       "      <td>17</td>\n",
       "      <td>17</td>\n",
       "      <td>17</td>\n",
       "    </tr>\n",
       "    <tr>\n",
       "      <th>https://cfpub.epa.gov/ecotox/group/Molluscs</th>\n",
       "      <td>91</td>\n",
       "      <td>91</td>\n",
       "      <td>91</td>\n",
       "      <td>91</td>\n",
       "    </tr>\n",
       "    <tr>\n",
       "      <th>https://cfpub.epa.gov/ecotox/group/Worms</th>\n",
       "      <td>45</td>\n",
       "      <td>45</td>\n",
       "      <td>45</td>\n",
       "      <td>45</td>\n",
       "    </tr>\n",
       "  </tbody>\n",
       "</table>\n",
       "</div>"
      ],
      "text/plain": [
       "                                                    species  chemical  \\\n",
       "species_divisions                                                       \n",
       "https://cfpub.epa.gov/ecotox/group/Algae                  1         1   \n",
       "https://cfpub.epa.gov/ecotox/group/Amphibians            46        46   \n",
       "https://cfpub.epa.gov/ecotox/group/Crustaceans          192       192   \n",
       "https://cfpub.epa.gov/ecotox/group/Fish                 189       189   \n",
       "https://cfpub.epa.gov/ecotox/group/Insects/Spiders       85        85   \n",
       "https://cfpub.epa.gov/ecotox/group/Invertebrates         17        17   \n",
       "https://cfpub.epa.gov/ecotox/group/Molluscs              91        91   \n",
       "https://cfpub.epa.gov/ecotox/group/Worms                 45        45   \n",
       "\n",
       "                                                    log conc (mol/L)  \\\n",
       "species_divisions                                                      \n",
       "https://cfpub.epa.gov/ecotox/group/Algae                           1   \n",
       "https://cfpub.epa.gov/ecotox/group/Amphibians                     46   \n",
       "https://cfpub.epa.gov/ecotox/group/Crustaceans                   192   \n",
       "https://cfpub.epa.gov/ecotox/group/Fish                          189   \n",
       "https://cfpub.epa.gov/ecotox/group/Insects/Spiders                85   \n",
       "https://cfpub.epa.gov/ecotox/group/Invertebrates                  17   \n",
       "https://cfpub.epa.gov/ecotox/group/Molluscs                       91   \n",
       "https://cfpub.epa.gov/ecotox/group/Worms                          45   \n",
       "\n",
       "                                                    species_others  \n",
       "species_divisions                                                   \n",
       "https://cfpub.epa.gov/ecotox/group/Algae                         1  \n",
       "https://cfpub.epa.gov/ecotox/group/Amphibians                   46  \n",
       "https://cfpub.epa.gov/ecotox/group/Crustaceans                 192  \n",
       "https://cfpub.epa.gov/ecotox/group/Fish                        189  \n",
       "https://cfpub.epa.gov/ecotox/group/Insects/Spiders              85  \n",
       "https://cfpub.epa.gov/ecotox/group/Invertebrates                17  \n",
       "https://cfpub.epa.gov/ecotox/group/Molluscs                     91  \n",
       "https://cfpub.epa.gov/ecotox/group/Worms                        45  "
      ]
     },
     "execution_count": 71,
     "metadata": {},
     "output_type": "execute_result"
    }
   ],
   "source": [
    "data.groupby('species_divisions').count()"
   ]
  },
  {
   "cell_type": "code",
   "execution_count": 72,
   "metadata": {},
   "outputs": [
    {
     "data": {
      "application/vnd.jupyter.widget-view+json": {
       "model_id": "319536f227494d98a5c30e77f66abfc2",
       "version_major": 2,
       "version_minor": 0
      },
      "text/plain": [
       "HBox(children=(FloatProgress(value=0.0, max=666.0), HTML(value='')))"
      ]
     },
     "metadata": {},
     "output_type": "display_data"
    },
    {
     "name": "stdout",
     "output_type": "stream",
     "text": [
      "\n"
     ]
    }
   ],
   "source": [
    "import tqdm.notebook as tq\n",
    "\n",
    "\n",
    "for p in ['http://www.w3.org/2000/01/rdf-schema#subClassOf']:\n",
    "\n",
    "    divs = []\n",
    "    for c in tq.tqdm(data.chemical):\n",
    "        uri = URIRef(c)\n",
    "        \n",
    "        q = \"\"\"\n",
    "            select ?c where {\n",
    "                ?s rdfs:subClassOf* ?c .\n",
    "                ?c rdfs:subClassOf ?top .\n",
    "            }\"\"\"\n",
    "        \n",
    "        div = chem.query(q,initNs={'rdfs':Namespace('http://www.w3.org/2000/01/rdf-schema#')},\n",
    "                        initBindings={'s':URIRef(c),\n",
    "                                      'top':URIRef('http://purl.obolibrary.org/obo/CHEBI_72695')}) #organi\n",
    "        div = sorted([d[0] for d in div if not isinstance(d[0],BNode)])\n",
    "        \n",
    "        div = ','.join(div)\n",
    "        if div == ',': div = None\n",
    "\n",
    "        divs.append(str(div))\n",
    "\n",
    "    singles = set([d for d in divs if len(d.split(','))<2])\n",
    "    \n",
    "    divs = [d.split(',')[0] if len(d.split(','))>1 else d for d in divs]\n",
    "        \n",
    "    data[p.split('#')[-1]] = divs\n"
   ]
  },
  {
   "cell_type": "code",
   "execution_count": 73,
   "metadata": {},
   "outputs": [
    {
     "data": {
      "text/html": [
       "<div>\n",
       "<style scoped>\n",
       "    .dataframe tbody tr th:only-of-type {\n",
       "        vertical-align: middle;\n",
       "    }\n",
       "\n",
       "    .dataframe tbody tr th {\n",
       "        vertical-align: top;\n",
       "    }\n",
       "\n",
       "    .dataframe thead th {\n",
       "        text-align: right;\n",
       "    }\n",
       "</style>\n",
       "<table border=\"1\" class=\"dataframe\">\n",
       "  <thead>\n",
       "    <tr style=\"text-align: right;\">\n",
       "      <th></th>\n",
       "      <th>species</th>\n",
       "      <th>chemical</th>\n",
       "      <th>log conc (mol/L)</th>\n",
       "      <th>species_divisions</th>\n",
       "      <th>species_others</th>\n",
       "    </tr>\n",
       "    <tr>\n",
       "      <th>subClassOf</th>\n",
       "      <th></th>\n",
       "      <th></th>\n",
       "      <th></th>\n",
       "      <th></th>\n",
       "      <th></th>\n",
       "    </tr>\n",
       "  </thead>\n",
       "  <tbody>\n",
       "    <tr>\n",
       "      <th></th>\n",
       "      <td>618</td>\n",
       "      <td>618</td>\n",
       "      <td>618</td>\n",
       "      <td>618</td>\n",
       "      <td>618</td>\n",
       "    </tr>\n",
       "    <tr>\n",
       "      <th>http://purl.obolibrary.org/obo/CHEBI_33832</th>\n",
       "      <td>48</td>\n",
       "      <td>48</td>\n",
       "      <td>48</td>\n",
       "      <td>48</td>\n",
       "      <td>48</td>\n",
       "    </tr>\n",
       "  </tbody>\n",
       "</table>\n",
       "</div>"
      ],
      "text/plain": [
       "                                            species  chemical  \\\n",
       "subClassOf                                                      \n",
       "                                                618       618   \n",
       "http://purl.obolibrary.org/obo/CHEBI_33832       48        48   \n",
       "\n",
       "                                            log conc (mol/L)  \\\n",
       "subClassOf                                                     \n",
       "                                                         618   \n",
       "http://purl.obolibrary.org/obo/CHEBI_33832                48   \n",
       "\n",
       "                                            species_divisions  species_others  \n",
       "subClassOf                                                                     \n",
       "                                                          618             618  \n",
       "http://purl.obolibrary.org/obo/CHEBI_33832                 48              48  "
      ]
     },
     "execution_count": 73,
     "metadata": {},
     "output_type": "execute_result"
    }
   ],
   "source": [
    "data.groupby('subClassOf').count()"
   ]
  },
  {
   "cell_type": "code",
   "execution_count": 74,
   "metadata": {},
   "outputs": [],
   "source": [
    "import sys\n",
    "from SPARQLWrapper import SPARQLWrapper, JSON\n",
    "\n",
    "endpoint_url = \"https://query.wikidata.org/sparql\"\n",
    "\n",
    "query = \"\"\"select ?cas ?smiles where {\n",
    "  [] wdt:P233 ?smiles ;\n",
    "     wdt:P231 ?cas .\n",
    "}\"\"\"\n",
    "\n",
    "def get_results(endpoint_url, query):\n",
    "    user_agent = \"WDQS-example Python/%s.%s\" % (sys.version_info[0], sys.version_info[1])\n",
    "    # TODO adjust user agent; see https://w.wiki/CX6\n",
    "    sparql = SPARQLWrapper(endpoint_url, agent=user_agent)\n",
    "    sparql.setQuery(query)\n",
    "    sparql.setReturnFormat(JSON)\n",
    "    return sparql.query().convert()\n",
    "\n",
    "\n",
    "results = get_results(endpoint_url, query)\n",
    "\n",
    "cas_to_smiles = {}\n",
    "\n",
    "for result in results[\"results\"][\"bindings\"]:\n",
    "    cas = result['cas']['value'].replace('-','')\n",
    "    smiles = result['smiles']['value']\n",
    "    cas_to_smiles[cas] = smiles"
   ]
  },
  {
   "cell_type": "code",
   "execution_count": 75,
   "metadata": {},
   "outputs": [],
   "source": [
    "data['smiles']=list(map(lambda x:cas_to_smiles[x.split('/')[-1]] if x.split('/')[-1] in cas_to_smiles else None, data.chemical))"
   ]
  },
  {
   "cell_type": "code",
   "execution_count": 76,
   "metadata": {},
   "outputs": [
    {
     "name": "stdout",
     "output_type": "stream",
     "text": [
      "fatal: destination path 'pySMIfp' already exists and is not an empty directory.\r\n"
     ]
    }
   ],
   "source": [
    "!git clone https://github.com/Erik-BM/pySMIfp"
   ]
  },
  {
   "cell_type": "code",
   "execution_count": 77,
   "metadata": {},
   "outputs": [],
   "source": [
    "from pySMIfp.smiles_fingerprints import smiles_fingerprint"
   ]
  },
  {
   "cell_type": "code",
   "execution_count": 78,
   "metadata": {},
   "outputs": [],
   "source": [
    "smiles_fp = data['smiles'].apply(lambda x: smiles_fingerprint(x) if x else None)"
   ]
  },
  {
   "cell_type": "code",
   "execution_count": 79,
   "metadata": {},
   "outputs": [],
   "source": [
    "idx = [i for i,e in enumerate(smiles_fp.values) if e is not None]"
   ]
  },
  {
   "cell_type": "code",
   "execution_count": 80,
   "metadata": {},
   "outputs": [],
   "source": [
    "smiles_fp = np.asarray([np.asarray(s) for s in smiles_fp.values if s is not None])"
   ]
  },
  {
   "cell_type": "code",
   "execution_count": 81,
   "metadata": {},
   "outputs": [],
   "source": [
    "data['smiles_clusters'] = -1"
   ]
  },
  {
   "cell_type": "code",
   "execution_count": 82,
   "metadata": {},
   "outputs": [],
   "source": [
    "from sklearn.cluster import AgglomerativeClustering\n",
    "kmeans = AgglomerativeClustering(5)\n",
    "data.loc[idx,'smiles_clusters'] = kmeans.fit_predict(smiles_fp)"
   ]
  },
  {
   "cell_type": "code",
   "execution_count": 83,
   "metadata": {},
   "outputs": [
    {
     "data": {
      "text/html": [
       "<div>\n",
       "<style scoped>\n",
       "    .dataframe tbody tr th:only-of-type {\n",
       "        vertical-align: middle;\n",
       "    }\n",
       "\n",
       "    .dataframe tbody tr th {\n",
       "        vertical-align: top;\n",
       "    }\n",
       "\n",
       "    .dataframe thead th {\n",
       "        text-align: right;\n",
       "    }\n",
       "</style>\n",
       "<table border=\"1\" class=\"dataframe\">\n",
       "  <thead>\n",
       "    <tr style=\"text-align: right;\">\n",
       "      <th></th>\n",
       "      <th>species</th>\n",
       "      <th>chemical</th>\n",
       "      <th>log conc (mol/L)</th>\n",
       "      <th>species_divisions</th>\n",
       "      <th>species_others</th>\n",
       "      <th>subClassOf</th>\n",
       "      <th>smiles</th>\n",
       "    </tr>\n",
       "    <tr>\n",
       "      <th>smiles_clusters</th>\n",
       "      <th></th>\n",
       "      <th></th>\n",
       "      <th></th>\n",
       "      <th></th>\n",
       "      <th></th>\n",
       "      <th></th>\n",
       "      <th></th>\n",
       "    </tr>\n",
       "  </thead>\n",
       "  <tbody>\n",
       "    <tr>\n",
       "      <th>-1</th>\n",
       "      <td>3</td>\n",
       "      <td>3</td>\n",
       "      <td>3</td>\n",
       "      <td>3</td>\n",
       "      <td>3</td>\n",
       "      <td>3</td>\n",
       "      <td>0</td>\n",
       "    </tr>\n",
       "    <tr>\n",
       "      <th>0</th>\n",
       "      <td>267</td>\n",
       "      <td>267</td>\n",
       "      <td>267</td>\n",
       "      <td>267</td>\n",
       "      <td>267</td>\n",
       "      <td>267</td>\n",
       "      <td>267</td>\n",
       "    </tr>\n",
       "    <tr>\n",
       "      <th>1</th>\n",
       "      <td>337</td>\n",
       "      <td>337</td>\n",
       "      <td>337</td>\n",
       "      <td>337</td>\n",
       "      <td>337</td>\n",
       "      <td>337</td>\n",
       "      <td>337</td>\n",
       "    </tr>\n",
       "    <tr>\n",
       "      <th>2</th>\n",
       "      <td>37</td>\n",
       "      <td>37</td>\n",
       "      <td>37</td>\n",
       "      <td>37</td>\n",
       "      <td>37</td>\n",
       "      <td>37</td>\n",
       "      <td>37</td>\n",
       "    </tr>\n",
       "    <tr>\n",
       "      <th>3</th>\n",
       "      <td>19</td>\n",
       "      <td>19</td>\n",
       "      <td>19</td>\n",
       "      <td>19</td>\n",
       "      <td>19</td>\n",
       "      <td>19</td>\n",
       "      <td>19</td>\n",
       "    </tr>\n",
       "    <tr>\n",
       "      <th>4</th>\n",
       "      <td>3</td>\n",
       "      <td>3</td>\n",
       "      <td>3</td>\n",
       "      <td>3</td>\n",
       "      <td>3</td>\n",
       "      <td>3</td>\n",
       "      <td>3</td>\n",
       "    </tr>\n",
       "  </tbody>\n",
       "</table>\n",
       "</div>"
      ],
      "text/plain": [
       "                 species  chemical  log conc (mol/L)  species_divisions  \\\n",
       "smiles_clusters                                                           \n",
       "-1                     3         3                 3                  3   \n",
       " 0                   267       267               267                267   \n",
       " 1                   337       337               337                337   \n",
       " 2                    37        37                37                 37   \n",
       " 3                    19        19                19                 19   \n",
       " 4                     3         3                 3                  3   \n",
       "\n",
       "                 species_others  subClassOf  smiles  \n",
       "smiles_clusters                                      \n",
       "-1                            3           3       0  \n",
       " 0                          267         267     267  \n",
       " 1                          337         337     337  \n",
       " 2                           37          37      37  \n",
       " 3                           19          19      19  \n",
       " 4                            3           3       3  "
      ]
     },
     "execution_count": 83,
     "metadata": {},
     "output_type": "execute_result"
    }
   ],
   "source": [
    "data.groupby('smiles_clusters').count()"
   ]
  },
  {
   "cell_type": "code",
   "execution_count": 84,
   "metadata": {},
   "outputs": [],
   "source": [
    "data.to_csv('only_organic_effect_data_extra.csv' if ONLY_ORGANIC else 'effect_data_extra.csv')"
   ]
  },
  {
   "cell_type": "code",
   "execution_count": null,
   "metadata": {},
   "outputs": [],
   "source": []
  },
  {
   "cell_type": "code",
   "execution_count": null,
   "metadata": {},
   "outputs": [],
   "source": []
  }
 ],
 "metadata": {
  "kernelspec": {
   "display_name": "Python 3",
   "language": "python",
   "name": "python3"
  },
  "language_info": {
   "codemirror_mode": {
    "name": "ipython",
    "version": 3
   },
   "file_extension": ".py",
   "mimetype": "text/x-python",
   "name": "python",
   "nbconvert_exporter": "python",
   "pygments_lexer": "ipython3",
   "version": "3.8.5"
  }
 },
 "nbformat": 4,
 "nbformat_minor": 4
}
