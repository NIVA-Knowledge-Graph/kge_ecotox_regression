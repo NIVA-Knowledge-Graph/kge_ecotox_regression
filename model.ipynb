{
 "cells": [
  {
   "cell_type": "code",
   "execution_count": 1,
   "metadata": {
    "scrolled": true
   },
   "outputs": [],
   "source": [
    "from rdflib import Graph, URIRef\n",
    "import numpy as np\n",
    "import glob \n",
    "graph = Graph()\n",
    "for filename in glob.glob('reduced_kgs/reduced_*'):\n",
    "    graph.load(filename,format=filename.split('.')[-1])"
   ]
  },
  {
   "cell_type": "code",
   "execution_count": 2,
   "metadata": {},
   "outputs": [
    {
     "data": {
      "text/plain": [
       "235202"
      ]
     },
     "execution_count": 2,
     "metadata": {},
     "output_type": "execute_result"
    }
   ],
   "source": [
    "len(graph)"
   ]
  },
  {
   "cell_type": "code",
   "execution_count": 3,
   "metadata": {},
   "outputs": [],
   "source": [
    "TRAINING = True"
   ]
  },
  {
   "cell_type": "code",
   "execution_count": 4,
   "metadata": {},
   "outputs": [
    {
     "data": {
      "text/plain": [
       "(59953, 185)"
      ]
     },
     "execution_count": 4,
     "metadata": {},
     "output_type": "execute_result"
    }
   ],
   "source": [
    "entities = sorted(list(set(graph.subjects()) | set(graph.objects())))\n",
    "relations = sorted(list(set(graph.predicates())))\n",
    "len(entities), len(relations)"
   ]
  },
  {
   "cell_type": "code",
   "execution_count": 5,
   "metadata": {},
   "outputs": [],
   "source": [
    "entity_mappings = {e:i for i,e in enumerate(entities)}\n",
    "relation_mappings = {e:i for i,e in enumerate(relations)}\n",
    "triples = np.asarray(list(map(lambda x: (entity_mappings[x[0]],\n",
    "                                         relation_mappings[x[1]],\n",
    "                                         entity_mappings[x[2]]),graph)))"
   ]
  },
  {
   "cell_type": "code",
   "execution_count": 6,
   "metadata": {},
   "outputs": [],
   "source": [
    "def min_distance_loss(w,epsilon=1.0):\n",
    "        \n",
    "    r = tf.reduce_sum(w*w, 1)\n",
    "\n",
    "    r = tf.reshape(r, [-1, 1])\n",
    "    D = r - 2*tf.matmul(w, tf.transpose(w)) + tf.transpose(r)\n",
    "    D = D + tf.linalg.diag(epsilon * tf.ones(D.shape[0]))\n",
    "    return tf.reduce_sum(tf.where(D<epsilon,1.0,0.0))/tf.cast(w.shape[1],tf.float32)"
   ]
  },
  {
   "cell_type": "code",
   "execution_count": 29,
   "metadata": {},
   "outputs": [],
   "source": [
    "from embedding_model import DistMult, ComplEx, TransE, ConvE"
   ]
  },
  {
   "cell_type": "code",
   "execution_count": 8,
   "metadata": {},
   "outputs": [],
   "source": [
    "def create_negative(postive,n=2):\n",
    "    negative = np.repeat(postive,n,axis=0)\n",
    "    negative[:,0] = np.random.randint(0,len(entities),size=len(negative))\n",
    "    negative[:,2] = np.random.randint(0,len(entities),size=len(negative))\n",
    "    return negative"
   ]
  },
  {
   "cell_type": "code",
   "execution_count": 9,
   "metadata": {},
   "outputs": [
    {
     "name": "stdout",
     "output_type": "stream",
     "text": [
      "40.6 ms ± 1.1 ms per loop (mean ± std. dev. of 7 runs, 10 loops each)\n"
     ]
    }
   ],
   "source": [
    "%timeit create_negative(triples,n=10)"
   ]
  },
  {
   "cell_type": "code",
   "execution_count": 11,
   "metadata": {},
   "outputs": [
    {
     "data": {
      "application/vnd.jupyter.widget-view+json": {
       "model_id": "ed216a34a7424dec8ed2fbce2e98cd35",
       "version_major": 2,
       "version_minor": 0
      },
      "text/plain": [
       "HBox(children=(FloatProgress(value=0.0), HTML(value='')))"
      ]
     },
     "metadata": {},
     "output_type": "display_data"
    },
    {
     "name": "stdout",
     "output_type": "stream",
     "text": [
      "\n"
     ]
    }
   ],
   "source": [
    "\n",
    "import tqdm.notebook as tq\n",
    "\n",
    "embedding_model = ComplEx(entities,relations)\n",
    "\n",
    "best_loss = float('inf')\n",
    "losses = []\n",
    "patience=10\n",
    "\n",
    "if TRAINING:\n",
    "\n",
    "    for i in tq.tqdm(range(100)):\n",
    "\n",
    "        negative = create_negative(triples,n=10)\n",
    "\n",
    "        X = np.concatenate([triples,negative],axis=0)\n",
    "        y = np.concatenate([np.ones(len(triples)),-1*np.ones(len(negative))],axis=0)\n",
    "\n",
    "        hist = embedding_model.fit((X,y),y,\n",
    "                         batch_size=8192,\n",
    "                         shuffle=True,\n",
    "                         verbose=0)\n",
    "\n",
    "        l = hist.history['loss'][-1]\n",
    "        losses.append(l)\n",
    "        if l < best_loss:\n",
    "            best_loss = l\n",
    "            c = 0\n",
    "        else:\n",
    "            c += 1\n",
    "\n",
    "        if c > patience: break\n",
    "    \n",
    "    embedding_model.save_weights('model.tf')\n",
    "else:\n",
    "    embedding_model.load_weights('model.tf')\n",
    "    "
   ]
  },
  {
   "cell_type": "code",
   "execution_count": 12,
   "metadata": {},
   "outputs": [
    {
     "data": {
      "image/png": "[encoded data removed]",
      "text/plain": [
       "<Figure size 432x288 with 1 Axes>"
      ]
     },
     "metadata": {
      "needs_background": "light"
     },
     "output_type": "display_data"
    }
   ],
   "source": [
    "%matplotlib inline\n",
    "import matplotlib.pyplot as plt\n",
    "if TRAINING:\n",
    "    plt.plot(losses)"
   ]
  },
  {
   "cell_type": "code",
   "execution_count": 13,
   "metadata": {
    "scrolled": true
   },
   "outputs": [],
   "source": [
    "import pandas as pd\n",
    "\n",
    "effect_data = pd.read_csv('effect_data_extra.csv')\n",
    "ent = set(map(str,entities))\n",
    "effect_data = effect_data[effect_data['species'].isin(ent)]\n",
    "effect_data = effect_data[effect_data['chemical'].isin(ent)]\n",
    "effect_data = effect_data[effect_data['smiles_clusters']>=0].reset_index(drop=True)"
   ]
  },
  {
   "cell_type": "code",
   "execution_count": 14,
   "metadata": {},
   "outputs": [],
   "source": [
    "fps = {}\n",
    "\n",
    "import sys\n",
    "from SPARQLWrapper import SPARQLWrapper, JSON\n",
    "from pubchempy import Compound\n",
    "\n",
    "endpoint_url = \"https://query.wikidata.org/sparql\"\n",
    "\n",
    "query = \"\"\"select ?cas ?pc where {\n",
    "  ?c wdt:P231 ?tmp ;\n",
    "     wdt:P662 ?pc .\n",
    "  bind(replace(?tmp,'-','') as ?cas)\n",
    "}\"\"\"\n",
    "\n",
    "\n",
    "def get_results(endpoint_url, query):\n",
    "    user_agent = \"WDQS-example Python/%s.%s\" % (sys.version_info[0], sys.version_info[1])\n",
    "    # TODO adjust user agent; see https://w.wiki/CX6\n",
    "    sparql = SPARQLWrapper(endpoint_url, agent=user_agent)\n",
    "    sparql.setQuery(query)\n",
    "    sparql.setReturnFormat(JSON)\n",
    "    return sparql.query().convert()\n",
    "\n",
    "try: \n",
    "    fps = pd.read_pickle('fingerprints.pkl')\n",
    "\n",
    "except FileNotFoundError:\n",
    "    \n",
    "    results = get_results(endpoint_url, query)\n",
    "    for result in tq.tqdm(results[\"results\"][\"bindings\"]):\n",
    "        chem_id = 'https://cfpub.epa.gov/ecotox/cas/'+result['cas']['value']\n",
    "        if chem_id in set(effect_data.chemical.values): \n",
    "            vioxx = Compound.from_cid(int(result['pc']['value']))\n",
    "            fps[chem_id] = vioxx.fingerprint\n",
    "    pd.to_pickle(fps,'fingerprints.pkl')\n"
   ]
  },
  {
   "cell_type": "code",
   "execution_count": 15,
   "metadata": {},
   "outputs": [],
   "source": [
    "def to_bin(he): \n",
    "    scale = 16 ## equals to hexadecimal\n",
    "    num_of_bits = 900\n",
    "    return bin(int(he, scale))[2:].zfill(num_of_bits)\n",
    "\n",
    "effect_data['fp'] = [to_bin(fps[c]) if c in fps else to_bin('0') for c in effect_data['chemical'].values]"
   ]
  },
  {
   "cell_type": "code",
   "execution_count": 16,
   "metadata": {},
   "outputs": [
    {
     "data": {
      "text/plain": [
       "(7121, 11)"
      ]
     },
     "execution_count": 16,
     "metadata": {},
     "output_type": "execute_result"
    }
   ],
   "source": [
    "effect_data = effect_data[effect_data['fp']!=to_bin('0')]\n",
    "effect_data.shape"
   ]
  },
  {
   "cell_type": "code",
   "execution_count": 17,
   "metadata": {},
   "outputs": [
    {
     "data": {
      "text/html": [
       "<div>\n",
       "<style scoped>\n",
       "    .dataframe tbody tr th:only-of-type {\n",
       "        vertical-align: middle;\n",
       "    }\n",
       "\n",
       "    .dataframe tbody tr th {\n",
       "        vertical-align: top;\n",
       "    }\n",
       "\n",
       "    .dataframe thead th {\n",
       "        text-align: right;\n",
       "    }\n",
       "</style>\n",
       "<table border=\"1\" class=\"dataframe\">\n",
       "  <thead>\n",
       "    <tr style=\"text-align: right;\">\n",
       "      <th></th>\n",
       "      <th>Unnamed: 0</th>\n",
       "      <th>Unnamed: 0.1</th>\n",
       "      <th>species</th>\n",
       "      <th>chemical</th>\n",
       "      <th>conc (mol/L)</th>\n",
       "      <th>species_divisions</th>\n",
       "      <th>species_others</th>\n",
       "      <th>subClassOf</th>\n",
       "      <th>smiles</th>\n",
       "      <th>smiles_clusters</th>\n",
       "      <th>fp</th>\n",
       "    </tr>\n",
       "  </thead>\n",
       "  <tbody>\n",
       "    <tr>\n",
       "      <th>0</th>\n",
       "      <td>0</td>\n",
       "      <td>0</td>\n",
       "      <td>https://cfpub.epa.gov/ecotox/taxon/1</td>\n",
       "      <td>https://cfpub.epa.gov/ecotox/cas/10025919</td>\n",
       "      <td>3.051629</td>\n",
       "      <td>https://cfpub.epa.gov/ecotox/group/Fish</td>\n",
       "      <td>https://cfpub.epa.gov/ecotox/group/StandardTes...</td>\n",
       "      <td>NaN</td>\n",
       "      <td>Cl[Sb](Cl)Cl</td>\n",
       "      <td>4</td>\n",
       "      <td>0011011100010000000000000000000000000000000000...</td>\n",
       "    </tr>\n",
       "    <tr>\n",
       "      <th>1</th>\n",
       "      <td>1</td>\n",
       "      <td>1</td>\n",
       "      <td>https://cfpub.epa.gov/ecotox/taxon/1</td>\n",
       "      <td>https://cfpub.epa.gov/ecotox/cas/10028156</td>\n",
       "      <td>5.681105</td>\n",
       "      <td>https://cfpub.epa.gov/ecotox/group/Fish</td>\n",
       "      <td>https://cfpub.epa.gov/ecotox/group/StandardTes...</td>\n",
       "      <td>NaN</td>\n",
       "      <td>[O-][O+]=O</td>\n",
       "      <td>4</td>\n",
       "      <td>0011011100010000000000000000001100000000000000...</td>\n",
       "    </tr>\n",
       "    <tr>\n",
       "      <th>2</th>\n",
       "      <td>2</td>\n",
       "      <td>2</td>\n",
       "      <td>https://cfpub.epa.gov/ecotox/taxon/1</td>\n",
       "      <td>https://cfpub.epa.gov/ecotox/cas/100414</td>\n",
       "      <td>3.398977</td>\n",
       "      <td>https://cfpub.epa.gov/ecotox/group/Fish</td>\n",
       "      <td>https://cfpub.epa.gov/ecotox/group/StandardTes...</td>\n",
       "      <td>http://purl.obolibrary.org/obo/CHEBI_33832</td>\n",
       "      <td>CCC1=CC=CC=C1</td>\n",
       "      <td>2</td>\n",
       "      <td>0011011100011100000001110000000000000000000000...</td>\n",
       "    </tr>\n",
       "    <tr>\n",
       "      <th>3</th>\n",
       "      <td>3</td>\n",
       "      <td>3</td>\n",
       "      <td>https://cfpub.epa.gov/ecotox/taxon/1</td>\n",
       "      <td>https://cfpub.epa.gov/ecotox/cas/100425</td>\n",
       "      <td>3.512146</td>\n",
       "      <td>https://cfpub.epa.gov/ecotox/group/Fish</td>\n",
       "      <td>https://cfpub.epa.gov/ecotox/group/StandardTes...</td>\n",
       "      <td>http://purl.obolibrary.org/obo/CHEBI_134179,ht...</td>\n",
       "      <td>C=CC1=CC=CC=C1</td>\n",
       "      <td>2</td>\n",
       "      <td>0011011100011100000001110000000000000000000000...</td>\n",
       "    </tr>\n",
       "    <tr>\n",
       "      <th>4</th>\n",
       "      <td>4</td>\n",
       "      <td>4</td>\n",
       "      <td>https://cfpub.epa.gov/ecotox/taxon/1</td>\n",
       "      <td>https://cfpub.epa.gov/ecotox/cas/10043013</td>\n",
       "      <td>3.127255</td>\n",
       "      <td>https://cfpub.epa.gov/ecotox/group/Fish</td>\n",
       "      <td>https://cfpub.epa.gov/ecotox/group/StandardTes...</td>\n",
       "      <td>NaN</td>\n",
       "      <td>O=S1(=O)O[Al]2OS(=O)(=O)O[Al](O1)OS(=O)(=O)O2</td>\n",
       "      <td>4</td>\n",
       "      <td>0011011100010000000000000000001111000000000001...</td>\n",
       "    </tr>\n",
       "  </tbody>\n",
       "</table>\n",
       "</div>"
      ],
      "text/plain": [
       "   Unnamed: 0  Unnamed: 0.1                               species  \\\n",
       "0           0             0  https://cfpub.epa.gov/ecotox/taxon/1   \n",
       "1           1             1  https://cfpub.epa.gov/ecotox/taxon/1   \n",
       "2           2             2  https://cfpub.epa.gov/ecotox/taxon/1   \n",
       "3           3             3  https://cfpub.epa.gov/ecotox/taxon/1   \n",
       "4           4             4  https://cfpub.epa.gov/ecotox/taxon/1   \n",
       "\n",
       "                                    chemical  conc (mol/L)  \\\n",
       "0  https://cfpub.epa.gov/ecotox/cas/10025919      3.051629   \n",
       "1  https://cfpub.epa.gov/ecotox/cas/10028156      5.681105   \n",
       "2    https://cfpub.epa.gov/ecotox/cas/100414      3.398977   \n",
       "3    https://cfpub.epa.gov/ecotox/cas/100425      3.512146   \n",
       "4  https://cfpub.epa.gov/ecotox/cas/10043013      3.127255   \n",
       "\n",
       "                         species_divisions  \\\n",
       "0  https://cfpub.epa.gov/ecotox/group/Fish   \n",
       "1  https://cfpub.epa.gov/ecotox/group/Fish   \n",
       "2  https://cfpub.epa.gov/ecotox/group/Fish   \n",
       "3  https://cfpub.epa.gov/ecotox/group/Fish   \n",
       "4  https://cfpub.epa.gov/ecotox/group/Fish   \n",
       "\n",
       "                                      species_others  \\\n",
       "0  https://cfpub.epa.gov/ecotox/group/StandardTes...   \n",
       "1  https://cfpub.epa.gov/ecotox/group/StandardTes...   \n",
       "2  https://cfpub.epa.gov/ecotox/group/StandardTes...   \n",
       "3  https://cfpub.epa.gov/ecotox/group/StandardTes...   \n",
       "4  https://cfpub.epa.gov/ecotox/group/StandardTes...   \n",
       "\n",
       "                                          subClassOf  \\\n",
       "0                                                NaN   \n",
       "1                                                NaN   \n",
       "2         http://purl.obolibrary.org/obo/CHEBI_33832   \n",
       "3  http://purl.obolibrary.org/obo/CHEBI_134179,ht...   \n",
       "4                                                NaN   \n",
       "\n",
       "                                          smiles  smiles_clusters  \\\n",
       "0                                   Cl[Sb](Cl)Cl                4   \n",
       "1                                     [O-][O+]=O                4   \n",
       "2                                  CCC1=CC=CC=C1                2   \n",
       "3                                 C=CC1=CC=CC=C1                2   \n",
       "4  O=S1(=O)O[Al]2OS(=O)(=O)O[Al](O1)OS(=O)(=O)O2                4   \n",
       "\n",
       "                                                  fp  \n",
       "0  0011011100010000000000000000000000000000000000...  \n",
       "1  0011011100010000000000000000001100000000000000...  \n",
       "2  0011011100011100000001110000000000000000000000...  \n",
       "3  0011011100011100000001110000000000000000000000...  \n",
       "4  0011011100010000000000000000001111000000000001...  "
      ]
     },
     "execution_count": 17,
     "metadata": {},
     "output_type": "execute_result"
    }
   ],
   "source": [
    "effect_data.head()"
   ]
  },
  {
   "cell_type": "code",
   "execution_count": 18,
   "metadata": {},
   "outputs": [],
   "source": [
    "data = effect_data[['fp','species','chemical','conc (mol/L)']].values"
   ]
  },
  {
   "cell_type": "code",
   "execution_count": 19,
   "metadata": {},
   "outputs": [],
   "source": [
    "data = np.asarray([[fp,\n",
    "                    entity_mappings[URIRef(s)],\n",
    "                    entity_mappings[URIRef(c)],\n",
    "                    conc] for fp,s,c,conc in data])"
   ]
  },
  {
   "cell_type": "code",
   "execution_count": 20,
   "metadata": {},
   "outputs": [],
   "source": [
    "embedding_model.trainable=False\n",
    "from tensorflow.keras.layers import Concatenate, BatchNormalization, Activation\n",
    "def mlp(input_shape,use_embedding=False):\n",
    "    \n",
    "    inp_s = Input(())\n",
    "    inp_c = Input(())\n",
    "    inp = Input(input_shape)\n",
    "    \n",
    "    if use_embedding:\n",
    "        s = embedding_model.get_layer('entity_embedding')(inp_s)\n",
    "        c = embedding_model.get_layer('entity_embedding')(inp_c)\n",
    "    else:\n",
    "        el = Embedding(len(entities),200)\n",
    "        s = el(inp_s)\n",
    "        c = el(inp_c)\n",
    "    \n",
    "    x = Concatenate(axis=-1)([s,c])\n",
    "    x = Dense(128)(x)\n",
    "    x = Activation('relu')(x)\n",
    "    \n",
    "    x = Dropout(0.2)(x)\n",
    "    x = Dense(1)(x)\n",
    "    model = Model(inputs=[inp,inp_s,inp_c],outputs=x)\n",
    "    model.compile(optimizer='adam',loss='mse')\n",
    "    return model\n",
    "   \n",
    "    "
   ]
  },
  {
   "cell_type": "code",
   "execution_count": 21,
   "metadata": {},
   "outputs": [],
   "source": [
    "def create_autoencoder(dim):\n",
    "    encoder = tf.keras.models.Sequential([Dropout(0.2),Dense(200)])\n",
    "    model = tf.keras.models.Sequential([encoder,Dropout(0.2),Dense(dim,activation='sigmoid')])\n",
    "    model.compile(optimizer='adam',loss='binary_crossentropy')\n",
    "    return model, encoder\n",
    "    "
   ]
  },
  {
   "cell_type": "code",
   "execution_count": 22,
   "metadata": {
    "scrolled": true
   },
   "outputs": [],
   "source": [
    "def chunks(lst, n):\n",
    "    for i in range(0, len(lst), n):\n",
    "        yield lst[i:i + n]\n",
    "        \n",
    "def kfold_group(X,y,groups,k=5):\n",
    "    \n",
    "    group_idx = [np.random.permutation(np.where(groups==g)[0]) for g in np.unique(groups)]\n",
    "    \n",
    "    folds = []\n",
    "    \n",
    "    for j,g in enumerate(group_idx):\n",
    "        g_fold = []\n",
    "        for l in np.array_split(g,k):\n",
    "            g_fold.append(l)\n",
    "        folds.append(g_fold)\n",
    "        \n",
    "    for i in range(k):\n",
    "        test = np.concatenate([folds[j][i] for j in range(len(group_idx))])                          \n",
    "        train = np.concatenate([np.concatenate([folds[j][m] for j in range(len(group_idx))]) for m in range(k) if m!=i]).ravel()\n",
    "        \n",
    "        yield train,test\n",
    "        "
   ]
  },
  {
   "cell_type": "code",
   "execution_count": 23,
   "metadata": {},
   "outputs": [],
   "source": [
    "#kmeans on pubchem fp\n",
    "from sklearn.cluster import KMeans\n",
    "X = data[:,0]\n",
    "X = np.asarray(list(map(lambda x: np.asarray([float(a) for a in x]), X))).astype('float32')\n",
    "kmeans = KMeans(5)\n",
    "kmeans.fit(X)\n",
    "effect_data['pc_fp_cluster'] = kmeans.predict(X).ravel()"
   ]
  },
  {
   "cell_type": "code",
   "execution_count": 24,
   "metadata": {},
   "outputs": [
    {
     "data": {
      "application/vnd.jupyter.widget-view+json": {
       "model_id": "1e7b7d3f15ab4e97a033e8bd8a0e8c96",
       "version_major": 2,
       "version_minor": 0
      },
      "text/plain": [
       "HBox(children=(FloatProgress(value=0.0, max=10.0), HTML(value='')))"
      ]
     },
     "metadata": {},
     "output_type": "display_data"
    },
    {
     "data": {
      "application/vnd.jupyter.widget-view+json": {
       "model_id": "",
       "version_major": 2,
       "version_minor": 0
      },
      "text/plain": [
       "HBox(children=(FloatProgress(value=0.0, description='Folds', max=5.0, style=ProgressStyle(description_width='i…"
      ]
     },
     "metadata": {},
     "output_type": "display_data"
    },
    {
     "data": {
      "application/vnd.jupyter.widget-view+json": {
       "model_id": "",
       "version_major": 2,
       "version_minor": 0
      },
      "text/plain": [
       "HBox(children=(FloatProgress(value=0.0, description='Folds', max=5.0, style=ProgressStyle(description_width='i…"
      ]
     },
     "metadata": {},
     "output_type": "display_data"
    },
    {
     "data": {
      "application/vnd.jupyter.widget-view+json": {
       "model_id": "",
       "version_major": 2,
       "version_minor": 0
      },
      "text/plain": [
       "HBox(children=(FloatProgress(value=0.0, description='Folds', max=5.0, style=ProgressStyle(description_width='i…"
      ]
     },
     "metadata": {},
     "output_type": "display_data"
    },
    {
     "data": {
      "application/vnd.jupyter.widget-view+json": {
       "model_id": "",
       "version_major": 2,
       "version_minor": 0
      },
      "text/plain": [
       "HBox(children=(FloatProgress(value=0.0, description='Folds', max=5.0, style=ProgressStyle(description_width='i…"
      ]
     },
     "metadata": {},
     "output_type": "display_data"
    },
    {
     "data": {
      "application/vnd.jupyter.widget-view+json": {
       "model_id": "",
       "version_major": 2,
       "version_minor": 0
      },
      "text/plain": [
       "HBox(children=(FloatProgress(value=0.0, description='Folds', max=5.0, style=ProgressStyle(description_width='i…"
      ]
     },
     "metadata": {},
     "output_type": "display_data"
    },
    {
     "data": {
      "application/vnd.jupyter.widget-view+json": {
       "model_id": "",
       "version_major": 2,
       "version_minor": 0
      },
      "text/plain": [
       "HBox(children=(FloatProgress(value=0.0, description='Folds', max=5.0, style=ProgressStyle(description_width='i…"
      ]
     },
     "metadata": {},
     "output_type": "display_data"
    },
    {
     "data": {
      "application/vnd.jupyter.widget-view+json": {
       "model_id": "",
       "version_major": 2,
       "version_minor": 0
      },
      "text/plain": [
       "HBox(children=(FloatProgress(value=0.0, description='Folds', max=5.0, style=ProgressStyle(description_width='i…"
      ]
     },
     "metadata": {},
     "output_type": "display_data"
    },
    {
     "data": {
      "application/vnd.jupyter.widget-view+json": {
       "model_id": "",
       "version_major": 2,
       "version_minor": 0
      },
      "text/plain": [
       "HBox(children=(FloatProgress(value=0.0, description='Folds', max=5.0, style=ProgressStyle(description_width='i…"
      ]
     },
     "metadata": {},
     "output_type": "display_data"
    },
    {
     "data": {
      "application/vnd.jupyter.widget-view+json": {
       "model_id": "",
       "version_major": 2,
       "version_minor": 0
      },
      "text/plain": [
       "HBox(children=(FloatProgress(value=0.0, description='Folds', max=5.0, style=ProgressStyle(description_width='i…"
      ]
     },
     "metadata": {},
     "output_type": "display_data"
    },
    {
     "data": {
      "application/vnd.jupyter.widget-view+json": {
       "model_id": "",
       "version_major": 2,
       "version_minor": 0
      },
      "text/plain": [
       "HBox(children=(FloatProgress(value=0.0, description='Folds', max=5.0, style=ProgressStyle(description_width='i…"
      ]
     },
     "metadata": {},
     "output_type": "display_data"
    },
    {
     "name": "stdout",
     "output_type": "stream",
     "text": [
      "\n"
     ]
    },
    {
     "data": {
      "text/plain": [
       "('Out-of-fold R^2',\n",
       " 0.41052434758050105,\n",
       " '+-',\n",
       " 0.005333875020837626,\n",
       " 'Embedding:',\n",
       " 0.40367174023184427,\n",
       " '+-',\n",
       " 0.005333875020837626)"
      ]
     },
     "execution_count": 24,
     "metadata": {},
     "output_type": "execute_result"
    }
   ],
   "source": [
    "from sklearn.model_selection import KFold, GroupKFold, GroupShuffleSplit, LeaveOneGroupOut, StratifiedKFold\n",
    "from sklearn.metrics import r2_score\n",
    "import random\n",
    "\n",
    "Xs,Xc = data[:,1].astype(int),data[:,2].astype(int)\n",
    "y = data[:,3].astype('float32')\n",
    "X = data[:,0]\n",
    "\n",
    "X = np.asarray(list(map(lambda x: np.asarray([float(a) for a in x]), X))).astype('float32')\n",
    "\n",
    "groups = effect_data['pc_fp_cluster'].values\n",
    "folds = 5\n",
    "\n",
    "seed = 42\n",
    "np.random.seed(seed)\n",
    "random.seed(seed)\n",
    "tf.random.set_seed(seed)\n",
    "N = 10\n",
    "\n",
    "scores = []\n",
    "\n",
    "for _ in tq.tqdm(range(N)):\n",
    "\n",
    "    oof = np.zeros(y.shape)\n",
    "    oof_embedding = np.zeros(y.shape)\n",
    "    \n",
    "    for i,(train,test) in tq.tqdm(enumerate(kfold_group(X,y,groups=groups,k=folds)),\n",
    "                                  total=folds,\n",
    "                                  desc='Folds',\n",
    "                                  leave=False):\n",
    "\n",
    "        model = mlp(X.shape[-1],use_embedding=False)\n",
    "        model.fit((X[train],Xs[train],Xc[train]),y[train],\n",
    "                  validation_data=((X[test],Xs[test],Xc[test]),y[test]),\n",
    "                  batch_size=8192,epochs=1000,verbose=0,\n",
    "                 callbacks=[tf.keras.callbacks.EarlyStopping('val_loss',patience=10,restore_best_weights=True)])\n",
    "\n",
    "        p = model.predict((X[test],Xs[test],Xc[test])).ravel()\n",
    "        oof[test] += p\n",
    "\n",
    "        model = mlp(X.shape[-1],use_embedding=True)\n",
    "        model.fit((X[train],Xs[train],Xc[train]),y[train],\n",
    "                  validation_data=((X[test],Xs[test],Xc[test]),y[test]),\n",
    "                  batch_size=8192,epochs=1000,verbose=0,\n",
    "                 callbacks=[tf.keras.callbacks.EarlyStopping('val_loss',patience=10,restore_best_weights=True)])\n",
    "        p = model.predict((X[test],Xs[test],Xc[test])).ravel()\n",
    "        oof_embedding[test] += p\n",
    "        \n",
    "    scores.append([r2_score(y,oof),r2_score(y,oof_embedding)])\n",
    "\n",
    "s,s_embedding = np.split(np.asarray(scores),2,axis=1)\n",
    "\n",
    "'Out-of-fold R^2',np.mean(s),'+-',np.std(s),'Embedding:',np.mean(s_embedding),'+-',np.std(s)"
   ]
  },
  {
   "cell_type": "code",
   "execution_count": 28,
   "metadata": {},
   "outputs": [],
   "source": [
    "pd.DataFrame(data=dict(species=effect_data.species,chemical=effect_data.chemical,prediction=oof)).to_csv('predictions.csv')\n",
    "pd.DataFrame(data=dict(species=effect_data.species,chemical=effect_data.chemical,prediction=oof_embedding)).to_csv('predictions_embedding.csv')"
   ]
  },
  {
   "cell_type": "code",
   "execution_count": null,
   "metadata": {},
   "outputs": [],
   "source": []
  }
 ],
 "metadata": {
  "kernelspec": {
   "display_name": "Python 3",
   "language": "python",
   "name": "python3"
  },
  "language_info": {
   "codemirror_mode": {
    "name": "ipython",
    "version": 3
   },
   "file_extension": ".py",
   "mimetype": "text/x-python",
   "name": "python",
   "nbconvert_exporter": "python",
   "pygments_lexer": "ipython3",
   "version": "3.8.5"
  }
 },
 "nbformat": 4,
 "nbformat_minor": 4
}
