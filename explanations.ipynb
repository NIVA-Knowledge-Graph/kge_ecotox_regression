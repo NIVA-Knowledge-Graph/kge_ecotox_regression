{
 "cells": [
  {
   "cell_type": "code",
   "execution_count": 49,
   "metadata": {},
   "outputs": [
    {
     "data": {
      "text/html": [
       "<div>\n",
       "<style scoped>\n",
       "    .dataframe tbody tr th:only-of-type {\n",
       "        vertical-align: middle;\n",
       "    }\n",
       "\n",
       "    .dataframe tbody tr th {\n",
       "        vertical-align: top;\n",
       "    }\n",
       "\n",
       "    .dataframe thead th {\n",
       "        text-align: right;\n",
       "    }\n",
       "</style>\n",
       "<table border=\"1\" class=\"dataframe\">\n",
       "  <thead>\n",
       "    <tr style=\"text-align: right;\">\n",
       "      <th></th>\n",
       "      <th>Unnamed: 0</th>\n",
       "      <th>species</th>\n",
       "      <th>chemical</th>\n",
       "      <th>prediction</th>\n",
       "    </tr>\n",
       "  </thead>\n",
       "  <tbody>\n",
       "    <tr>\n",
       "      <th>0</th>\n",
       "      <td>0</td>\n",
       "      <td>https://cfpub.epa.gov/ecotox/taxon/1</td>\n",
       "      <td>https://cfpub.epa.gov/ecotox/cas/100414</td>\n",
       "      <td>0.004222</td>\n",
       "    </tr>\n",
       "    <tr>\n",
       "      <th>1</th>\n",
       "      <td>1</td>\n",
       "      <td>https://cfpub.epa.gov/ecotox/taxon/1</td>\n",
       "      <td>https://cfpub.epa.gov/ecotox/cas/100425</td>\n",
       "      <td>0.019484</td>\n",
       "    </tr>\n",
       "    <tr>\n",
       "      <th>2</th>\n",
       "      <td>2</td>\n",
       "      <td>https://cfpub.epa.gov/ecotox/taxon/1</td>\n",
       "      <td>https://cfpub.epa.gov/ecotox/cas/100447</td>\n",
       "      <td>0.013535</td>\n",
       "    </tr>\n",
       "    <tr>\n",
       "      <th>3</th>\n",
       "      <td>3</td>\n",
       "      <td>https://cfpub.epa.gov/ecotox/taxon/1</td>\n",
       "      <td>https://cfpub.epa.gov/ecotox/cas/100516</td>\n",
       "      <td>0.006229</td>\n",
       "    </tr>\n",
       "    <tr>\n",
       "      <th>4</th>\n",
       "      <td>4</td>\n",
       "      <td>https://cfpub.epa.gov/ecotox/taxon/1</td>\n",
       "      <td>https://cfpub.epa.gov/ecotox/cas/100527</td>\n",
       "      <td>0.020521</td>\n",
       "    </tr>\n",
       "  </tbody>\n",
       "</table>\n",
       "</div>"
      ],
      "text/plain": [
       "   Unnamed: 0                               species  \\\n",
       "0           0  https://cfpub.epa.gov/ecotox/taxon/1   \n",
       "1           1  https://cfpub.epa.gov/ecotox/taxon/1   \n",
       "2           2  https://cfpub.epa.gov/ecotox/taxon/1   \n",
       "3           3  https://cfpub.epa.gov/ecotox/taxon/1   \n",
       "4           4  https://cfpub.epa.gov/ecotox/taxon/1   \n",
       "\n",
       "                                  chemical  prediction  \n",
       "0  https://cfpub.epa.gov/ecotox/cas/100414    0.004222  \n",
       "1  https://cfpub.epa.gov/ecotox/cas/100425    0.019484  \n",
       "2  https://cfpub.epa.gov/ecotox/cas/100447    0.013535  \n",
       "3  https://cfpub.epa.gov/ecotox/cas/100516    0.006229  \n",
       "4  https://cfpub.epa.gov/ecotox/cas/100527    0.020521  "
      ]
     },
     "execution_count": 49,
     "metadata": {},
     "output_type": "execute_result"
    }
   ],
   "source": [
    "import pandas as pd\n",
    "import numpy as np\n",
    "\n",
    "ONLY_ORGANIC = True\n",
    "\n",
    "predictions = pd.read_csv('only_organic_predictions.csv' if ONLY_ORGANIC else 'predictions.csv')\n",
    "predictions_embedding = pd.read_csv('only_organic_predictions_embedding.csv' if ONLY_ORGANIC else 'predictions_embedding.csv')\n",
    "predictions.head()"
   ]
  },
  {
   "cell_type": "code",
   "execution_count": 50,
   "metadata": {
    "scrolled": true
   },
   "outputs": [
    {
     "data": {
      "text/html": [
       "<div>\n",
       "<style scoped>\n",
       "    .dataframe tbody tr th:only-of-type {\n",
       "        vertical-align: middle;\n",
       "    }\n",
       "\n",
       "    .dataframe tbody tr th {\n",
       "        vertical-align: top;\n",
       "    }\n",
       "\n",
       "    .dataframe thead th {\n",
       "        text-align: right;\n",
       "    }\n",
       "</style>\n",
       "<table border=\"1\" class=\"dataframe\">\n",
       "  <thead>\n",
       "    <tr style=\"text-align: right;\">\n",
       "      <th></th>\n",
       "      <th>Unnamed: 0</th>\n",
       "      <th>Unnamed: 0.1</th>\n",
       "      <th>species</th>\n",
       "      <th>chemical</th>\n",
       "      <th>conc (mol/L)</th>\n",
       "      <th>species_divisions</th>\n",
       "      <th>species_others</th>\n",
       "      <th>subClassOf</th>\n",
       "      <th>smiles</th>\n",
       "      <th>smiles_clusters</th>\n",
       "    </tr>\n",
       "  </thead>\n",
       "  <tbody>\n",
       "    <tr>\n",
       "      <th>0</th>\n",
       "      <td>0</td>\n",
       "      <td>0</td>\n",
       "      <td>https://cfpub.epa.gov/ecotox/taxon/1</td>\n",
       "      <td>https://cfpub.epa.gov/ecotox/cas/10025919</td>\n",
       "      <td>3.051629</td>\n",
       "      <td>https://cfpub.epa.gov/ecotox/group/Fish</td>\n",
       "      <td>https://cfpub.epa.gov/ecotox/group/StandardTes...</td>\n",
       "      <td>NaN</td>\n",
       "      <td>Cl[Sb](Cl)Cl</td>\n",
       "      <td>4</td>\n",
       "    </tr>\n",
       "    <tr>\n",
       "      <th>1</th>\n",
       "      <td>1</td>\n",
       "      <td>1</td>\n",
       "      <td>https://cfpub.epa.gov/ecotox/taxon/1</td>\n",
       "      <td>https://cfpub.epa.gov/ecotox/cas/10028156</td>\n",
       "      <td>5.681105</td>\n",
       "      <td>https://cfpub.epa.gov/ecotox/group/Fish</td>\n",
       "      <td>https://cfpub.epa.gov/ecotox/group/StandardTes...</td>\n",
       "      <td>NaN</td>\n",
       "      <td>[O-][O+]=O</td>\n",
       "      <td>4</td>\n",
       "    </tr>\n",
       "    <tr>\n",
       "      <th>2</th>\n",
       "      <td>2</td>\n",
       "      <td>2</td>\n",
       "      <td>https://cfpub.epa.gov/ecotox/taxon/1</td>\n",
       "      <td>https://cfpub.epa.gov/ecotox/cas/100414</td>\n",
       "      <td>3.398977</td>\n",
       "      <td>https://cfpub.epa.gov/ecotox/group/Fish</td>\n",
       "      <td>https://cfpub.epa.gov/ecotox/group/StandardTes...</td>\n",
       "      <td>http://purl.obolibrary.org/obo/CHEBI_33832</td>\n",
       "      <td>CCC1=CC=CC=C1</td>\n",
       "      <td>2</td>\n",
       "    </tr>\n",
       "    <tr>\n",
       "      <th>3</th>\n",
       "      <td>3</td>\n",
       "      <td>3</td>\n",
       "      <td>https://cfpub.epa.gov/ecotox/taxon/1</td>\n",
       "      <td>https://cfpub.epa.gov/ecotox/cas/100425</td>\n",
       "      <td>3.512146</td>\n",
       "      <td>https://cfpub.epa.gov/ecotox/group/Fish</td>\n",
       "      <td>https://cfpub.epa.gov/ecotox/group/StandardTes...</td>\n",
       "      <td>http://purl.obolibrary.org/obo/CHEBI_134179,ht...</td>\n",
       "      <td>C=CC1=CC=CC=C1</td>\n",
       "      <td>2</td>\n",
       "    </tr>\n",
       "    <tr>\n",
       "      <th>4</th>\n",
       "      <td>4</td>\n",
       "      <td>4</td>\n",
       "      <td>https://cfpub.epa.gov/ecotox/taxon/1</td>\n",
       "      <td>https://cfpub.epa.gov/ecotox/cas/10043013</td>\n",
       "      <td>3.127255</td>\n",
       "      <td>https://cfpub.epa.gov/ecotox/group/Fish</td>\n",
       "      <td>https://cfpub.epa.gov/ecotox/group/StandardTes...</td>\n",
       "      <td>NaN</td>\n",
       "      <td>O=S1(=O)O[Al]2OS(=O)(=O)O[Al](O1)OS(=O)(=O)O2</td>\n",
       "      <td>4</td>\n",
       "    </tr>\n",
       "  </tbody>\n",
       "</table>\n",
       "</div>"
      ],
      "text/plain": [
       "   Unnamed: 0  Unnamed: 0.1                               species  \\\n",
       "0           0             0  https://cfpub.epa.gov/ecotox/taxon/1   \n",
       "1           1             1  https://cfpub.epa.gov/ecotox/taxon/1   \n",
       "2           2             2  https://cfpub.epa.gov/ecotox/taxon/1   \n",
       "3           3             3  https://cfpub.epa.gov/ecotox/taxon/1   \n",
       "4           4             4  https://cfpub.epa.gov/ecotox/taxon/1   \n",
       "\n",
       "                                    chemical  conc (mol/L)  \\\n",
       "0  https://cfpub.epa.gov/ecotox/cas/10025919      3.051629   \n",
       "1  https://cfpub.epa.gov/ecotox/cas/10028156      5.681105   \n",
       "2    https://cfpub.epa.gov/ecotox/cas/100414      3.398977   \n",
       "3    https://cfpub.epa.gov/ecotox/cas/100425      3.512146   \n",
       "4  https://cfpub.epa.gov/ecotox/cas/10043013      3.127255   \n",
       "\n",
       "                         species_divisions  \\\n",
       "0  https://cfpub.epa.gov/ecotox/group/Fish   \n",
       "1  https://cfpub.epa.gov/ecotox/group/Fish   \n",
       "2  https://cfpub.epa.gov/ecotox/group/Fish   \n",
       "3  https://cfpub.epa.gov/ecotox/group/Fish   \n",
       "4  https://cfpub.epa.gov/ecotox/group/Fish   \n",
       "\n",
       "                                      species_others  \\\n",
       "0  https://cfpub.epa.gov/ecotox/group/StandardTes...   \n",
       "1  https://cfpub.epa.gov/ecotox/group/StandardTes...   \n",
       "2  https://cfpub.epa.gov/ecotox/group/StandardTes...   \n",
       "3  https://cfpub.epa.gov/ecotox/group/StandardTes...   \n",
       "4  https://cfpub.epa.gov/ecotox/group/StandardTes...   \n",
       "\n",
       "                                          subClassOf  \\\n",
       "0                                                NaN   \n",
       "1                                                NaN   \n",
       "2         http://purl.obolibrary.org/obo/CHEBI_33832   \n",
       "3  http://purl.obolibrary.org/obo/CHEBI_134179,ht...   \n",
       "4                                                NaN   \n",
       "\n",
       "                                          smiles  smiles_clusters  \n",
       "0                                   Cl[Sb](Cl)Cl                4  \n",
       "1                                     [O-][O+]=O                4  \n",
       "2                                  CCC1=CC=CC=C1                2  \n",
       "3                                 C=CC1=CC=CC=C1                2  \n",
       "4  O=S1(=O)O[Al]2OS(=O)(=O)O[Al](O1)OS(=O)(=O)O2                4  "
      ]
     },
     "execution_count": 50,
     "metadata": {},
     "output_type": "execute_result"
    }
   ],
   "source": [
    "effect_data = pd.read_csv('effect_data_extra.csv')\n",
    "effect_data.head()"
   ]
  },
  {
   "cell_type": "code",
   "execution_count": 51,
   "metadata": {},
   "outputs": [],
   "source": [
    "predictions = pd.merge(predictions, effect_data,  how='left', left_on=['species','chemical'], right_on = ['species','chemical'])\n",
    "predictions_embedding = pd.merge(predictions_embedding, effect_data,  how='left', left_on=['species','chemical'], right_on = ['species','chemical'])"
   ]
  },
  {
   "cell_type": "code",
   "execution_count": 52,
   "metadata": {},
   "outputs": [],
   "source": [
    "import sys\n",
    "from SPARQLWrapper import SPARQLWrapper, JSON\n",
    "namespace = 'https://cfpub.epa.gov/ecotox/'\n",
    "\n",
    "endpoint_url = \"https://query.wikidata.org/sparql\"\n",
    "\n",
    "query = \"\"\"select ?cas ?mw where {\n",
    "  ?c wdt:P231 ?castmp ;\n",
    "     wdt:P2067 ?mw .\n",
    "  bind(replace(?castmp,'-','') as ?cas)\n",
    "}\"\"\"\n",
    "\n",
    "def get_results(endpoint_url, query):\n",
    "    user_agent = \"WDQS-example Python/%s.%s\" % (sys.version_info[0], sys.version_info[1])\n",
    "    # TODO adjust user agent; see https://w.wiki/CX6\n",
    "    sparql = SPARQLWrapper(endpoint_url, agent=user_agent)\n",
    "    sparql.setQuery(query)\n",
    "    sparql.setReturnFormat(JSON)\n",
    "    return sparql.query().convert()\n",
    "\n",
    "results = get_results(endpoint_url, query)\n",
    "\n",
    "mw = {}\n",
    "for result in results[\"results\"][\"bindings\"]:\n",
    "    mw['https://cfpub.epa.gov/ecotox/cas/'+result['cas']['value']] = float(result['mw']['value'])\n"
   ]
  },
  {
   "cell_type": "code",
   "execution_count": 53,
   "metadata": {},
   "outputs": [],
   "source": [
    "predictions['molecular_weight'] = predictions['chemical'].apply(lambda x: mw[x])\n",
    "predictions_embedding['molecular_weight'] = predictions_embedding['chemical'].apply(lambda x: mw[x])"
   ]
  },
  {
   "cell_type": "code",
   "execution_count": 54,
   "metadata": {},
   "outputs": [],
   "source": [
    "f = lambda x,col: 1e3 * 10**(-x[col]) * x['molecular_weight']\n",
    "\n",
    "predictions['predicted conc (mg/L)'] = f(predictions,'prediction')\n",
    "predictions_embedding['predicted conc (mg/L)'] = f(predictions_embedding,'prediction')\n",
    "\n",
    "predictions['true conc (mg/L)'] = f(predictions,'conc (mol/L)')\n",
    "predictions_embedding['true conc (mg/L)'] = f(predictions_embedding,'conc (mol/L)')"
   ]
  },
  {
   "cell_type": "code",
   "execution_count": 55,
   "metadata": {},
   "outputs": [],
   "source": [
    "def hazard_function(c):\n",
    "    if np.isnan(c): \n",
    "        return 'NaN'\n",
    "    if c <= 1: #mg/L\n",
    "        return 'Category 1' # Very toxic\n",
    "    if c <= 10:\n",
    "        return 'Category 2' # Toxic\n",
    "    if c <= 100:\n",
    "        return 'Category 3' # Harmful\n",
    "    return 'Category 4' # Maybe harmful\n",
    "\n",
    "predictions['predicted hazard'] = list(map(hazard_function,predictions['predicted conc (mg/L)'].values))\n",
    "predictions_embedding['predicted hazard'] = list(map(hazard_function,predictions_embedding['predicted conc (mg/L)'].values))\n",
    "predictions['true hazard'] = list(map(hazard_function,predictions['true conc (mg/L)'].values))\n",
    "predictions_embedding['true hazard'] = list(map(hazard_function,predictions_embedding['true conc (mg/L)'].values))\n"
   ]
  },
  {
   "cell_type": "code",
   "execution_count": 56,
   "metadata": {},
   "outputs": [
    {
     "data": {
      "text/html": [
       "<div>\n",
       "<style scoped>\n",
       "    .dataframe tbody tr th:only-of-type {\n",
       "        vertical-align: middle;\n",
       "    }\n",
       "\n",
       "    .dataframe tbody tr th {\n",
       "        vertical-align: top;\n",
       "    }\n",
       "\n",
       "    .dataframe thead th {\n",
       "        text-align: right;\n",
       "    }\n",
       "</style>\n",
       "<table border=\"1\" class=\"dataframe\">\n",
       "  <thead>\n",
       "    <tr style=\"text-align: right;\">\n",
       "      <th></th>\n",
       "      <th>Unnamed: 0_x</th>\n",
       "      <th>species</th>\n",
       "      <th>chemical</th>\n",
       "      <th>prediction</th>\n",
       "      <th>Unnamed: 0_y</th>\n",
       "      <th>Unnamed: 0.1</th>\n",
       "      <th>conc (mol/L)</th>\n",
       "      <th>species_divisions</th>\n",
       "      <th>species_others</th>\n",
       "      <th>subClassOf</th>\n",
       "      <th>smiles</th>\n",
       "      <th>smiles_clusters</th>\n",
       "      <th>molecular_weight</th>\n",
       "      <th>predicted conc (mg/L)</th>\n",
       "      <th>true conc (mg/L)</th>\n",
       "      <th>true hazard</th>\n",
       "    </tr>\n",
       "    <tr>\n",
       "      <th>predicted hazard</th>\n",
       "      <th></th>\n",
       "      <th></th>\n",
       "      <th></th>\n",
       "      <th></th>\n",
       "      <th></th>\n",
       "      <th></th>\n",
       "      <th></th>\n",
       "      <th></th>\n",
       "      <th></th>\n",
       "      <th></th>\n",
       "      <th></th>\n",
       "      <th></th>\n",
       "      <th></th>\n",
       "      <th></th>\n",
       "      <th></th>\n",
       "      <th></th>\n",
       "    </tr>\n",
       "  </thead>\n",
       "  <tbody>\n",
       "    <tr>\n",
       "      <th>Category 4</th>\n",
       "      <td>3796</td>\n",
       "      <td>3796</td>\n",
       "      <td>3796</td>\n",
       "      <td>3796</td>\n",
       "      <td>3796</td>\n",
       "      <td>3796</td>\n",
       "      <td>3796</td>\n",
       "      <td>3796</td>\n",
       "      <td>1774</td>\n",
       "      <td>2565</td>\n",
       "      <td>3796</td>\n",
       "      <td>3796</td>\n",
       "      <td>3796</td>\n",
       "      <td>3796</td>\n",
       "      <td>3796</td>\n",
       "      <td>3796</td>\n",
       "    </tr>\n",
       "  </tbody>\n",
       "</table>\n",
       "</div>"
      ],
      "text/plain": [
       "                  Unnamed: 0_x  species  chemical  prediction  Unnamed: 0_y  \\\n",
       "predicted hazard                                                              \n",
       "Category 4                3796     3796      3796        3796          3796   \n",
       "\n",
       "                  Unnamed: 0.1  conc (mol/L)  species_divisions  \\\n",
       "predicted hazard                                                  \n",
       "Category 4                3796          3796               3796   \n",
       "\n",
       "                  species_others  subClassOf  smiles  smiles_clusters  \\\n",
       "predicted hazard                                                        \n",
       "Category 4                  1774        2565    3796             3796   \n",
       "\n",
       "                  molecular_weight  predicted conc (mg/L)  true conc (mg/L)  \\\n",
       "predicted hazard                                                              \n",
       "Category 4                    3796                   3796              3796   \n",
       "\n",
       "                  true hazard  \n",
       "predicted hazard               \n",
       "Category 4               3796  "
      ]
     },
     "execution_count": 56,
     "metadata": {},
     "output_type": "execute_result"
    }
   ],
   "source": [
    "predictions.groupby('predicted hazard').count()"
   ]
  },
  {
   "cell_type": "code",
   "execution_count": 57,
   "metadata": {},
   "outputs": [],
   "source": [
    "from rdflib import Graph, URIRef\n",
    "import numpy as np\n",
    "import glob \n",
    "graph = Graph()\n",
    "for filename in glob.glob('only_organic_reduced_kgs/reduced_*' if ONLY_ORGANIC else 'reduced_kgs/reduced_*'):\n",
    "    graph.load(filename,format=filename.split('.')[-1])\n",
    "graph.load('only_organic_physical_properties.ttl' if ONLY_ORGANIC else 'physical_properties.ttl',format='ttl')\n",
    "    \n",
    "entities = sorted(list(set(graph.subjects()) | set(graph.objects())))\n",
    "relations = sorted(list(set(graph.predicates())))\n",
    "\n",
    "entity_mappings = {e:i for i,e in enumerate(entities)}\n",
    "inverse_entity_mappings = {i:e for i,e in enumerate(entities)}\n",
    "relation_mappings = {e:i for i,e in enumerate(relations)}\n",
    "triples = np.asarray(list(map(lambda x: (entity_mappings[x[0]],\n",
    "                                         relation_mappings[x[1]],\n",
    "                                         entity_mappings[x[2]]),graph)))"
   ]
  },
  {
   "cell_type": "code",
   "execution_count": 58,
   "metadata": {},
   "outputs": [],
   "source": [
    "import sys  \n",
    "sys.path.insert(0, './')\n",
    "from embedding_model import ComplEx"
   ]
  },
  {
   "cell_type": "code",
   "execution_count": 59,
   "metadata": {},
   "outputs": [
    {
     "name": "stdout",
     "output_type": "stream",
     "text": [
      "WARNING:tensorflow:Unresolved object in checkpoint: (root).optimizer.iter\n",
      "WARNING:tensorflow:Unresolved object in checkpoint: (root).optimizer.beta_1\n",
      "WARNING:tensorflow:Unresolved object in checkpoint: (root).optimizer.beta_2\n",
      "WARNING:tensorflow:Unresolved object in checkpoint: (root).optimizer.decay\n",
      "WARNING:tensorflow:Unresolved object in checkpoint: (root).optimizer.learning_rate\n",
      "WARNING:tensorflow:A checkpoint was restored (e.g. tf.train.Checkpoint.restore or tf.keras.Model.load_weights) but not all checkpointed values were used. See above for specific issues. Use expect_partial() on the load status object, e.g. tf.train.Checkpoint.restore(...).expect_partial(), to silence these warnings, or use assert_consumed() to make the check explicit. See https://www.tensorflow.org/guide/checkpoint#loading_mechanics for details.\n"
     ]
    }
   ],
   "source": [
    "embedding_model = ComplEx(entities,relations)\n",
    "embedding_model.load_weights('only_organic_model.tf' if ONLY_ORGANIC else 'model.tf')\n",
    "entity_matrix = embedding_model.get_layer('entity_embedding').weights[0].numpy()"
   ]
  },
  {
   "cell_type": "code",
   "execution_count": 60,
   "metadata": {},
   "outputs": [],
   "source": [
    "species = set(predictions.species)\n",
    "chemicals = set(predictions.chemical)"
   ]
  },
  {
   "cell_type": "code",
   "execution_count": 61,
   "metadata": {},
   "outputs": [
    {
     "data": {
      "application/vnd.jupyter.widget-view+json": {
       "model_id": "58f776bdb19647ac8abd0b61ea3715de",
       "version_major": 2,
       "version_minor": 0
      },
      "text/plain": [
       "HBox(children=(FloatProgress(value=0.0, max=828100.0), HTML(value='')))"
      ]
     },
     "metadata": {},
     "output_type": "display_data"
    },
    {
     "name": "stdout",
     "output_type": "stream",
     "text": [
      "\n"
     ]
    },
    {
     "data": {
      "application/vnd.jupyter.widget-view+json": {
       "model_id": "170cbca32c064879a80bbdcb830b57d4",
       "version_major": 2,
       "version_minor": 0
      },
      "text/plain": [
       "HBox(children=(FloatProgress(value=0.0, max=139129.0), HTML(value='')))"
      ]
     },
     "metadata": {},
     "output_type": "display_data"
    },
    {
     "name": "stdout",
     "output_type": "stream",
     "text": [
      "\n",
      "CPU times: user 16.1 s, sys: 2.49 s, total: 18.6 s\n",
      "Wall time: 15.8 s\n"
     ]
    }
   ],
   "source": [
    "%%time\n",
    "import tqdm.notebook as tq\n",
    "from itertools import product\n",
    "from scipy.spatial import distance\n",
    "\n",
    "lf = lambda x,y: np.linalg.norm(x-y,ord=2)\n",
    "\n",
    "distance_matrix_species = np.asarray([lf(entity_matrix[entity_mappings[URIRef(s1)]],entity_matrix[entity_mappings[URIRef(s2)]]) for s1,s2 in tq.tqdm(product(species,species),total=len(species)**2)]).reshape((len(species),len(species)))\n",
    "distance_matrix_chemicals = np.asarray([lf(entity_matrix[entity_mappings[URIRef(c1)]],entity_matrix[entity_mappings[URIRef(c2)]]) for c1,c2 in tq.tqdm(product(chemicals,chemicals),total=len(chemicals)**2)]).reshape((len(chemicals),len(chemicals)))"
   ]
  },
  {
   "cell_type": "code",
   "execution_count": 62,
   "metadata": {},
   "outputs": [
    {
     "data": {
      "text/plain": [
       "(910, 910)"
      ]
     },
     "execution_count": 62,
     "metadata": {},
     "output_type": "execute_result"
    }
   ],
   "source": [
    "distance_matrix_species.shape"
   ]
  },
  {
   "cell_type": "code",
   "execution_count": 63,
   "metadata": {},
   "outputs": [],
   "source": [
    "species_mappings = {k:i for i,k in enumerate(species)}\n",
    "chemical_mappings = {k:i for i,k in enumerate(chemicals)}\n",
    "inverse_species_mappings = {i:k for i,k in enumerate(species)}\n",
    "inverse_chemical_mappings = {i:k for i,k in enumerate(chemicals)}"
   ]
  },
  {
   "cell_type": "code",
   "execution_count": 64,
   "metadata": {},
   "outputs": [],
   "source": [
    "taxonomy = Graph()\n",
    "taxonomy.load('./only_organic_reduced_kgs/reduced_taxonomy.nt' if ONLY_ORGANIC else './reduced_kgs/reduced_taxonomy.nt',format='nt')\n",
    "chemical_graph = Graph()\n",
    "chemical_graph = Graph()\n",
    "for filename in glob.glob('only_organic_reduced_kgs/reduced_*' if ONLY_ORGANIC else 'reduced_kgs/reduced_*'):\n",
    "    chemical_graph.load(filename,format=filename.split('.')[-1])"
   ]
  },
  {
   "cell_type": "code",
   "execution_count": 65,
   "metadata": {},
   "outputs": [],
   "source": [
    "from rdflib.namespace import RDFS\n",
    "def taxon_name(uri):\n",
    "    try:\n",
    "        return str(list(taxonomy.objects(subject=URIRef(uri),predicate=URIRef('https://cfpub.epa.gov/ecotox/latinName'))).pop(0))\n",
    "    except:\n",
    "        return uri\n",
    "    \n",
    "def chemical_name(uri):\n",
    "    try:\n",
    "        l = list(chemical_graph.objects(subject=URIRef(uri),predicate=RDFS.label))\n",
    "        return str(l.pop(0)).split('/')[-1]\n",
    "    except:\n",
    "        return uri\n",
    "    "
   ]
  },
  {
   "cell_type": "code",
   "execution_count": 66,
   "metadata": {},
   "outputs": [],
   "source": [
    "import sys\n",
    "from collections import defaultdict\n",
    "from SPARQLWrapper import SPARQLWrapper, JSON\n",
    "\n",
    "endpoint_url = \"https://query.wikidata.org/sparql\"\n",
    "\n",
    "def get_results(endpoint_url, query):\n",
    "    user_agent = \"WDQS-example Python/%s.%s\" % (sys.version_info[0], sys.version_info[1])\n",
    "    # TODO adjust user agent; see https://w.wiki/CX6\n",
    "    sparql = SPARQLWrapper(endpoint_url, agent=user_agent)\n",
    "    sparql.setQuery(query)\n",
    "    sparql.setReturnFormat(JSON)\n",
    "    return sparql.query().convert()\n",
    "\n",
    "def wikidata_explanation(list_of_uris):\n",
    "    \n",
    "    query = \"\"\"select ?cas ?p ?o where {\n",
    "                  values ?cas {%s}\n",
    "                  ?chem wdt:P231 ?castmp ;\n",
    "                          ?p ?o .\n",
    "                  bind (replace(?castmp,\"-\",\"\") as ?cas)\n",
    "                  filter (!isLiteral(?o))\n",
    "                }\"\"\" % ' '.join(map(lambda x: '\\\"' + x.split('/')[-1] + '\\\"',list_of_uris))\n",
    "\n",
    "    d = defaultdict(set)\n",
    "    \n",
    "    results = get_results(endpoint_url, query)\n",
    "\n",
    "    for result in results[\"results\"][\"bindings\"]:\n",
    "        d[result['cas']['value']].add((result['p']['value'],result['o']['value']))\n",
    "    \n",
    "    return set.intersection(*[d[k] for k in d])\n"
   ]
  },
  {
   "cell_type": "code",
   "execution_count": 67,
   "metadata": {},
   "outputs": [],
   "source": [
    "predictions_embedding['categorical error'] = [abs(int(true.split()[-1])-int(pred.split()[-1])) for true,pred in zip(predictions_embedding['true hazard'].values,predictions_embedding['predicted hazard'].values)]\n",
    "predictions_embedding['log-mae (mol/L)'] = abs(predictions_embedding['conc (mol/L)']- predictions_embedding['prediction'])"
   ]
  },
  {
   "cell_type": "code",
   "execution_count": 68,
   "metadata": {},
   "outputs": [],
   "source": [
    "predictions_embedding.sort_values(by='log-mae (mol/L)',axis=0,inplace=True,ascending=True)"
   ]
  },
  {
   "cell_type": "code",
   "execution_count": 69,
   "metadata": {
    "scrolled": true
   },
   "outputs": [
    {
     "name": "stdout",
     "output_type": "stream",
     "text": [
      "True hazard: Category 3, predicted: Category 4. log-mae (mol/L): 2.5143664806154518\n",
      "Explanation\n",
      "Close species common facts:\n",
      " \thttps://www.ncbi.nlm.nih.gov/taxonomy/rank,https://www.ncbi.nlm.nih.gov/taxonomy/rank/species\n",
      "\thttp://www.w3.org/1999/02/22-rdf-syntax-ns#type,https://www.ncbi.nlm.nih.gov/taxonomy/division/1\n",
      "Close compound common facts:\n",
      " \thttp://id.nlm.nih.gov/mesh/vocab#allowableQualifier,http://id.nlm.nih.gov/mesh/Q000037\n",
      "\thttp://id.nlm.nih.gov/mesh/vocab#allowableQualifier,http://id.nlm.nih.gov/mesh/Q000032\n",
      "\thttp://id.nlm.nih.gov/mesh/vocab#allowableQualifier,http://id.nlm.nih.gov/mesh/Q000652\n",
      "\thttp://id.nlm.nih.gov/mesh/vocab#allowableQualifier,http://id.nlm.nih.gov/mesh/Q000266\n",
      "\thttp://id.nlm.nih.gov/mesh/vocab#allowableQualifier,http://id.nlm.nih.gov/mesh/Q000145\n",
      "\thttp://id.nlm.nih.gov/mesh/vocab#allowableQualifier,http://id.nlm.nih.gov/mesh/Q000008\n",
      "\thttp://id.nlm.nih.gov/mesh/vocab#allowableQualifier,http://id.nlm.nih.gov/mesh/Q000138\n",
      "\thttp://id.nlm.nih.gov/mesh/vocab#allowableQualifier,http://id.nlm.nih.gov/mesh/Q000494\n",
      "\thttp://id.nlm.nih.gov/mesh/vocab#allowableQualifier,http://id.nlm.nih.gov/mesh/Q000276\n",
      "\thttp://id.nlm.nih.gov/mesh/vocab#allowableQualifier,http://id.nlm.nih.gov/mesh/Q000031\n",
      "\thttp://id.nlm.nih.gov/mesh/vocab#allowableQualifier,http://id.nlm.nih.gov/mesh/Q000819\n",
      "\thttp://id.nlm.nih.gov/mesh/vocab#allowableQualifier,http://id.nlm.nih.gov/mesh/Q000633\n",
      "\thttp://id.nlm.nih.gov/mesh/vocab#allowableQualifier,http://id.nlm.nih.gov/mesh/Q000528\n",
      "\thttp://id.nlm.nih.gov/mesh/vocab#allowableQualifier,http://id.nlm.nih.gov/mesh/Q000191\n",
      "\thttp://id.nlm.nih.gov/mesh/vocab#allowableQualifier,http://id.nlm.nih.gov/mesh/Q000506\n",
      "\thttp://id.nlm.nih.gov/mesh/vocab#allowableQualifier,http://id.nlm.nih.gov/mesh/Q000737\n",
      "\thttp://id.nlm.nih.gov/mesh/vocab#allowableQualifier,http://id.nlm.nih.gov/mesh/Q000600\n",
      "\thttp://id.nlm.nih.gov/mesh/vocab#allowableQualifier,http://id.nlm.nih.gov/mesh/Q000009\n",
      "\thttp://www.w3.org/1999/02/22-rdf-syntax-ns#type,http://id.nlm.nih.gov/mesh/vocab#TopicalDescriptor\n",
      "\thttp://id.nlm.nih.gov/mesh/vocab#allowableQualifier,http://id.nlm.nih.gov/mesh/Q000134\n",
      "\thttp://id.nlm.nih.gov/mesh/vocab#allowableQualifier,http://id.nlm.nih.gov/mesh/Q000627\n",
      "\thttp://www.geneontology.org/formats/oboInOwl#inSubset,http://purl.obolibrary.org/obo/chebi#3_STAR\n",
      "\thttp://id.nlm.nih.gov/mesh/vocab#allowableQualifier,http://id.nlm.nih.gov/mesh/Q000378\n",
      "\thttp://id.nlm.nih.gov/mesh/vocab#allowableQualifier,http://id.nlm.nih.gov/mesh/Q000302\n",
      "\thttp://id.nlm.nih.gov/mesh/vocab#allowableQualifier,http://id.nlm.nih.gov/mesh/Q000592\n",
      "\thttp://id.nlm.nih.gov/mesh/vocab#allowableQualifier,http://id.nlm.nih.gov/mesh/Q000097\n",
      "\thttp://www.w3.org/1999/02/22-rdf-syntax-ns#type,http://www.w3.org/2002/07/owl#Class\n",
      "\thttp://id.nlm.nih.gov/mesh/vocab#allowableQualifier,http://id.nlm.nih.gov/mesh/Q000493\n",
      "True hazard: Category 3, predicted: Category 4. log-mae (mol/L): 2.518309574404233\n",
      "Explanation\n",
      "Close species common facts:\n",
      " \thttps://www.ncbi.nlm.nih.gov/taxonomy/rank,https://www.ncbi.nlm.nih.gov/taxonomy/rank/species\n",
      "\thttp://www.w3.org/1999/02/22-rdf-syntax-ns#type,https://www.ncbi.nlm.nih.gov/taxonomy/division/1\n",
      "Close compound common facts:\n",
      " \thttp://www.w3.org/1999/02/22-rdf-syntax-ns#type,http://www.w3.org/2002/07/owl#Class\n",
      "\thttp://www.geneontology.org/formats/oboInOwl#inSubset,http://purl.obolibrary.org/obo/chebi#3_STAR\n",
      "True hazard: Category 3, predicted: Category 4. log-mae (mol/L): 2.557708632461741\n",
      "Explanation\n",
      "Close species common facts:\n",
      " \thttps://www.ncbi.nlm.nih.gov/taxonomy/rank,https://www.ncbi.nlm.nih.gov/taxonomy/rank/species\n",
      "\thttp://www.w3.org/1999/02/22-rdf-syntax-ns#type,https://www.ncbi.nlm.nih.gov/taxonomy/division/1\n",
      "Close compound common facts:\n",
      " \thttp://www.w3.org/1999/02/22-rdf-syntax-ns#type,http://www.w3.org/2002/07/owl#Class\n",
      "\thttp://www.geneontology.org/formats/oboInOwl#inSubset,http://purl.obolibrary.org/obo/chebi#3_STAR\n",
      "True hazard: Category 3, predicted: Category 4. log-mae (mol/L): 2.5609816252053967\n",
      "Explanation\n",
      "Close species common facts:\n",
      " \thttps://www.ncbi.nlm.nih.gov/taxonomy/rank,https://www.ncbi.nlm.nih.gov/taxonomy/rank/species\n",
      "\thttp://www.w3.org/1999/02/22-rdf-syntax-ns#type,https://www.ncbi.nlm.nih.gov/taxonomy/division/1\n",
      "Close compound common facts:\n",
      " \thttp://www.w3.org/1999/02/22-rdf-syntax-ns#type,http://www.w3.org/2002/07/owl#Class\n",
      "\thttp://www.geneontology.org/formats/oboInOwl#inSubset,http://purl.obolibrary.org/obo/chebi#3_STAR\n",
      "True hazard: Category 3, predicted: Category 4. log-mae (mol/L): 2.565826871575509\n",
      "Explanation\n",
      "Close species common facts:\n",
      " \thttp://www.w3.org/2000/01/rdf-schema#subClassOf,https://www.ncbi.nlm.nih.gov/taxonomy/division/0\n",
      "Close compound common facts:\n",
      " \thttp://id.nlm.nih.gov/mesh/vocab#allowableQualifier,http://id.nlm.nih.gov/mesh/Q000037\n",
      "\thttp://id.nlm.nih.gov/mesh/vocab#allowableQualifier,http://id.nlm.nih.gov/mesh/Q000032\n",
      "\thttp://id.nlm.nih.gov/mesh/vocab#allowableQualifier,http://id.nlm.nih.gov/mesh/Q000652\n",
      "\thttp://id.nlm.nih.gov/mesh/vocab#allowableQualifier,http://id.nlm.nih.gov/mesh/Q000266\n",
      "\thttp://id.nlm.nih.gov/mesh/vocab#allowableQualifier,http://id.nlm.nih.gov/mesh/Q000145\n",
      "\thttp://id.nlm.nih.gov/mesh/vocab#allowableQualifier,http://id.nlm.nih.gov/mesh/Q000008\n",
      "\thttp://id.nlm.nih.gov/mesh/vocab#allowableQualifier,http://id.nlm.nih.gov/mesh/Q000138\n",
      "\thttp://id.nlm.nih.gov/mesh/vocab#allowableQualifier,http://id.nlm.nih.gov/mesh/Q000494\n",
      "\thttp://id.nlm.nih.gov/mesh/vocab#allowableQualifier,http://id.nlm.nih.gov/mesh/Q000276\n",
      "\thttp://id.nlm.nih.gov/mesh/vocab#allowableQualifier,http://id.nlm.nih.gov/mesh/Q000031\n",
      "\thttp://id.nlm.nih.gov/mesh/vocab#allowableQualifier,http://id.nlm.nih.gov/mesh/Q000819\n",
      "\thttp://id.nlm.nih.gov/mesh/vocab#allowableQualifier,http://id.nlm.nih.gov/mesh/Q000633\n",
      "\thttp://id.nlm.nih.gov/mesh/vocab#allowableQualifier,http://id.nlm.nih.gov/mesh/Q000528\n",
      "\thttp://id.nlm.nih.gov/mesh/vocab#allowableQualifier,http://id.nlm.nih.gov/mesh/Q000191\n",
      "\thttp://id.nlm.nih.gov/mesh/vocab#allowableQualifier,http://id.nlm.nih.gov/mesh/Q000506\n",
      "\thttp://id.nlm.nih.gov/mesh/vocab#allowableQualifier,http://id.nlm.nih.gov/mesh/Q000737\n",
      "\thttp://id.nlm.nih.gov/mesh/vocab#allowableQualifier,http://id.nlm.nih.gov/mesh/Q000600\n",
      "\thttp://id.nlm.nih.gov/mesh/vocab#allowableQualifier,http://id.nlm.nih.gov/mesh/Q000009\n",
      "\thttp://www.w3.org/1999/02/22-rdf-syntax-ns#type,http://id.nlm.nih.gov/mesh/vocab#TopicalDescriptor\n",
      "\thttp://id.nlm.nih.gov/mesh/vocab#allowableQualifier,http://id.nlm.nih.gov/mesh/Q000134\n",
      "\thttp://id.nlm.nih.gov/mesh/vocab#allowableQualifier,http://id.nlm.nih.gov/mesh/Q000627\n",
      "\thttp://www.geneontology.org/formats/oboInOwl#inSubset,http://purl.obolibrary.org/obo/chebi#3_STAR\n",
      "\thttp://id.nlm.nih.gov/mesh/vocab#allowableQualifier,http://id.nlm.nih.gov/mesh/Q000378\n",
      "\thttp://id.nlm.nih.gov/mesh/vocab#allowableQualifier,http://id.nlm.nih.gov/mesh/Q000302\n",
      "\thttp://id.nlm.nih.gov/mesh/vocab#allowableQualifier,http://id.nlm.nih.gov/mesh/Q000592\n",
      "\thttp://id.nlm.nih.gov/mesh/vocab#allowableQualifier,http://id.nlm.nih.gov/mesh/Q000097\n",
      "\thttp://www.w3.org/1999/02/22-rdf-syntax-ns#type,http://www.w3.org/2002/07/owl#Class\n",
      "\thttp://id.nlm.nih.gov/mesh/vocab#allowableQualifier,http://id.nlm.nih.gov/mesh/Q000493\n",
      "True hazard: Category 3, predicted: Category 4. log-mae (mol/L): 2.570016221572816\n",
      "Explanation\n",
      "Close species common facts:\n",
      " \thttp://www.w3.org/1999/02/22-rdf-syntax-ns#type,https://www.ncbi.nlm.nih.gov/taxonomy/division/10\n",
      "\thttps://www.ncbi.nlm.nih.gov/taxonomy/rank,https://www.ncbi.nlm.nih.gov/taxonomy/rank/species\n",
      "Close compound common facts:\n",
      " \thttp://id.nlm.nih.gov/mesh/vocab#allowableQualifier,http://id.nlm.nih.gov/mesh/Q000037\n",
      "\thttp://id.nlm.nih.gov/mesh/vocab#allowableQualifier,http://id.nlm.nih.gov/mesh/Q000032\n",
      "\thttp://id.nlm.nih.gov/mesh/vocab#allowableQualifier,http://id.nlm.nih.gov/mesh/Q000652\n",
      "\thttp://id.nlm.nih.gov/mesh/vocab#allowableQualifier,http://id.nlm.nih.gov/mesh/Q000266\n",
      "\thttp://id.nlm.nih.gov/mesh/vocab#allowableQualifier,http://id.nlm.nih.gov/mesh/Q000145\n",
      "\thttp://id.nlm.nih.gov/mesh/vocab#allowableQualifier,http://id.nlm.nih.gov/mesh/Q000008\n",
      "\thttp://id.nlm.nih.gov/mesh/vocab#allowableQualifier,http://id.nlm.nih.gov/mesh/Q000138\n",
      "\thttp://id.nlm.nih.gov/mesh/vocab#allowableQualifier,http://id.nlm.nih.gov/mesh/Q000494\n",
      "\thttp://id.nlm.nih.gov/mesh/vocab#allowableQualifier,http://id.nlm.nih.gov/mesh/Q000276\n",
      "\thttp://id.nlm.nih.gov/mesh/vocab#allowableQualifier,http://id.nlm.nih.gov/mesh/Q000031\n",
      "\thttp://id.nlm.nih.gov/mesh/vocab#allowableQualifier,http://id.nlm.nih.gov/mesh/Q000819\n",
      "\thttp://id.nlm.nih.gov/mesh/vocab#allowableQualifier,http://id.nlm.nih.gov/mesh/Q000633\n",
      "\thttp://id.nlm.nih.gov/mesh/vocab#allowableQualifier,http://id.nlm.nih.gov/mesh/Q000528\n",
      "\thttp://id.nlm.nih.gov/mesh/vocab#allowableQualifier,http://id.nlm.nih.gov/mesh/Q000191\n",
      "\thttp://id.nlm.nih.gov/mesh/vocab#allowableQualifier,http://id.nlm.nih.gov/mesh/Q000506\n",
      "\thttp://id.nlm.nih.gov/mesh/vocab#allowableQualifier,http://id.nlm.nih.gov/mesh/Q000737\n",
      "\thttp://id.nlm.nih.gov/mesh/vocab#allowableQualifier,http://id.nlm.nih.gov/mesh/Q000600\n",
      "\thttp://id.nlm.nih.gov/mesh/vocab#allowableQualifier,http://id.nlm.nih.gov/mesh/Q000009\n",
      "\thttp://www.w3.org/1999/02/22-rdf-syntax-ns#type,http://id.nlm.nih.gov/mesh/vocab#TopicalDescriptor\n",
      "\thttp://id.nlm.nih.gov/mesh/vocab#allowableQualifier,http://id.nlm.nih.gov/mesh/Q000134\n",
      "\thttp://id.nlm.nih.gov/mesh/vocab#allowableQualifier,http://id.nlm.nih.gov/mesh/Q000627\n",
      "\thttp://www.geneontology.org/formats/oboInOwl#inSubset,http://purl.obolibrary.org/obo/chebi#3_STAR\n",
      "\thttp://id.nlm.nih.gov/mesh/vocab#allowableQualifier,http://id.nlm.nih.gov/mesh/Q000378\n",
      "\thttp://id.nlm.nih.gov/mesh/vocab#allowableQualifier,http://id.nlm.nih.gov/mesh/Q000302\n",
      "\thttp://id.nlm.nih.gov/mesh/vocab#allowableQualifier,http://id.nlm.nih.gov/mesh/Q000592\n",
      "\thttp://id.nlm.nih.gov/mesh/vocab#allowableQualifier,http://id.nlm.nih.gov/mesh/Q000097\n",
      "\thttp://www.w3.org/1999/02/22-rdf-syntax-ns#type,http://www.w3.org/2002/07/owl#Class\n",
      "\thttp://id.nlm.nih.gov/mesh/vocab#allowableQualifier,http://id.nlm.nih.gov/mesh/Q000493\n",
      "True hazard: Category 3, predicted: Category 4. log-mae (mol/L): 2.6154899255240753\n",
      "Explanation\n",
      "Close species common facts:\n",
      " \thttps://www.ncbi.nlm.nih.gov/taxonomy/rank,https://www.ncbi.nlm.nih.gov/taxonomy/rank/species\n",
      "\thttp://www.w3.org/1999/02/22-rdf-syntax-ns#type,https://www.ncbi.nlm.nih.gov/taxonomy/division/1\n",
      "Close compound common facts:\n",
      " \thttp://www.w3.org/1999/02/22-rdf-syntax-ns#type,http://www.w3.org/2002/07/owl#Class\n",
      "\thttp://www.geneontology.org/formats/oboInOwl#inSubset,http://purl.obolibrary.org/obo/chebi#3_STAR\n"
     ]
    }
   ],
   "source": [
    "n = 3\n",
    "for i,row in enumerate(predictions_embedding[predictions_embedding['true hazard'] != 'Category 4'].iterrows()):\n",
    "    \n",
    "    true_haz = row[1]['true hazard']\n",
    "    pred_haz = row[1]['predicted hazard']\n",
    "    \n",
    "    exp_species = np.argsort(distance_matrix_species[species_mappings[row[1]['species']]])[:n+1]\n",
    "    exp_chemical = np.argsort(distance_matrix_chemicals[chemical_mappings[row[1]['chemical']]])[:n+1]\n",
    "    \n",
    "    print(f'True hazard: {true_haz}, predicted: {pred_haz}. log-mae (mol/L):',row[1]['log-mae (mol/L)'])\n",
    "    \n",
    "    tn = taxon_name(row[1]['species'])\n",
    "    cn = chemical_name(row[1]['chemical'])\n",
    " \n",
    "    sp = [URIRef(inverse_species_mappings[i]) for i in exp_species]\n",
    "    cp = [URIRef(inverse_chemical_mappings[i]) for i in exp_chemical]\n",
    "    \n",
    "    explanation_s = set.intersection(*[set(taxonomy.predicate_objects(subject=s)) for s in sp])\n",
    "    explanation_c = set.intersection(*[set(chemical_graph.predicate_objects(subject=c)) for c in cp])\n",
    "    \n",
    "    #explanation_s = wikidata_explanation(map(str,sp))\n",
    "    #explanation_c = wikidata_explanation(map(str,cp))\n",
    "    \n",
    "    print('Explanation')\n",
    "    print('Close species common facts:\\n','\\t'+'\\n\\t'.join(map(lambda x: ','.join(taxon_name(x)),explanation_s)))\n",
    "    print('Close compound common facts:\\n','\\t'+'\\n\\t'.join(map(','.join,explanation_c)))\n",
    "    \n",
    "    #print(f'{tn} close to',[taxon_name(inverse_species_mappings[i]) for i in exp_species])\n",
    "    #print(f'{cn} close to',[chemical_name(inverse_chemical_mappings[i]) for i in exp_chemical])\n",
    "    #print('')\n",
    "    \n",
    "    if i > 5: break"
   ]
  },
  {
   "cell_type": "code",
   "execution_count": 70,
   "metadata": {},
   "outputs": [
    {
     "data": {
      "text/plain": [
       "(-5.180131454790831, -5.1575973244339925)"
      ]
     },
     "execution_count": 70,
     "metadata": {},
     "output_type": "execute_result"
    }
   ],
   "source": [
    "from sklearn.metrics import r2_score\n",
    "\n",
    "r2_score(predictions['conc (mol/L)'], predictions['prediction']),r2_score(predictions_embedding['conc (mol/L)'], predictions_embedding['prediction'])"
   ]
  },
  {
   "cell_type": "code",
   "execution_count": 71,
   "metadata": {},
   "outputs": [
    {
     "data": {
      "text/plain": [
       "(1.3788198103266596, 1.3788198103266596)"
      ]
     },
     "execution_count": 71,
     "metadata": {},
     "output_type": "execute_result"
    }
   ],
   "source": [
    "def hazard_category_metric(true,pred):\n",
    "    true = np.asarray(list(map(lambda x: int(x.split(' ')[-1]),true)))\n",
    "    pred = np.asarray(list(map(lambda x: int(x.split(' ')[-1]),pred)))\n",
    "    \n",
    "    m = np.where(true-pred>0,abs(true-pred)/3,abs(true-pred))\n",
    "    \n",
    "    return np.mean(m)\n",
    "    \n",
    "hazard_category_metric(predictions['true hazard'],predictions['predicted hazard']),hazard_category_metric(predictions_embedding['true hazard'],predictions_embedding['predicted hazard'])\n"
   ]
  },
  {
   "cell_type": "code",
   "execution_count": null,
   "metadata": {},
   "outputs": [],
   "source": []
  }
 ],
 "metadata": {
  "kernelspec": {
   "display_name": "Python 3",
   "language": "python",
   "name": "python3"
  },
  "language_info": {
   "codemirror_mode": {
    "name": "ipython",
    "version": 3
   },
   "file_extension": ".py",
   "mimetype": "text/x-python",
   "name": "python",
   "nbconvert_exporter": "python",
   "pygments_lexer": "ipython3",
   "version": "3.8.5"
  }
 },
 "nbformat": 4,
 "nbformat_minor": 4
}
