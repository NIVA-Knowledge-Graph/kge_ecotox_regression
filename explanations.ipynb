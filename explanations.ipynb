{
 "cells": [
  {
   "cell_type": "code",
   "execution_count": 159,
   "metadata": {},
   "outputs": [
    {
     "data": {
      "text/html": [
       "<div>\n",
       "<style scoped>\n",
       "    .dataframe tbody tr th:only-of-type {\n",
       "        vertical-align: middle;\n",
       "    }\n",
       "\n",
       "    .dataframe tbody tr th {\n",
       "        vertical-align: top;\n",
       "    }\n",
       "\n",
       "    .dataframe thead th {\n",
       "        text-align: right;\n",
       "    }\n",
       "</style>\n",
       "<table border=\"1\" class=\"dataframe\">\n",
       "  <thead>\n",
       "    <tr style=\"text-align: right;\">\n",
       "      <th></th>\n",
       "      <th>Unnamed: 0</th>\n",
       "      <th>species</th>\n",
       "      <th>chemical</th>\n",
       "      <th>prediction</th>\n",
       "    </tr>\n",
       "  </thead>\n",
       "  <tbody>\n",
       "    <tr>\n",
       "      <th>0</th>\n",
       "      <td>0</td>\n",
       "      <td>https://cfpub.epa.gov/ecotox/taxon/1</td>\n",
       "      <td>https://cfpub.epa.gov/ecotox/cas/10025919</td>\n",
       "      <td>3.409423</td>\n",
       "    </tr>\n",
       "    <tr>\n",
       "      <th>1</th>\n",
       "      <td>1</td>\n",
       "      <td>https://cfpub.epa.gov/ecotox/taxon/1</td>\n",
       "      <td>https://cfpub.epa.gov/ecotox/cas/10028156</td>\n",
       "      <td>4.745417</td>\n",
       "    </tr>\n",
       "    <tr>\n",
       "      <th>2</th>\n",
       "      <td>2</td>\n",
       "      <td>https://cfpub.epa.gov/ecotox/taxon/1</td>\n",
       "      <td>https://cfpub.epa.gov/ecotox/cas/100414</td>\n",
       "      <td>3.118691</td>\n",
       "    </tr>\n",
       "    <tr>\n",
       "      <th>3</th>\n",
       "      <td>3</td>\n",
       "      <td>https://cfpub.epa.gov/ecotox/taxon/1</td>\n",
       "      <td>https://cfpub.epa.gov/ecotox/cas/100425</td>\n",
       "      <td>3.371569</td>\n",
       "    </tr>\n",
       "    <tr>\n",
       "      <th>4</th>\n",
       "      <td>4</td>\n",
       "      <td>https://cfpub.epa.gov/ecotox/taxon/1</td>\n",
       "      <td>https://cfpub.epa.gov/ecotox/cas/10043013</td>\n",
       "      <td>3.915030</td>\n",
       "    </tr>\n",
       "  </tbody>\n",
       "</table>\n",
       "</div>"
      ],
      "text/plain": [
       "   Unnamed: 0                               species  \\\n",
       "0           0  https://cfpub.epa.gov/ecotox/taxon/1   \n",
       "1           1  https://cfpub.epa.gov/ecotox/taxon/1   \n",
       "2           2  https://cfpub.epa.gov/ecotox/taxon/1   \n",
       "3           3  https://cfpub.epa.gov/ecotox/taxon/1   \n",
       "4           4  https://cfpub.epa.gov/ecotox/taxon/1   \n",
       "\n",
       "                                    chemical  prediction  \n",
       "0  https://cfpub.epa.gov/ecotox/cas/10025919    3.409423  \n",
       "1  https://cfpub.epa.gov/ecotox/cas/10028156    4.745417  \n",
       "2    https://cfpub.epa.gov/ecotox/cas/100414    3.118691  \n",
       "3    https://cfpub.epa.gov/ecotox/cas/100425    3.371569  \n",
       "4  https://cfpub.epa.gov/ecotox/cas/10043013    3.915030  "
      ]
     },
     "execution_count": 159,
     "metadata": {},
     "output_type": "execute_result"
    }
   ],
   "source": [
    "import pandas as pd\n",
    "import numpy as np\n",
    "predictions = pd.read_csv('predictions.csv')\n",
    "predictions_embedding = pd.read_csv('predictions_embedding.csv')\n",
    "predictions.head()"
   ]
  },
  {
   "cell_type": "code",
   "execution_count": 191,
   "metadata": {
    "scrolled": true
   },
   "outputs": [
    {
     "data": {
      "text/html": [
       "<div>\n",
       "<style scoped>\n",
       "    .dataframe tbody tr th:only-of-type {\n",
       "        vertical-align: middle;\n",
       "    }\n",
       "\n",
       "    .dataframe tbody tr th {\n",
       "        vertical-align: top;\n",
       "    }\n",
       "\n",
       "    .dataframe thead th {\n",
       "        text-align: right;\n",
       "    }\n",
       "</style>\n",
       "<table border=\"1\" class=\"dataframe\">\n",
       "  <thead>\n",
       "    <tr style=\"text-align: right;\">\n",
       "      <th></th>\n",
       "      <th>Unnamed: 0</th>\n",
       "      <th>Unnamed: 0.1</th>\n",
       "      <th>species</th>\n",
       "      <th>chemical</th>\n",
       "      <th>conc (mol/L)</th>\n",
       "      <th>species_divisions</th>\n",
       "      <th>species_others</th>\n",
       "      <th>subClassOf</th>\n",
       "      <th>smiles</th>\n",
       "      <th>smiles_clusters</th>\n",
       "    </tr>\n",
       "  </thead>\n",
       "  <tbody>\n",
       "    <tr>\n",
       "      <th>0</th>\n",
       "      <td>0</td>\n",
       "      <td>0</td>\n",
       "      <td>https://cfpub.epa.gov/ecotox/taxon/1</td>\n",
       "      <td>https://cfpub.epa.gov/ecotox/cas/10025919</td>\n",
       "      <td>3.051629</td>\n",
       "      <td>https://cfpub.epa.gov/ecotox/group/Fish</td>\n",
       "      <td>https://cfpub.epa.gov/ecotox/group/StandardTes...</td>\n",
       "      <td>NaN</td>\n",
       "      <td>Cl[Sb](Cl)Cl</td>\n",
       "      <td>4</td>\n",
       "    </tr>\n",
       "    <tr>\n",
       "      <th>1</th>\n",
       "      <td>1</td>\n",
       "      <td>1</td>\n",
       "      <td>https://cfpub.epa.gov/ecotox/taxon/1</td>\n",
       "      <td>https://cfpub.epa.gov/ecotox/cas/10028156</td>\n",
       "      <td>5.681105</td>\n",
       "      <td>https://cfpub.epa.gov/ecotox/group/Fish</td>\n",
       "      <td>https://cfpub.epa.gov/ecotox/group/StandardTes...</td>\n",
       "      <td>NaN</td>\n",
       "      <td>[O-][O+]=O</td>\n",
       "      <td>4</td>\n",
       "    </tr>\n",
       "    <tr>\n",
       "      <th>2</th>\n",
       "      <td>2</td>\n",
       "      <td>2</td>\n",
       "      <td>https://cfpub.epa.gov/ecotox/taxon/1</td>\n",
       "      <td>https://cfpub.epa.gov/ecotox/cas/100414</td>\n",
       "      <td>3.398977</td>\n",
       "      <td>https://cfpub.epa.gov/ecotox/group/Fish</td>\n",
       "      <td>https://cfpub.epa.gov/ecotox/group/StandardTes...</td>\n",
       "      <td>http://purl.obolibrary.org/obo/CHEBI_33832</td>\n",
       "      <td>CCC1=CC=CC=C1</td>\n",
       "      <td>2</td>\n",
       "    </tr>\n",
       "    <tr>\n",
       "      <th>3</th>\n",
       "      <td>3</td>\n",
       "      <td>3</td>\n",
       "      <td>https://cfpub.epa.gov/ecotox/taxon/1</td>\n",
       "      <td>https://cfpub.epa.gov/ecotox/cas/100425</td>\n",
       "      <td>3.512146</td>\n",
       "      <td>https://cfpub.epa.gov/ecotox/group/Fish</td>\n",
       "      <td>https://cfpub.epa.gov/ecotox/group/StandardTes...</td>\n",
       "      <td>http://purl.obolibrary.org/obo/CHEBI_134179,ht...</td>\n",
       "      <td>C=CC1=CC=CC=C1</td>\n",
       "      <td>2</td>\n",
       "    </tr>\n",
       "    <tr>\n",
       "      <th>4</th>\n",
       "      <td>4</td>\n",
       "      <td>4</td>\n",
       "      <td>https://cfpub.epa.gov/ecotox/taxon/1</td>\n",
       "      <td>https://cfpub.epa.gov/ecotox/cas/10043013</td>\n",
       "      <td>3.127255</td>\n",
       "      <td>https://cfpub.epa.gov/ecotox/group/Fish</td>\n",
       "      <td>https://cfpub.epa.gov/ecotox/group/StandardTes...</td>\n",
       "      <td>NaN</td>\n",
       "      <td>O=S1(=O)O[Al]2OS(=O)(=O)O[Al](O1)OS(=O)(=O)O2</td>\n",
       "      <td>4</td>\n",
       "    </tr>\n",
       "  </tbody>\n",
       "</table>\n",
       "</div>"
      ],
      "text/plain": [
       "   Unnamed: 0  Unnamed: 0.1                               species  \\\n",
       "0           0             0  https://cfpub.epa.gov/ecotox/taxon/1   \n",
       "1           1             1  https://cfpub.epa.gov/ecotox/taxon/1   \n",
       "2           2             2  https://cfpub.epa.gov/ecotox/taxon/1   \n",
       "3           3             3  https://cfpub.epa.gov/ecotox/taxon/1   \n",
       "4           4             4  https://cfpub.epa.gov/ecotox/taxon/1   \n",
       "\n",
       "                                    chemical  conc (mol/L)  \\\n",
       "0  https://cfpub.epa.gov/ecotox/cas/10025919      3.051629   \n",
       "1  https://cfpub.epa.gov/ecotox/cas/10028156      5.681105   \n",
       "2    https://cfpub.epa.gov/ecotox/cas/100414      3.398977   \n",
       "3    https://cfpub.epa.gov/ecotox/cas/100425      3.512146   \n",
       "4  https://cfpub.epa.gov/ecotox/cas/10043013      3.127255   \n",
       "\n",
       "                         species_divisions  \\\n",
       "0  https://cfpub.epa.gov/ecotox/group/Fish   \n",
       "1  https://cfpub.epa.gov/ecotox/group/Fish   \n",
       "2  https://cfpub.epa.gov/ecotox/group/Fish   \n",
       "3  https://cfpub.epa.gov/ecotox/group/Fish   \n",
       "4  https://cfpub.epa.gov/ecotox/group/Fish   \n",
       "\n",
       "                                      species_others  \\\n",
       "0  https://cfpub.epa.gov/ecotox/group/StandardTes...   \n",
       "1  https://cfpub.epa.gov/ecotox/group/StandardTes...   \n",
       "2  https://cfpub.epa.gov/ecotox/group/StandardTes...   \n",
       "3  https://cfpub.epa.gov/ecotox/group/StandardTes...   \n",
       "4  https://cfpub.epa.gov/ecotox/group/StandardTes...   \n",
       "\n",
       "                                          subClassOf  \\\n",
       "0                                                NaN   \n",
       "1                                                NaN   \n",
       "2         http://purl.obolibrary.org/obo/CHEBI_33832   \n",
       "3  http://purl.obolibrary.org/obo/CHEBI_134179,ht...   \n",
       "4                                                NaN   \n",
       "\n",
       "                                          smiles  smiles_clusters  \n",
       "0                                   Cl[Sb](Cl)Cl                4  \n",
       "1                                     [O-][O+]=O                4  \n",
       "2                                  CCC1=CC=CC=C1                2  \n",
       "3                                 C=CC1=CC=CC=C1                2  \n",
       "4  O=S1(=O)O[Al]2OS(=O)(=O)O[Al](O1)OS(=O)(=O)O2                4  "
      ]
     },
     "execution_count": 191,
     "metadata": {},
     "output_type": "execute_result"
    }
   ],
   "source": [
    "effect_data = pd.read_csv('effect_data_extra.csv')\n",
    "effect_data.head()"
   ]
  },
  {
   "cell_type": "code",
   "execution_count": 161,
   "metadata": {},
   "outputs": [],
   "source": [
    "predictions = pd.merge(predictions, effect_data,  how='left', left_on=['species','chemical'], right_on = ['species','chemical'])\n",
    "predictions_embedding = pd.merge(predictions_embedding, effect_data,  how='left', left_on=['species','chemical'], right_on = ['species','chemical'])"
   ]
  },
  {
   "cell_type": "code",
   "execution_count": 162,
   "metadata": {},
   "outputs": [],
   "source": [
    "import sys\n",
    "from SPARQLWrapper import SPARQLWrapper, JSON\n",
    "namespace = 'https://cfpub.epa.gov/ecotox/'\n",
    "\n",
    "endpoint_url = \"https://query.wikidata.org/sparql\"\n",
    "\n",
    "query = \"\"\"select ?cas ?mw where {\n",
    "  ?c wdt:P231 ?castmp ;\n",
    "     wdt:P2067 ?mw .\n",
    "  bind(replace(?castmp,'-','') as ?cas)\n",
    "}\"\"\"\n",
    "\n",
    "def get_results(endpoint_url, query):\n",
    "    user_agent = \"WDQS-example Python/%s.%s\" % (sys.version_info[0], sys.version_info[1])\n",
    "    # TODO adjust user agent; see https://w.wiki/CX6\n",
    "    sparql = SPARQLWrapper(endpoint_url, agent=user_agent)\n",
    "    sparql.setQuery(query)\n",
    "    sparql.setReturnFormat(JSON)\n",
    "    return sparql.query().convert()\n",
    "\n",
    "results = get_results(endpoint_url, query)\n",
    "\n",
    "mw = {}\n",
    "for result in results[\"results\"][\"bindings\"]:\n",
    "    mw['https://cfpub.epa.gov/ecotox/cas/'+result['cas']['value']] = float(result['mw']['value'])\n"
   ]
  },
  {
   "cell_type": "code",
   "execution_count": 163,
   "metadata": {},
   "outputs": [],
   "source": [
    "predictions['molecular_weight'] = predictions['chemical'].apply(lambda x: mw[x])\n",
    "predictions_embedding['molecular_weight'] = predictions_embedding['chemical'].apply(lambda x: mw[x])"
   ]
  },
  {
   "cell_type": "code",
   "execution_count": 164,
   "metadata": {},
   "outputs": [],
   "source": [
    "f = lambda x,col: 1e3 * 10**(-x[col]) * x['molecular_weight']\n",
    "\n",
    "predictions['predicted conc (mg/L)'] = f(predictions,'prediction')\n",
    "predictions_embedding['predicted conc (mg/L)'] = f(predictions_embedding,'prediction')\n",
    "\n",
    "predictions['true conc (mg/L)'] = f(predictions,'conc (mol/L)')\n",
    "predictions_embedding['true conc (mg/L)'] = f(predictions_embedding,'conc (mol/L)')"
   ]
  },
  {
   "cell_type": "code",
   "execution_count": 165,
   "metadata": {},
   "outputs": [],
   "source": [
    "def hazard_function(c):\n",
    "    if np.isnan(c): \n",
    "        return 'NaN'\n",
    "    if c <= 1: #mg/L\n",
    "        return 'Category 1' # Very toxic\n",
    "    if c <= 10:\n",
    "        return 'Category 2' # Toxic\n",
    "    if c <= 100:\n",
    "        return 'Category 3' # Harmful\n",
    "    return 'Category 4' # Maybe harmful\n",
    "\n",
    "predictions['predicted hazard'] = list(map(hazard_function,predictions['predicted conc (mg/L)'].values))\n",
    "predictions_embedding['predicted hazard'] = list(map(hazard_function,predictions_embedding['predicted conc (mg/L)'].values))\n",
    "predictions['true hazard'] = list(map(hazard_function,predictions['true conc (mg/L)'].values))\n",
    "predictions_embedding['true hazard'] = list(map(hazard_function,predictions_embedding['true conc (mg/L)'].values))\n"
   ]
  },
  {
   "cell_type": "code",
   "execution_count": 166,
   "metadata": {},
   "outputs": [
    {
     "data": {
      "text/html": [
       "<div>\n",
       "<style scoped>\n",
       "    .dataframe tbody tr th:only-of-type {\n",
       "        vertical-align: middle;\n",
       "    }\n",
       "\n",
       "    .dataframe tbody tr th {\n",
       "        vertical-align: top;\n",
       "    }\n",
       "\n",
       "    .dataframe thead th {\n",
       "        text-align: right;\n",
       "    }\n",
       "</style>\n",
       "<table border=\"1\" class=\"dataframe\">\n",
       "  <thead>\n",
       "    <tr style=\"text-align: right;\">\n",
       "      <th></th>\n",
       "      <th>Unnamed: 0_x</th>\n",
       "      <th>species</th>\n",
       "      <th>chemical</th>\n",
       "      <th>prediction</th>\n",
       "      <th>Unnamed: 0_y</th>\n",
       "      <th>Unnamed: 0.1</th>\n",
       "      <th>conc (mol/L)</th>\n",
       "      <th>species_divisions</th>\n",
       "      <th>species_others</th>\n",
       "      <th>subClassOf</th>\n",
       "      <th>smiles</th>\n",
       "      <th>smiles_clusters</th>\n",
       "      <th>molecular_weight</th>\n",
       "      <th>predicted conc (mg/L)</th>\n",
       "      <th>true conc (mg/L)</th>\n",
       "      <th>true hazard</th>\n",
       "    </tr>\n",
       "    <tr>\n",
       "      <th>predicted hazard</th>\n",
       "      <th></th>\n",
       "      <th></th>\n",
       "      <th></th>\n",
       "      <th></th>\n",
       "      <th></th>\n",
       "      <th></th>\n",
       "      <th></th>\n",
       "      <th></th>\n",
       "      <th></th>\n",
       "      <th></th>\n",
       "      <th></th>\n",
       "      <th></th>\n",
       "      <th></th>\n",
       "      <th></th>\n",
       "      <th></th>\n",
       "      <th></th>\n",
       "    </tr>\n",
       "  </thead>\n",
       "  <tbody>\n",
       "    <tr>\n",
       "      <th>Category 1</th>\n",
       "      <td>1246</td>\n",
       "      <td>1246</td>\n",
       "      <td>1246</td>\n",
       "      <td>1246</td>\n",
       "      <td>1246</td>\n",
       "      <td>1246</td>\n",
       "      <td>1246</td>\n",
       "      <td>1246</td>\n",
       "      <td>428</td>\n",
       "      <td>478</td>\n",
       "      <td>1246</td>\n",
       "      <td>1246</td>\n",
       "      <td>1246</td>\n",
       "      <td>1246</td>\n",
       "      <td>1246</td>\n",
       "      <td>1246</td>\n",
       "    </tr>\n",
       "    <tr>\n",
       "      <th>Category 2</th>\n",
       "      <td>2039</td>\n",
       "      <td>2039</td>\n",
       "      <td>2039</td>\n",
       "      <td>2039</td>\n",
       "      <td>2039</td>\n",
       "      <td>2039</td>\n",
       "      <td>2039</td>\n",
       "      <td>2039</td>\n",
       "      <td>914</td>\n",
       "      <td>601</td>\n",
       "      <td>2039</td>\n",
       "      <td>2039</td>\n",
       "      <td>2039</td>\n",
       "      <td>2039</td>\n",
       "      <td>2039</td>\n",
       "      <td>2039</td>\n",
       "    </tr>\n",
       "    <tr>\n",
       "      <th>Category 3</th>\n",
       "      <td>1800</td>\n",
       "      <td>1800</td>\n",
       "      <td>1800</td>\n",
       "      <td>1800</td>\n",
       "      <td>1800</td>\n",
       "      <td>1800</td>\n",
       "      <td>1800</td>\n",
       "      <td>1800</td>\n",
       "      <td>873</td>\n",
       "      <td>715</td>\n",
       "      <td>1800</td>\n",
       "      <td>1800</td>\n",
       "      <td>1800</td>\n",
       "      <td>1800</td>\n",
       "      <td>1800</td>\n",
       "      <td>1800</td>\n",
       "    </tr>\n",
       "    <tr>\n",
       "      <th>Category 4</th>\n",
       "      <td>2036</td>\n",
       "      <td>2036</td>\n",
       "      <td>2036</td>\n",
       "      <td>2036</td>\n",
       "      <td>2036</td>\n",
       "      <td>2036</td>\n",
       "      <td>2036</td>\n",
       "      <td>2036</td>\n",
       "      <td>768</td>\n",
       "      <td>775</td>\n",
       "      <td>2036</td>\n",
       "      <td>2036</td>\n",
       "      <td>2036</td>\n",
       "      <td>2036</td>\n",
       "      <td>2036</td>\n",
       "      <td>2036</td>\n",
       "    </tr>\n",
       "  </tbody>\n",
       "</table>\n",
       "</div>"
      ],
      "text/plain": [
       "                  Unnamed: 0_x  species  chemical  prediction  Unnamed: 0_y  \\\n",
       "predicted hazard                                                              \n",
       "Category 1                1246     1246      1246        1246          1246   \n",
       "Category 2                2039     2039      2039        2039          2039   \n",
       "Category 3                1800     1800      1800        1800          1800   \n",
       "Category 4                2036     2036      2036        2036          2036   \n",
       "\n",
       "                  Unnamed: 0.1  conc (mol/L)  species_divisions  \\\n",
       "predicted hazard                                                  \n",
       "Category 1                1246          1246               1246   \n",
       "Category 2                2039          2039               2039   \n",
       "Category 3                1800          1800               1800   \n",
       "Category 4                2036          2036               2036   \n",
       "\n",
       "                  species_others  subClassOf  smiles  smiles_clusters  \\\n",
       "predicted hazard                                                        \n",
       "Category 1                   428         478    1246             1246   \n",
       "Category 2                   914         601    2039             2039   \n",
       "Category 3                   873         715    1800             1800   \n",
       "Category 4                   768         775    2036             2036   \n",
       "\n",
       "                  molecular_weight  predicted conc (mg/L)  true conc (mg/L)  \\\n",
       "predicted hazard                                                              \n",
       "Category 1                    1246                   1246              1246   \n",
       "Category 2                    2039                   2039              2039   \n",
       "Category 3                    1800                   1800              1800   \n",
       "Category 4                    2036                   2036              2036   \n",
       "\n",
       "                  true hazard  \n",
       "predicted hazard               \n",
       "Category 1               1246  \n",
       "Category 2               2039  \n",
       "Category 3               1800  \n",
       "Category 4               2036  "
      ]
     },
     "execution_count": 166,
     "metadata": {},
     "output_type": "execute_result"
    }
   ],
   "source": [
    "predictions.groupby('predicted hazard').count()"
   ]
  },
  {
   "cell_type": "code",
   "execution_count": 167,
   "metadata": {},
   "outputs": [],
   "source": [
    "from rdflib import Graph, URIRef\n",
    "import numpy as np\n",
    "import glob \n",
    "graph = Graph()\n",
    "for filename in glob.glob('reduced_kgs/reduced_*'):\n",
    "    graph.load(filename,format=filename.split('.')[-1])\n",
    "entities = sorted(list(set(graph.subjects()) | set(graph.objects())))\n",
    "relations = sorted(list(set(graph.predicates())))\n",
    "\n",
    "entity_mappings = {e:i for i,e in enumerate(entities)}\n",
    "relation_mappings = {e:i for i,e in enumerate(relations)}\n",
    "triples = np.asarray(list(map(lambda x: (entity_mappings[x[0]],\n",
    "                                         relation_mappings[x[1]],\n",
    "                                         entity_mappings[x[2]]),graph)))"
   ]
  },
  {
   "cell_type": "code",
   "execution_count": 168,
   "metadata": {},
   "outputs": [],
   "source": [
    "import sys  \n",
    "sys.path.insert(0, './')\n",
    "from embedding_model import ComplEx"
   ]
  },
  {
   "cell_type": "code",
   "execution_count": 169,
   "metadata": {},
   "outputs": [
    {
     "name": "stdout",
     "output_type": "stream",
     "text": [
      "WARNING:tensorflow:Unresolved object in checkpoint: (root).optimizer.iter\n",
      "WARNING:tensorflow:Unresolved object in checkpoint: (root).optimizer.beta_1\n",
      "WARNING:tensorflow:Unresolved object in checkpoint: (root).optimizer.beta_2\n",
      "WARNING:tensorflow:Unresolved object in checkpoint: (root).optimizer.decay\n",
      "WARNING:tensorflow:Unresolved object in checkpoint: (root).optimizer.learning_rate\n",
      "WARNING:tensorflow:A checkpoint was restored (e.g. tf.train.Checkpoint.restore or tf.keras.Model.load_weights) but not all checkpointed values were used. See above for specific issues. Use expect_partial() on the load status object, e.g. tf.train.Checkpoint.restore(...).expect_partial(), to silence these warnings, or use assert_consumed() to make the check explicit. See https://www.tensorflow.org/guide/checkpoint#loading_mechanics for details.\n"
     ]
    }
   ],
   "source": [
    "embedding_model = ComplEx(entities,relations)\n",
    "embedding_model.load_weights('model.tf')\n",
    "entity_matrix = embedding_model.get_layer('entity_embedding').weights[0].numpy()"
   ]
  },
  {
   "cell_type": "code",
   "execution_count": 170,
   "metadata": {},
   "outputs": [],
   "source": [
    "species = set(predictions.species)\n",
    "chemicals = set(predictions.chemical)"
   ]
  },
  {
   "cell_type": "code",
   "execution_count": 171,
   "metadata": {},
   "outputs": [
    {
     "data": {
      "application/vnd.jupyter.widget-view+json": {
       "model_id": "e8dc5afc91d748baa295e234ac07a89d",
       "version_major": 2,
       "version_minor": 0
      },
      "text/plain": [
       "HBox(children=(FloatProgress(value=0.0, max=1449.0), HTML(value='')))"
      ]
     },
     "metadata": {},
     "output_type": "display_data"
    },
    {
     "name": "stdout",
     "output_type": "stream",
     "text": [
      "\n"
     ]
    },
    {
     "data": {
      "application/vnd.jupyter.widget-view+json": {
       "model_id": "fb8cc6d3100642a19609c4cf159041f0",
       "version_major": 2,
       "version_minor": 0
      },
      "text/plain": [
       "HBox(children=(FloatProgress(value=0.0, max=520.0), HTML(value='')))"
      ]
     },
     "metadata": {},
     "output_type": "display_data"
    },
    {
     "name": "stdout",
     "output_type": "stream",
     "text": [
      "\n",
      "CPU times: user 24.3 s, sys: 19.3 s, total: 43.6 s\n",
      "Wall time: 43.6 s\n"
     ]
    }
   ],
   "source": [
    "%%time\n",
    "import tqdm.notebook as tq\n",
    "\n",
    "distance_matrix_species = np.asarray([np.linalg.norm(entity_matrix[entity_mappings[URIRef(s)]]-entity_matrix,ord=2,axis=-1) for s in tq.tqdm(species)]) / len(entity_matrix[0])\n",
    "distance_matrix_chemicals = np.asarray([np.linalg.norm(entity_matrix[entity_mappings[URIRef(c)]]-entity_matrix,ord=2,axis=-1) for c in tq.tqdm(chemicals)]) / len(entity_matrix[0])"
   ]
  },
  {
   "cell_type": "code",
   "execution_count": 172,
   "metadata": {},
   "outputs": [
    {
     "data": {
      "text/plain": [
       "(1449, 59953)"
      ]
     },
     "execution_count": 172,
     "metadata": {},
     "output_type": "execute_result"
    }
   ],
   "source": [
    "distance_matrix_species.shape"
   ]
  },
  {
   "cell_type": "code",
   "execution_count": 173,
   "metadata": {},
   "outputs": [],
   "source": [
    "inverse_species_mappings = {k:i for i,k in enumerate(species)}\n",
    "inverse_chemical_mappings = {k:i for i,k in enumerate(chemicals)}"
   ]
  },
  {
   "cell_type": "code",
   "execution_count": 174,
   "metadata": {},
   "outputs": [],
   "source": [
    "taxonomy = Graph()\n",
    "taxonomy.load('../TERA_OUTPUT/ecotox_taxonomy.nt',format='nt')\n",
    "chemicals = Graph()\n",
    "chemicals.load('../TERA_OUTPUT/ecotox_chemical.nt',format='nt')"
   ]
  },
  {
   "cell_type": "code",
   "execution_count": 224,
   "metadata": {},
   "outputs": [],
   "source": [
    "from rdflib.namespace import RDFS\n",
    "def taxon_name(uri):\n",
    "    try:\n",
    "        return str(list(taxonomy.objects(subject=URIRef(uri),predicate=URIRef('https://cfpub.epa.gov/ecotox/latinName'))).pop(0))\n",
    "    except:\n",
    "        return uri\n",
    "    \n",
    "def chemical_name(uri):\n",
    "    try:\n",
    "        l = list(chemicals.objects(subject=URIRef(uri),predicate=RDFS.subClassOf))\n",
    "        return str(l.pop(0)).split('/')[-1]\n",
    "    except:\n",
    "        return uri\n",
    "    "
   ]
  },
  {
   "cell_type": "code",
   "execution_count": 225,
   "metadata": {},
   "outputs": [],
   "source": [
    "predictions_embedding['categorical error'] = [abs(int(true.split()[-1])-int(pred.split()[-1])) for true,pred in zip(predictions_embedding['true hazard'].values,predictions_embedding['predicted hazard'].values)]\n",
    "predictions_embedding['log-mae (mol/L)'] = abs(predictions_embedding['conc (mol/L)']- predictions_embedding['prediction'])"
   ]
  },
  {
   "cell_type": "code",
   "execution_count": 226,
   "metadata": {},
   "outputs": [],
   "source": [
    "predictions_embedding.sort_values(by='categorical error',axis=0,inplace=True)"
   ]
  },
  {
   "cell_type": "code",
   "execution_count": 228,
   "metadata": {
    "scrolled": true
   },
   "outputs": [
    {
     "name": "stdout",
     "output_type": "stream",
     "text": [
      "True hazard: Category 3, predicted: Category 3. log-mae (mol/L): 0.030371335695738022\n",
      "Euplotes sp. close to ['Hydrophilus sp.', 'Pseudocandona sp.', 'Penaeidae', 'Strongylocentrotus droebachiensis', 'Aplocheilus panchax']\n",
      "Chromium in group ['Mercury', 'https://cfpub.epa.gov/ecotox/cas/9012764', 'https://cfpub.epa.gov/ecotox/cas/1319773', 'http://id.nlm.nih.gov/mesh/D001547', 'http://id.nlm.nih.gov/mesh/D005035']\n",
      "\n",
      "True hazard: Category 2, predicted: Category 2. log-mae (mol/L): 0.2880995056986704\n",
      "Mytilopsis sallei close to ['Arthropoda', 'Micropterus sp.', 'Mercenaria mercenaria', 'Moina macrocopa', 'Cerastoderma edule']\n",
      "Mercury in group ['http://id.nlm.nih.gov/mesh/D009588', 'http://id.nlm.nih.gov/mesh/D001547', 'Chromium', 'https://cfpub.epa.gov/ecotox/cas/1319773', 'https://cfpub.epa.gov/ecotox/cas/25322683']\n",
      "\n",
      "True hazard: Category 1, predicted: Category 1. log-mae (mol/L): 0.6494298202966942\n",
      "Ophiogomphus sp. close to ['Maxillopoda', 'Fundulus diaphanus', 'Streptocephalus proboscideus', 'Orconectes virilis', 'Pandalus danae']\n",
      "PolyaromaticHydrocarbons(PAHs) in group ['PolyaromaticHydrocarbons(PAHs)', 'https://cfpub.epa.gov/ecotox/cas/126738', 'MajorIons', 'PolyaromaticHydrocarbons(PAHs)', 'https://cfpub.epa.gov/ecotox/cas/127195']\n",
      "\n",
      "True hazard: Category 2, predicted: Category 2. log-mae (mol/L): 0.39100861039581414\n",
      "Crassostrea gigas close to ['Biomphalaria glabrata', 'Eurytemora affinis', 'Hemigrapsus nudus', 'Physa fontinalis', 'Paracalanus parvus']\n",
      "Cadmium in group ['Organotin', 'https://cfpub.epa.gov/ecotox/cas/75741', 'Mercury', 'Mercury', 'https://cfpub.epa.gov/ecotox/cas/2004708']\n",
      "\n",
      "True hazard: Category 2, predicted: Category 2. log-mae (mol/L): 0.03656210921216019\n",
      "Enchytraeus buchholzi close to ['Ranatra linearis', 'Spodoptera littoralis', 'Spodoptera litura', 'Hydropsyche bulbifera', 'Pelophylax perezi']\n",
      "Cadmium in group ['http://id.nlm.nih.gov/mesh/D000081', 'https://cfpub.epa.gov/ecotox/cas/78002', 'http://id.nlm.nih.gov/mesh/D005229', 'http://id.nlm.nih.gov/mesh/D019187', 'Mercury']\n",
      "\n",
      "True hazard: Category 3, predicted: Category 3. log-mae (mol/L): 0.11529942503937418\n",
      "Cnesterodon decemmaculatus close to ['Xiphophorus helleri', 'Palaemonetes paludosus', 'Palaemon macrodactylus', 'Palaemonetes argentinus', 'Palaemonetes vulgaris']\n",
      "https://cfpub.epa.gov/ecotox/cas/1910425 in group ['https://cfpub.epa.gov/ecotox/cas/2698411', 'https://cfpub.epa.gov/ecotox/cas/1310732', 'https://cfpub.epa.gov/ecotox/cas/12125029', 'MajorIons', 'https://cfpub.epa.gov/ecotox/cas/50000']\n",
      "\n",
      "True hazard: Category 1, predicted: Category 1. log-mae (mol/L): 0.01220555340754892\n",
      "Ophiogomphus sp. close to ['Maxillopoda', 'Fundulus diaphanus', 'Streptocephalus proboscideus', 'Orconectes virilis', 'Pandalus danae']\n",
      "DDTandmetabolites in group ['EndocrineDisruptingChemicals(EDCs)', 'https://cfpub.epa.gov/ecotox/cas/111875', 'https://cfpub.epa.gov/ecotox/cas/67663', 'https://cfpub.epa.gov/ecotox/cas/1310732', 'https://cfpub.epa.gov/ecotox/cas/75014']\n",
      "\n"
     ]
    }
   ],
   "source": [
    "n = 5\n",
    "for i,row in enumerate(predictions_embedding[predictions_embedding['true hazard'] != 'Category 4'].iterrows()):\n",
    "    \n",
    "    true_haz = row[1]['true hazard']\n",
    "    pred_haz = row[1]['predicted hazard']\n",
    "    \n",
    "    exp_species = np.argsort(distance_matrix_species[inverse_species_mappings[row[1]['species']]])[1:n+1]\n",
    "    exp_chemical = np.argsort(distance_matrix_chemicals[inverse_chemical_mappings[row[1]['chemical']]])[1:n+1]\n",
    "    \n",
    "    print(f'True hazard: {true_haz}, predicted: {pred_haz}. log-mae (mol/L):',row[1]['log-mae (mol/L)'])\n",
    "    \n",
    "    tn = taxon_name(row[1]['species'])\n",
    "    cn = chemical_name(row[1]['chemical'])\n",
    " \n",
    "    print(f'{tn} close to',[taxon_name(inverse_entity_mappings[i]) for i in exp_species])\n",
    "    print(f'{cn} in group',[chemical_name(inverse_entity_mappings[i]) for i in exp_chemical])\n",
    "    print('')\n",
    "    \n",
    "    if i > 5: break"
   ]
  },
  {
   "cell_type": "code",
   "execution_count": null,
   "metadata": {},
   "outputs": [],
   "source": []
  }
 ],
 "metadata": {
  "kernelspec": {
   "display_name": "Python 3",
   "language": "python",
   "name": "python3"
  },
  "language_info": {
   "codemirror_mode": {
    "name": "ipython",
    "version": 3
   },
   "file_extension": ".py",
   "mimetype": "text/x-python",
   "name": "python",
   "nbconvert_exporter": "python",
   "pygments_lexer": "ipython3",
   "version": "3.8.5"
  }
 },
 "nbformat": 4,
 "nbformat_minor": 4
}
