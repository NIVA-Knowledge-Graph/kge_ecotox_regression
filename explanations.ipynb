{
 "cells": [
  {
   "cell_type": "code",
   "execution_count": 1,
   "metadata": {},
   "outputs": [],
   "source": [
    "import pandas as pd\n",
    "import numpy as np\n",
    "\n",
    "ONLY_ORGANIC = True\n",
    "name = 'equal_prop_species_division'\n",
    "\n",
    "predictions = pd.read_csv(f'results/{name}_only_organic_predictions.csv' if ONLY_ORGANIC else f'results/{name}_predictions.csv')\n",
    "predictions_embedding = pd.read_csv(f'results/{name}_only_organic_predictions_embedding.csv' if ONLY_ORGANIC else f'results/{name}_predictions_embedding.csv')"
   ]
  },
  {
   "cell_type": "code",
   "execution_count": 2,
   "metadata": {},
   "outputs": [],
   "source": [
    "chemical_entity_mappings = pd.read_pickle('only_organic_chemical_entity_mappings.pkl' if ONLY_ORGANIC else 'chemical_entity_mappings.pkl')\n",
    "species_entity_mappings = pd.read_pickle('only_organic_species_entity_mappings.pkl' if ONLY_ORGANIC else 'species_entity_mappings.pkl')\n",
    "\n",
    "chemical_entity_mappings = {int(i):str(k) for k,i in chemical_entity_mappings.items()}\n",
    "species_entity_mappings = {int(i):str(k) for k,i in species_entity_mappings.items()}"
   ]
  },
  {
   "cell_type": "code",
   "execution_count": 3,
   "metadata": {},
   "outputs": [],
   "source": [
    "predictions['chemical'] = [chemical_entity_mappings[c] for c in predictions['chemical']]\n",
    "predictions['species'] = [species_entity_mappings[c] for c in predictions['species']]\n",
    "predictions_embedding['chemical'] = [chemical_entity_mappings[c] for c in predictions_embedding['chemical']]\n",
    "predictions_embedding['species'] = [species_entity_mappings[c] for c in predictions_embedding['species']]"
   ]
  },
  {
   "cell_type": "code",
   "execution_count": 4,
   "metadata": {},
   "outputs": [],
   "source": [
    "import sys\n",
    "from SPARQLWrapper import SPARQLWrapper, JSON\n",
    "namespace = 'https://cfpub.epa.gov/ecotox/'\n",
    "\n",
    "endpoint_url = \"https://query.wikidata.org/sparql\"\n",
    "\n",
    "query = \"\"\"select ?cas ?mw where {\n",
    "  ?c wdt:P231 ?castmp ;\n",
    "     wdt:P2067 ?mw .\n",
    "  bind(replace(?castmp,'-','') as ?cas)\n",
    "}\"\"\"\n",
    "\n",
    "def get_results(endpoint_url, query):\n",
    "    user_agent = \"WDQS-example Python/%s.%s\" % (sys.version_info[0], sys.version_info[1])\n",
    "    # TODO adjust user agent; see https://w.wiki/CX6\n",
    "    sparql = SPARQLWrapper(endpoint_url, agent=user_agent)\n",
    "    sparql.setQuery(query)\n",
    "    sparql.setReturnFormat(JSON)\n",
    "    return sparql.query().convert()\n",
    "\n",
    "results = get_results(endpoint_url, query)\n",
    "\n",
    "mw = {}\n",
    "for result in results[\"results\"][\"bindings\"]:\n",
    "    mw['https://cfpub.epa.gov/ecotox/cas/'+result['cas']['value']] = float(result['mw']['value'])\n"
   ]
  },
  {
   "cell_type": "code",
   "execution_count": 5,
   "metadata": {},
   "outputs": [],
   "source": [
    "predictions['molecular_weight'] = [mw[c] for c in predictions['chemical']]\n",
    "predictions_embedding['molecular_weight'] = [mw[c] for c in predictions_embedding['chemical']]"
   ]
  },
  {
   "cell_type": "code",
   "execution_count": 6,
   "metadata": {},
   "outputs": [],
   "source": [
    "def mw_convertions(w,x):\n",
    "    out = w * 10**(-x) * 1e3\n",
    "    return out\n",
    "\n",
    "predictions['predicted conc (mg/L)'] = mw_convertions(predictions['molecular_weight'],predictions['prediction'])\n",
    "predictions_embedding['predicted conc (mg/L)'] = mw_convertions(predictions_embedding['molecular_weight'],predictions_embedding['prediction'])\n",
    "\n",
    "predictions['true conc (mg/L)'] = mw_convertions(predictions['molecular_weight'], predictions['true'])\n",
    "predictions_embedding['true conc (mg/L)'] = mw_convertions(predictions_embedding['molecular_weight'],predictions_embedding['true'])"
   ]
  },
  {
   "cell_type": "code",
   "execution_count": 7,
   "metadata": {},
   "outputs": [],
   "source": [
    "def hazard_function(c):\n",
    "    if np.isnan(c): \n",
    "        return 'NaN'\n",
    "    if c <= 1: #mg/L\n",
    "        return 'Category 1' # Very toxic\n",
    "    if c <= 10:\n",
    "        return 'Category 2' # Toxic\n",
    "    if c <= 100:\n",
    "        return 'Category 3' # Harmful\n",
    "    return 'Category 4' # Maybe harmful\n",
    "\n",
    "predictions['predicted hazard'] = list(map(hazard_function,predictions['predicted conc (mg/L)'].values))\n",
    "predictions_embedding['predicted hazard'] = list(map(hazard_function,predictions_embedding['predicted conc (mg/L)'].values))\n",
    "predictions['true hazard'] = list(map(hazard_function,predictions['true conc (mg/L)'].values))\n",
    "predictions_embedding['true hazard'] = list(map(hazard_function,predictions_embedding['true conc (mg/L)'].values))\n"
   ]
  },
  {
   "cell_type": "code",
   "execution_count": 8,
   "metadata": {},
   "outputs": [],
   "source": [
    "mapping = {'Category 1':0,'Category 2':1,'Category 3':2,'Category 4':3}"
   ]
  },
  {
   "cell_type": "code",
   "execution_count": 9,
   "metadata": {},
   "outputs": [],
   "source": [
    "from sklearn.preprocessing import LabelEncoder\n",
    "def cat_accuracy(true,predicted):\n",
    "    true = np.asarray(list(map(lambda x: mapping[x],true)))\n",
    "    predicted = np.asarray(list(map(lambda x: mapping[x],predicted)))\n",
    "    r = 1 + abs(true-predicted)\n",
    "    return np.mean(1/r)"
   ]
  },
  {
   "cell_type": "code",
   "execution_count": 10,
   "metadata": {},
   "outputs": [
    {
     "data": {
      "image/png": "[encoded data removed]",
      "text/plain": [
       "<Figure size 432x288 with 1 Axes>"
      ]
     },
     "metadata": {
      "needs_background": "light"
     },
     "output_type": "display_data"
    },
    {
     "data": {
      "image/png": "[encoded data removed]",
      "text/plain": [
       "<Figure size 432x288 with 1 Axes>"
      ]
     },
     "metadata": {
      "needs_background": "light"
     },
     "output_type": "display_data"
    }
   ],
   "source": [
    "from sklearn.metrics import accuracy_score, r2_score\n",
    "import matplotlib.pyplot as plt\n",
    "\n",
    "scores = []\n",
    "r2 = []\n",
    "\n",
    "N=100\n",
    "\n",
    "for i in range(N):\n",
    "    r = pd.read_csv(f'results/{name}_seed_{i}_only_organic_predictions.csv' if ONLY_ORGANIC else f'results/{name}_seed_{i}_predictions.csv')\n",
    "    re = pd.read_csv(f'results/{name}_seed_{i}_only_organic_predictions_embedding.csv' if ONLY_ORGANIC else f'results/{name}_seed_{i}_predictions_embedding.csv')\n",
    "    \n",
    "    molecular_weight = np.asarray(list(map(lambda x: mw[chemical_entity_mappings[x]],r['chemical'])))\n",
    "    \n",
    "    r['true conc (mg/L)'] = mw_convertions(molecular_weight,r['true'].values)\n",
    "    re['true conc (mg/L)'] = mw_convertions(molecular_weight,re['true'].values)\n",
    "    \n",
    "    r['predicted conc (mg/L)'] = mw_convertions(molecular_weight,r['prediction'].values)\n",
    "    re['predicted conc (mg/L)'] = mw_convertions(molecular_weight,re['prediction'].values)\n",
    "    \n",
    "    r['true hazard'] = list(map(hazard_function,r['true conc (mg/L)'].values))\n",
    "    re['true hazard'] = list(map(hazard_function,re['true conc (mg/L)'].values))\n",
    "    \n",
    "    r['predicted hazard'] = list(map(hazard_function,r['predicted conc (mg/L)'].values))\n",
    "    re['predicted hazard'] = list(map(hazard_function,re['predicted conc (mg/L)'].values))\n",
    "    \n",
    "    s = cat_accuracy(r['true hazard'],r['predicted hazard'])\n",
    "    se = cat_accuracy(re['true hazard'],re['predicted hazard'])\n",
    "    \n",
    "    scores.append([s,se])\n",
    "    r2.append([r2_score(r['true'],r['prediction']),r2_score(re['true'],re['prediction'])])\n",
    "    \n",
    "s,se = np.split(np.asarray(scores),2,axis=1)\n",
    "fig, ax = plt.subplots()\n",
    "\n",
    "plt.violinplot(np.asarray(scores),[0,1],\n",
    "              showmeans=True, showmedians=False,\n",
    "                showextrema=False)\n",
    "\n",
    "plt.xticks([0.0,1.0], ['w/o embedding','w/ embedding'],fontsize=14)\n",
    "\n",
    "plt.savefig(f'results/{name}_only_organic_predictions_cat_accuracy.png' if ONLY_ORGANIC else f'results/{name}_predictions_cat_accuracy.png')\n",
    "plt.show()\n",
    "plt.close()\n",
    "\n",
    "s,se = np.split(np.asarray(r2),2,axis=1)\n",
    "fig, ax = plt.subplots()\n",
    "\n",
    "plt.violinplot(np.asarray(r2),[0,1],\n",
    "              showmeans=True, showmedians=False,\n",
    "                showextrema=False)\n",
    "plt.xticks([0.0,1.0], ['w/o embedding','w/ embedding'],fontsize=14)\n",
    "\n",
    "plt.savefig(f'results/{name}_only_organic_predictions_r2.png' if ONLY_ORGANIC else f'results/{name}_predictions_r2.png')\n",
    "plt.show()"
   ]
  },
  {
   "cell_type": "code",
   "execution_count": 11,
   "metadata": {},
   "outputs": [],
   "source": [
    "from rdflib import Graph, URIRef, Literal\n",
    "import numpy as np\n",
    "import glob \n",
    "\n",
    "chemical_graph = Graph()\n",
    "for filename in glob.glob('only_organic_reduced_kgs/reduced_chembl*' if ONLY_ORGANIC else 'reduced_kgs/reduced_chembl*'):\n",
    "    chemical_graph.load(filename,format=filename.split('.')[-1])\n",
    "chemical_graph.load('only_organic_reduced_kgs/reduced_chebi.ttl' if ONLY_ORGANIC else 'reduced_kgs/reduced_chebi.ttl',format='ttl')\n",
    "#chemical_graph.load('only_organic_reduced_kgs/reduced_mesh.nt' if ONLY_ORGANIC else 'reduced_kgs/reduced_mesh.nt',format='nt')\n",
    "chemical_graph.load('only_organic_physical_properties.ttl' if ONLY_ORGANIC else 'physical_properties.ttl',format='ttl')\n",
    "\n",
    "species_graph = Graph()\n",
    "species_graph.load('only_organic_reduced_kgs/reduced_taxonomy.nt' if ONLY_ORGANIC else 'reduced_kgs/reduced_taxonomy.nt',format='nt')\n",
    "species_graph.load('only_organic_reduced_kgs/reduced_traits.nt' if ONLY_ORGANIC else 'reduced_kgs/reduced_traits.nt',format='nt')\n",
    "\n",
    "\n",
    "chemical_entities = sorted(list(set(chemical_graph.subjects()) | set(chemical_graph.objects())))\n",
    "chemical_relations = sorted(list(set(chemical_graph.predicates())))\n",
    "\n",
    "species_entities = sorted(list(set(species_graph.subjects()) | set(species_graph.objects())))\n",
    "species_relations = sorted(list(set(species_graph.predicates())))\n",
    "\n",
    "\n",
    "chemical_entity_mappings = {e:i for i,e in enumerate(chemical_entities)}\n",
    "chemical_relation_mappings = {e:i for i,e in enumerate(chemical_relations)}\n",
    "\n",
    "species_entity_mappings = {e:i for i,e in enumerate(species_entities)}\n",
    "species_relation_mappings = {e:i for i,e in enumerate(species_relations)}\n"
   ]
  },
  {
   "cell_type": "code",
   "execution_count": 12,
   "metadata": {},
   "outputs": [],
   "source": [
    "#add geonames\n",
    "import sys\n",
    "from SPARQLWrapper import SPARQLWrapper, JSON\n",
    "from rdflib.namespace import RDFS\n",
    "endpoint_url = \"https://query.wikidata.org/sparql\"\n",
    "\n",
    "query = \"\"\"select ?id ?label where {\n",
    "  ?place wdt:P1566 ?id ;\n",
    "         wdt:P1448 ?label .\n",
    "  \n",
    "   filter(lang(?label) = 'en')\n",
    "}\"\"\"\n",
    "\n",
    "\n",
    "def get_results(endpoint_url, query):\n",
    "    user_agent = \"WDQS-example Python/%s.%s\" % (sys.version_info[0], sys.version_info[1])\n",
    "    # TODO adjust user agent; see https://w.wiki/CX6\n",
    "    sparql = SPARQLWrapper(endpoint_url, agent=user_agent)\n",
    "    sparql.setQuery(query)\n",
    "    sparql.setReturnFormat(JSON)\n",
    "    return sparql.query().convert()\n",
    "\n",
    "results = get_results(endpoint_url, query)\n",
    "\n",
    "for result in results[\"results\"][\"bindings\"]:\n",
    "    species_graph.add((URIRef('http://www.geonames.org/'+result['id']['value']),RDFS.label,Literal(result['label']['value'])))"
   ]
  },
  {
   "cell_type": "code",
   "execution_count": 13,
   "metadata": {},
   "outputs": [],
   "source": [
    "entity_matrix = [np.load(f'organic_only_W_{i}.npy' if ONLY_ORGANIC else f'W_{i}.npy') for i in range(2)]"
   ]
  },
  {
   "cell_type": "code",
   "execution_count": 14,
   "metadata": {},
   "outputs": [],
   "source": [
    "species = set(predictions.species)\n",
    "chemicals = set(predictions.chemical)"
   ]
  },
  {
   "cell_type": "code",
   "execution_count": 15,
   "metadata": {},
   "outputs": [
    {
     "data": {
      "application/vnd.jupyter.widget-view+json": {
       "model_id": "b5e9efc1767f4fb2827bcd9014b91f2a",
       "version_major": 2,
       "version_minor": 0
      },
      "text/plain": [
       "HBox(children=(FloatProgress(value=0.0, max=25281.0), HTML(value='')))"
      ]
     },
     "metadata": {},
     "output_type": "display_data"
    },
    {
     "name": "stdout",
     "output_type": "stream",
     "text": [
      "\n"
     ]
    },
    {
     "data": {
      "application/vnd.jupyter.widget-view+json": {
       "model_id": "1550774589db45088d7ba6129e94b322",
       "version_major": 2,
       "version_minor": 0
      },
      "text/plain": [
       "HBox(children=(FloatProgress(value=0.0, max=50625.0), HTML(value='')))"
      ]
     },
     "metadata": {},
     "output_type": "display_data"
    },
    {
     "name": "stdout",
     "output_type": "stream",
     "text": [
      "\n",
      "CPU times: user 1.33 s, sys: 245 ms, total: 1.58 s\n",
      "Wall time: 1.31 s\n"
     ]
    }
   ],
   "source": [
    "%%time\n",
    "import tqdm.notebook as tq\n",
    "from itertools import product\n",
    "from scipy.spatial import distance\n",
    "\n",
    "lf = lambda x,y: np.linalg.norm(x-y,ord=2)\n",
    "\n",
    "distance_matrix_chemicals = np.asarray([lf(entity_matrix[0][chemical_entity_mappings[URIRef(c1)]],entity_matrix[0][chemical_entity_mappings[URIRef(c2)]]) for c1,c2 in tq.tqdm(product(chemicals,chemicals),total=len(chemicals)**2)]).reshape((len(chemicals),len(chemicals)))\n",
    "distance_matrix_species = np.asarray([lf(entity_matrix[1][species_entity_mappings[URIRef(s1)]],entity_matrix[1][species_entity_mappings[URIRef(s2)]]) for s1,s2 in tq.tqdm(product(species,species),total=len(species)**2)]).reshape((len(species),len(species)))"
   ]
  },
  {
   "cell_type": "code",
   "execution_count": 16,
   "metadata": {},
   "outputs": [
    {
     "data": {
      "text/plain": [
       "(225, 225)"
      ]
     },
     "execution_count": 16,
     "metadata": {},
     "output_type": "execute_result"
    }
   ],
   "source": [
    "distance_matrix_species.shape"
   ]
  },
  {
   "cell_type": "code",
   "execution_count": 17,
   "metadata": {},
   "outputs": [],
   "source": [
    "species_mappings = {k:i for i,k in enumerate(species)}\n",
    "chemical_mappings = {k:i for i,k in enumerate(chemicals)}\n",
    "inverse_species_mappings = {i:k for i,k in enumerate(species)}\n",
    "inverse_chemical_mappings = {i:k for i,k in enumerate(chemicals)}"
   ]
  },
  {
   "cell_type": "code",
   "execution_count": 18,
   "metadata": {},
   "outputs": [],
   "source": [
    "def label_obo(uri):\n",
    "    \n",
    "    query = \"\"\"\n",
    "            prefix rdf: <http://www.w3.org/1999/02/22-rdf-syntax-ns#> \n",
    "            prefix rdfs: <http://www.w3.org/2000/01/rdf-schema#> \n",
    "            prefix owl: <http://www.w3.org/2002/07/owl#> \n",
    "\n",
    "            SELECT distinct ?label WHERE { \n",
    "                <%s> rdfs:label ?label .\n",
    "            }\n",
    "            \"\"\" % str(uri)\n",
    "    results = get_results('http://sparql.hegroup.org/sparql/', query)\n",
    "    return results\n",
    "    \n",
    "def mesh_label(uri):\n",
    "    \n",
    "    query = \"\"\"\n",
    "            prefix rdf: <http://www.w3.org/1999/02/22-rdf-syntax-ns#> \n",
    "            prefix rdfs: <http://www.w3.org/2000/01/rdf-schema#>\n",
    "            prefix owl: <http://www.w3.org/2002/07/owl#> \n",
    "\n",
    "            SELECT distinct ?label WHERE { \n",
    "                <%s> rdfs:label ?label .\n",
    "            }\n",
    "            \"\"\" % str(uri)\n",
    "    \n",
    "    return get_results('http://id.nlm.nih.gov/mesh/sparql',query)\n"
   ]
  },
  {
   "cell_type": "code",
   "execution_count": 19,
   "metadata": {},
   "outputs": [],
   "source": [
    "full_taxonomy = Graph()\n",
    "full_taxonomy.load('only_organic_reduced_kgs/taxonomy.nt' if ONLY_ORGANIC else 'reduced_kgs/taxonomy.nt',format='nt')\n",
    "full_taxonomy += species_graph\n"
   ]
  },
  {
   "cell_type": "code",
   "execution_count": 20,
   "metadata": {},
   "outputs": [],
   "source": [
    "\n",
    "def taxon_name(uri):\n",
    "    try:\n",
    "        return str(list(full_taxonomy.objects(subject=URIRef(uri),predicate=URIRef('https://cfpub.epa.gov/ecotox/latinName'))).pop(0))\n",
    "    except:\n",
    "        pass\n",
    "    try:\n",
    "        return str(list(full_taxonomy.objects(subject=URIRef(uri),predicate=RDFS.label)).pop(0))\n",
    "    except:\n",
    "        pass\n",
    "    \n",
    "    try:\n",
    "        if 'obo' in str(uri):\n",
    "            for res in label_obo(uri)['results']['bindings']:\n",
    "                return str(res['label']['value'])\n",
    "    except:\n",
    "        pass\n",
    "     \n",
    "    return uri\n",
    "    \n",
    "def chemical_name(uri):\n",
    "    try:\n",
    "        l = list(chemical_graph.objects(subject=URIRef(uri),predicate=RDFS.label))\n",
    "        return str(l.pop(0)).split('/')[-1]\n",
    "    except:\n",
    "        pass\n",
    "    \n",
    "    if 'mesh' in str(uri):\n",
    "        for res in mesh_label(uri)['results']['bindings']:\n",
    "            return str(res['label']['value'])\n",
    "    \n",
    "        \n",
    "    return uri\n",
    "    "
   ]
  },
  {
   "cell_type": "code",
   "execution_count": 21,
   "metadata": {},
   "outputs": [],
   "source": [
    "import sys\n",
    "from collections import defaultdict\n",
    "from SPARQLWrapper import SPARQLWrapper, JSON\n",
    "\n",
    "endpoint_url = \"https://query.wikidata.org/sparql\"\n",
    "\n",
    "def get_results(endpoint_url, query):\n",
    "    user_agent = \"WDQS-example Python/%s.%s\" % (sys.version_info[0], sys.version_info[1])\n",
    "    # TODO adjust user agent; see https://w.wiki/CX6\n",
    "    sparql = SPARQLWrapper(endpoint_url, agent=user_agent)\n",
    "    sparql.setQuery(query)\n",
    "    sparql.setReturnFormat(JSON)\n",
    "    return sparql.query().convert()\n",
    "\n",
    "def wikidata_explanation(list_of_uris):\n",
    "    \n",
    "    query = \"\"\"select ?cas ?p ?o where {\n",
    "                  values ?cas {%s}\n",
    "                  ?chem wdt:P231 ?castmp ;\n",
    "                          ?p ?o .\n",
    "                  bind (replace(?castmp,\"-\",\"\") as ?cas)\n",
    "                  filter (!isLiteral(?o))\n",
    "                }\"\"\" % ' '.join(map(lambda x: '\\\"' + x.split('/')[-1] + '\\\"',list_of_uris))\n",
    "\n",
    "    d = defaultdict(set)\n",
    "    \n",
    "    results = get_results(endpoint_url, query)\n",
    "\n",
    "    for result in results[\"results\"][\"bindings\"]:\n",
    "        d[result['cas']['value']].add((result['p']['value'],result['o']['value']))\n",
    "    \n",
    "    return set.intersection(*[d[k] for k in d])\n"
   ]
  },
  {
   "cell_type": "code",
   "execution_count": 22,
   "metadata": {},
   "outputs": [],
   "source": [
    "predictions_embedding['categorical error'] = [abs(int(true.split()[-1])-int(pred.split()[-1])) for true,pred in zip(predictions_embedding['true hazard'].values,predictions_embedding['predicted hazard'].values)]\n",
    "predictions_embedding['log-mae (mol/L)'] = abs(predictions_embedding['true']- predictions_embedding['prediction'])"
   ]
  },
  {
   "cell_type": "code",
   "execution_count": 23,
   "metadata": {},
   "outputs": [],
   "source": [
    "predictions_embedding.sort_values(by='log-mae (mol/L)',axis=0,inplace=True,ascending=False)"
   ]
  },
  {
   "cell_type": "code",
   "execution_count": 24,
   "metadata": {
    "scrolled": true
   },
   "outputs": [],
   "source": [
    "n = 11\n",
    "out = []\n",
    "for i,row in enumerate(predictions_embedding[predictions_embedding['true hazard'] != 'Category 4'].iterrows()):\n",
    "    \n",
    "    true_haz = row[1]['true hazard']\n",
    "    pred_haz = row[1]['predicted hazard']\n",
    "    \n",
    "    exp_species = np.argsort(distance_matrix_species[species_mappings[row[1]['species']]])[:n+1]\n",
    "    exp_chemical = np.argsort(distance_matrix_chemicals[chemical_mappings[row[1]['chemical']]])[:n+1]\n",
    " \n",
    "    tn = taxon_name(row[1]['species'])\n",
    "    cn = chemical_name(row[1]['chemical'])\n",
    "    \n",
    "    #print(f'True hazard: {true_haz}, predicted: {pred_haz}. log-mae (mol/L):',row[1]['log-mae (mol/L)'])\n",
    "    \n",
    "    #print(f'Prediction chemical: {cn}, species: {tn}')\n",
    "    \n",
    "    sp = [URIRef(inverse_species_mappings[i]) for i in exp_species]\n",
    "    cp = [URIRef(inverse_chemical_mappings[i]) for i in exp_chemical]\n",
    "    \n",
    "    explanation_s = set.intersection(*[set(species_graph.predicate_objects(subject=s)) for s in sp])\n",
    "    explanation_c = set.intersection(*[set(chemical_graph.predicate_objects(subject=c)) for c in cp])\n",
    "    \n",
    "    #explanation_s = wikidata_explanation(map(str,sp))\n",
    "    #explanation_c = wikidata_explanation(map(str,cp))\n",
    "    \n",
    "    #print('Explanation')\n",
    "    #print('Close species common facts:\\n','\\t'+'\\n\\t'.join(map(lambda x: ', '.join(map(taxon_name,x)),explanation_s)))\n",
    "    #print('Close compound common facts:\\n','\\t'+'\\n\\t'.join(map(lambda x: ', '.join(map(chemical_name,x)),explanation_c)))\n",
    "    \n",
    "    out.append((len(explanation_c),len(explanation_s),row[1]['log-mae (mol/L)']))\n",
    "    \n",
    "    #print(f'{tn} close to',[taxon_name(inverse_species_mappings[i]) for i in exp_species])\n",
    "    #print(f'{cn} close to',[chemical_name(inverse_chemical_mappings[i]) for i in exp_chemical])\n",
    "    #print('')\n",
    "    \n",
    "    #if i > 0.5*len(predictions_embedding): break"
   ]
  },
  {
   "cell_type": "code",
   "execution_count": 25,
   "metadata": {},
   "outputs": [],
   "source": [
    "out = np.asarray(out)\n",
    "xc,xs,y = np.split(np.asarray(out),3,axis=-1)\n",
    "xc = xc.ravel()\n",
    "xs = xs.ravel()\n",
    "y = y.ravel()"
   ]
  },
  {
   "cell_type": "code",
   "execution_count": 26,
   "metadata": {},
   "outputs": [
    {
     "data": {
      "text/plain": [
       "((-0.08058461171017528, 0.1428752623432565),\n",
       " (-0.13210691151200582, 0.016014306226710663))"
      ]
     },
     "execution_count": 26,
     "metadata": {},
     "output_type": "execute_result"
    }
   ],
   "source": [
    "import scipy as sp\n",
    "sp.stats.pearsonr(xc,y.ravel()),sp.stats.pearsonr(xs.ravel(),y.ravel())"
   ]
  },
  {
   "cell_type": "code",
   "execution_count": 27,
   "metadata": {},
   "outputs": [
    {
     "data": {
      "text/plain": [
       "(0.26023922495526197, 0.3522419856626896)"
      ]
     },
     "execution_count": 27,
     "metadata": {},
     "output_type": "execute_result"
    }
   ],
   "source": [
    "from sklearn.metrics import r2_score\n",
    "\n",
    "r2_score(predictions['true'], predictions['prediction']),r2_score(predictions_embedding['true'], predictions_embedding['prediction'])"
   ]
  },
  {
   "cell_type": "code",
   "execution_count": 28,
   "metadata": {},
   "outputs": [
    {
     "data": {
      "text/plain": [
       "(0.6789537712895377, 0.7017031630170316)"
      ]
     },
     "execution_count": 28,
     "metadata": {},
     "output_type": "execute_result"
    }
   ],
   "source": [
    "cat_accuracy(predictions['true hazard'],predictions['predicted hazard']),cat_accuracy(predictions_embedding['true hazard'],predictions_embedding['predicted hazard'])"
   ]
  },
  {
   "cell_type": "code",
   "execution_count": 29,
   "metadata": {},
   "outputs": [],
   "source": [
    "def category_difference(t,p):\n",
    "    t = map(lambda x: int(x.split()[-1]), t)\n",
    "    p = map(lambda x: int(x.split()[-1]), p)\n",
    "    \n",
    "    return np.asarray(list(t)) - np.asarray(list(p))\n",
    "    "
   ]
  },
  {
   "cell_type": "code",
   "execution_count": 30,
   "metadata": {},
   "outputs": [
    {
     "data": {
      "image/png": "[encoded data removed]",
      "text/plain": [
       "<Figure size 432x288 with 1 Axes>"
      ]
     },
     "metadata": {
      "needs_background": "light"
     },
     "output_type": "display_data"
    }
   ],
   "source": [
    "%matplotlib inline\n",
    "import matplotlib.pyplot as plt\n",
    "plt.hist(category_difference(predictions['true hazard'],predictions['predicted hazard']),bins=[-3.5,-2.5,-1.5,-.5,.5,1.5,2.5,3.5])\n",
    "plt.hist(category_difference(predictions_embedding['true hazard'],predictions_embedding['predicted hazard']),bins=[-3.5,-2.5,-1.5,-.5,.5,1.5,2.5,3.5])\n",
    "pass"
   ]
  },
  {
   "cell_type": "code",
   "execution_count": 31,
   "metadata": {},
   "outputs": [
    {
     "data": {
      "image/png": "[encoded data removed]",
      "text/plain": [
       "<Figure size 432x288 with 1 Axes>"
      ]
     },
     "metadata": {
      "needs_background": "light"
     },
     "output_type": "display_data"
    }
   ],
   "source": [
    "plt.hist((predictions['true']-predictions['prediction']),bins=100)\n",
    "plt.hist((predictions_embedding['true']-predictions_embedding['prediction']),bins=100)\n",
    "pass"
   ]
  },
  {
   "cell_type": "code",
   "execution_count": 32,
   "metadata": {},
   "outputs": [],
   "source": [
    "from rdflib.plugins.sparql import prepareQuery\n",
    "from rdflib.namespace import RDF\n",
    "def data_density(data,neighbors,key):\n",
    "    return sum(data[key].isin(set(map(str,neighbors))).values)/len(set(neighbors))\n",
    "\n",
    "def neighborhood_density(graph,data,uri,depth=1,key='species'):\n",
    "    \n",
    "    q = \"\"\"\n",
    "        select ?p where {\n",
    "            <%s> rdf:type / rdfs:subClassOf ?p .\n",
    "        }\n",
    "    \"\"\" % str(uri)\n",
    "    q = prepareQuery(q,initNs={'rdf':RDF,'rdfs':RDFS})\n",
    "    \n",
    "    try:\n",
    "        parent = list(filter(lambda x: '/taxon/' in str(x), map(lambda x:x[0],graph.query(q))))[0]\n",
    "    except:\n",
    "        return 0.0\n",
    "    \n",
    "    q = \"\"\"\n",
    "        select ?s where {\n",
    "            ?s rdf:type / rdfs:subClassOf <%s> .\n",
    "        }\n",
    "    \"\"\" % str(parent)\n",
    "    q = prepareQuery(q,initNs={'rdf':RDF,'rdfs':RDFS})\n",
    "    \n",
    "    neighbors = set(filter(lambda x: '/taxon/' in str(x), map(lambda x:x[0],graph.query(q))))\n",
    "    \n",
    "    return data_density(data,neighbors,key)    \n",
    "\n",
    "\n",
    "def neighborhood_density2(graph,uri,depth=1):\n",
    "    \n",
    "    neighbors = set([uri])\n",
    "\n",
    "    while depth > 0:\n",
    "        neighbors |= set.union(*list(map(lambda n: set(graph.objects(subject=n)),neighbors)))\n",
    "        depth -= 1\n",
    "        neighbors = set(filter(lambda x: not isinstance(x,Literal),neighbors))\n",
    "                               \n",
    "    l = set.union(*list(map(lambda p: set(graph.objects(subject=URIRef(p))),neighbors)))\n",
    "    l = set(filter(lambda x: not isinstance(x,Literal),l))\n",
    "    \n",
    "    return len(l)\n",
    "    "
   ]
  },
  {
   "cell_type": "code",
   "execution_count": 33,
   "metadata": {},
   "outputs": [
    {
     "data": {
      "application/vnd.jupyter.widget-view+json": {
       "model_id": "0da9bd8ba8d14020a227080aedaf62c6",
       "version_major": 2,
       "version_minor": 0
      },
      "text/plain": [
       "HBox(children=(FloatProgress(value=0.0, max=685.0), HTML(value='')))"
      ]
     },
     "metadata": {},
     "output_type": "display_data"
    },
    {
     "name": "stdout",
     "output_type": "stream",
     "text": [
      "\n"
     ]
    }
   ],
   "source": [
    "n = 10\n",
    "out = []\n",
    "\n",
    "new_idx = defaultdict(lambda : -1)\n",
    "j = 0\n",
    "for i,row in tq.tqdm(enumerate(predictions_embedding.iterrows()),total=len(predictions_embedding)):\n",
    "    \n",
    "    true_haz = row[1]['true hazard']\n",
    "    pred_haz = row[1]['predicted hazard']\n",
    "    \n",
    "    exp_species = distance_matrix_species[species_mappings[row[1]['species']]]\n",
    "    exp_chemical = distance_matrix_chemicals[chemical_mappings[row[1]['chemical']]]\n",
    "\n",
    "    out.append(np.concatenate([[row[1]['log-mae (mol/L)']],exp_chemical,exp_species],axis=-1))\n",
    "    "
   ]
  },
  {
   "cell_type": "code",
   "execution_count": 34,
   "metadata": {
    "scrolled": true
   },
   "outputs": [],
   "source": [
    "out = np.asarray(out)\n",
    "\n",
    "yc = out[:,0]\n",
    "x = out[:,1:]"
   ]
  },
  {
   "cell_type": "code",
   "execution_count": 35,
   "metadata": {
    "scrolled": true
   },
   "outputs": [
    {
     "data": {
      "text/plain": [
       "(0.5927431655728076, 0.04566003228880807)"
      ]
     },
     "execution_count": 35,
     "metadata": {},
     "output_type": "execute_result"
    }
   ],
   "source": [
    "from sklearn.svm import SVR\n",
    "from sklearn.ensemble import RandomForestRegressor\n",
    "from sklearn.model_selection import train_test_split\n",
    "from sklearn.metrics import mean_absolute_error\n",
    "\n",
    "t = np.zeros(x.shape[1])\n",
    "scores = []\n",
    "\n",
    "for i in range(100):\n",
    "    m = RandomForestRegressor()\n",
    "\n",
    "    xtr,xte,ytr,yte = train_test_split(x,yc,test_size=0.2)\n",
    "\n",
    "    m.fit(xtr,ytr)\n",
    "    #t += m.feature_importances_\n",
    "    scores.append(mean_absolute_error(m.predict(xte),yte))\n",
    "    \n",
    "np.mean(scores),np.std(scores)"
   ]
  },
  {
   "cell_type": "code",
   "execution_count": 36,
   "metadata": {
    "scrolled": false
   },
   "outputs": [
    {
     "ename": "TypeError",
     "evalue": "'numpy.float64' object cannot be interpreted as an integer",
     "output_type": "error",
     "traceback": [
      "\u001b[0;31m---------------------------------------------------------------------------\u001b[0m",
      "\u001b[0;31mTypeError\u001b[0m                                 Traceback (most recent call last)",
      "\u001b[0;32m<ipython-input-36-47ca4bb00882>\u001b[0m in \u001b[0;36m<module>\u001b[0;34m\u001b[0m\n\u001b[1;32m     19\u001b[0m \u001b[0mdes\u001b[0m \u001b[0;34m=\u001b[0m \u001b[0;34m[\u001b[0m\u001b[0;36m0.0\u001b[0m\u001b[0;34m,\u001b[0m\u001b[0;36m1.0\u001b[0m\u001b[0;34m,\u001b[0m\u001b[0;36m2.0\u001b[0m\u001b[0;34m,\u001b[0m\u001b[0;36m3.0\u001b[0m\u001b[0;34m]\u001b[0m\u001b[0;34m\u001b[0m\u001b[0;34m\u001b[0m\u001b[0m\n\u001b[1;32m     20\u001b[0m \u001b[0;34m\u001b[0m\u001b[0m\n\u001b[0;32m---> 21\u001b[0;31m \u001b[0mX\u001b[0m \u001b[0;34m=\u001b[0m \u001b[0;34m-\u001b[0m\u001b[0;36m1\u001b[0m \u001b[0;34m*\u001b[0m \u001b[0mnp\u001b[0m\u001b[0;34m.\u001b[0m\u001b[0mones\u001b[0m\u001b[0;34m(\u001b[0m\u001b[0;34m(\u001b[0m\u001b[0;34m*\u001b[0m\u001b[0mc_range\u001b[0m\u001b[0;34m,\u001b[0m \u001b[0;34m*\u001b[0m\u001b[0ms_range\u001b[0m\u001b[0;34m)\u001b[0m\u001b[0;34m)\u001b[0m\u001b[0;34m.\u001b[0m\u001b[0msqueeze\u001b[0m\u001b[0;34m(\u001b[0m\u001b[0;34m)\u001b[0m\u001b[0;34m\u001b[0m\u001b[0;34m\u001b[0m\u001b[0m\n\u001b[0m\u001b[1;32m     22\u001b[0m \u001b[0;34m\u001b[0m\u001b[0m\n\u001b[1;32m     23\u001b[0m \u001b[0;32mfor\u001b[0m \u001b[0md\u001b[0m \u001b[0;32min\u001b[0m \u001b[0mdes\u001b[0m\u001b[0;34m:\u001b[0m\u001b[0;34m\u001b[0m\u001b[0;34m\u001b[0m\u001b[0m\n",
      "\u001b[0;32m~/anaconda3/lib/python3.8/site-packages/numpy/core/numeric.py\u001b[0m in \u001b[0;36mones\u001b[0;34m(shape, dtype, order)\u001b[0m\n\u001b[1;32m    190\u001b[0m \u001b[0;34m\u001b[0m\u001b[0m\n\u001b[1;32m    191\u001b[0m     \"\"\"\n\u001b[0;32m--> 192\u001b[0;31m     \u001b[0ma\u001b[0m \u001b[0;34m=\u001b[0m \u001b[0mempty\u001b[0m\u001b[0;34m(\u001b[0m\u001b[0mshape\u001b[0m\u001b[0;34m,\u001b[0m \u001b[0mdtype\u001b[0m\u001b[0;34m,\u001b[0m \u001b[0morder\u001b[0m\u001b[0;34m)\u001b[0m\u001b[0;34m\u001b[0m\u001b[0;34m\u001b[0m\u001b[0m\n\u001b[0m\u001b[1;32m    193\u001b[0m     \u001b[0mmultiarray\u001b[0m\u001b[0;34m.\u001b[0m\u001b[0mcopyto\u001b[0m\u001b[0;34m(\u001b[0m\u001b[0ma\u001b[0m\u001b[0;34m,\u001b[0m \u001b[0;36m1\u001b[0m\u001b[0;34m,\u001b[0m \u001b[0mcasting\u001b[0m\u001b[0;34m=\u001b[0m\u001b[0;34m'unsafe'\u001b[0m\u001b[0;34m)\u001b[0m\u001b[0;34m\u001b[0m\u001b[0;34m\u001b[0m\u001b[0m\n\u001b[1;32m    194\u001b[0m     \u001b[0;32mreturn\u001b[0m \u001b[0ma\u001b[0m\u001b[0;34m\u001b[0m\u001b[0;34m\u001b[0m\u001b[0m\n",
      "\u001b[0;31mTypeError\u001b[0m: 'numpy.float64' object cannot be interpreted as an integer"
     ]
    }
   ],
   "source": [
    "import numpy as np\n",
    "import matplotlib.pyplot as plt\n",
    "import matplotlib.cm as cm\n",
    "from scipy.ndimage.filters import gaussian_filter\n",
    "\n",
    "f = lambda x: abs(float(x[0].split()[-1])-float(x[1].split()[-1]))\n",
    "\n",
    "def myplot(x, y, s, bins=1000):\n",
    "    heatmap, xedges, yedges = np.histogram2d(x, y, bins=bins)\n",
    "    heatmap = gaussian_filter(heatmap, sigma=s)\n",
    "\n",
    "    extent = [xedges[0], xedges[-1], yedges[0], yedges[-1]]\n",
    "    return heatmap.T, extent\n",
    "\n",
    "\n",
    "c_range = (xc.min(),xc.max()+1)\n",
    "s_range = (xs.min(),xs.max()+1)\n",
    "\n",
    "des = [0.0,1.0,2.0,3.0]\n",
    "\n",
    "X = -1 * np.ones((*c_range, *s_range)).squeeze()\n",
    "\n",
    "for d in des:\n",
    "    j = np.where(predictions_embedding['categorical error'].values==d)[0]\n",
    "    j = list(filter(lambda x: x>=0, j))\n",
    "    \n",
    "    X[xc[j],xs[j]] = predictions_embedding['categorical error'].values[j]\n",
    "    \n",
    "color_map = {0.0: np.array([0, 255, 0]), #green\n",
    "             1.0: np.array([0, 0, 255]), # blue\n",
    "             2.0: np.array([255, 0, 0]), # red\n",
    "             3.0: np.array([0, 0, 0]),# black \n",
    "            -1.0: np.array([255, 255, 255])} # white \n",
    "\n",
    "mask = X == -1\n",
    "rows = np.flatnonzero((~mask).sum(axis=1))\n",
    "cols = np.flatnonzero((~mask).sum(axis=0))\n",
    "\n",
    "old_ticks = X.shape\n",
    "\n",
    "X = X[rows, :][:,cols]\n",
    "\n",
    "new_ticks = X.shape\n",
    "\n",
    "# make a 3d numpy array that has a color channel dimension   \n",
    "data_3d = np.ndarray(shape=(X.shape[0], X.shape[1], 3), dtype=int)\n",
    "for i in range(0, X.shape[0]):\n",
    "    for j in range(0, X.shape[1]):\n",
    "        data_3d[i][j] = color_map[X[i][j]]\n",
    "\n",
    "# display the plot \n",
    "fig, ax = plt.subplots(1,1,figsize=(10,10))\n",
    "ax.imshow(data_3d)\n",
    "fig.canvas.draw()\n",
    "labels = [item.get_text() for item in ax.get_xticklabels()]\n",
    "ax.set_xticklabels(np.linspace(0,old_ticks[0],len(labels),dtype=int))\n",
    "\n",
    "labels = [item.get_text() for item in ax.get_yticklabels()]\n",
    "ax.set_yticklabels(np.linspace(0,old_ticks[1],len(labels),dtype=int))\n",
    "\n",
    "plt.xlabel('# chemical neighbours',fontsize=20)\n",
    "plt.ylabel('# species neighbours',fontsize=20)\n",
    "\n",
    "plt.show()"
   ]
  },
  {
   "cell_type": "code",
   "execution_count": null,
   "metadata": {},
   "outputs": [],
   "source": [
    "r1 = 9\n",
    "r2 = 11\n",
    "\n",
    "out = []\n",
    "\n",
    "new_idx = defaultdict(lambda : -1)\n",
    "j = 0\n",
    "for i,row in tq.tqdm(enumerate(predictions_embedding.iterrows()),total=len(predictions_embedding)):\n",
    "        \n",
    "    true_haz = row[1]['true hazard']\n",
    "    pred_haz = row[1]['predicted hazard']\n",
    "    \n",
    "    exp_species = distance_matrix_species[species_mappings[row[1]['species']]]\n",
    "    exp_chemical = distance_matrix_chemicals[chemical_mappings[row[1]['chemical']]]\n",
    "\n",
    "    #nds = sum(np.where(exp_species<r1,1,0))\n",
    "    #ndc = sum(np.where(exp_chemical<r2,1,0))\n",
    "\n",
    "    nds = neighborhood_density2(full_taxonomy,URIRef(row[1]['species']),depth=r1)\n",
    "    ndc = neighborhood_density2(chemical_graph,URIRef(row[1]['chemical']),depth=r2)\n",
    "    \n",
    "    out.append([row[1]['categorical error'],nds,ndc])\n",
    "    \n",
    "    new_idx[i] = j\n",
    "    j += 1"
   ]
  },
  {
   "cell_type": "code",
   "execution_count": null,
   "metadata": {},
   "outputs": [],
   "source": [
    "y,xs,xc = np.split(np.asarray(out),3,axis=-1)\n",
    "x = np.concatenate([xs,xc],axis=1)\n",
    "y,xc,xs = map(lambda x: x.ravel(),[y,xc,xs])\n",
    "\n",
    "fig, axs = plt.subplots(1,2)\n",
    "for z,ax in zip([xc,xs],axs):\n",
    "    ax.hist(z,bins=10)\n",
    "    ax.set_yscale('log')\n",
    "\n",
    "pass"
   ]
  },
  {
   "cell_type": "code",
   "execution_count": null,
   "metadata": {},
   "outputs": [],
   "source": [
    "\n",
    "out = np.asarray(out)\n",
    "\n",
    "yc = out[:,0]\n",
    "x = out[:,1:]\n",
    "xc,xs = x[:,0],x[:,1]\n",
    "\n",
    "s = 3\n",
    "des = [0.0,1.0,2.0,3.0]\n",
    "\n",
    "xlim = (50,280)\n",
    "ylim = (20,200)\n",
    "\n",
    "chosen_value = 20\n",
    "fig, axs = plt.subplots(2,2, figsize=(chosen_value, 1.5 * chosen_value / 2),\n",
    "                               subplot_kw={'aspect': 1})\n",
    "\n",
    "for i, ax in enumerate(axs.flatten()):\n",
    "    \n",
    "    j = np.where(predictions_embedding['categorical error'].values==des[i])[0]\n",
    "    j = list(filter(lambda x: (xs[x]>xlim[0] and xs[x]<xlim[1]) and (xc[x]<ylim[1] and xc[x]>ylim[0]),j))\n",
    "    \n",
    "    img, extent = myplot(xs[j], xc[j], s, bins=100)\n",
    "    im = ax.imshow(img, extent=extent, origin='lower', cmap=cm.jet,aspect=\"auto\")\n",
    "    \n",
    "    ax.set_title(\"Category error = %s\" % int(des[i]) + \" (#=%s)\" % int(len(j)), fontsize=20)\n",
    "    ax.set_ylabel(f'Chemical neighbours, depth={r2}', fontsize=20)\n",
    "    ax.set_xlabel(f'Species neighbours, depth={r1}', fontsize=20)\n",
    "    ax.tick_params(axis=\"x\", labelsize=12)\n",
    "    ax.tick_params(axis=\"y\", labelsize=12)\n",
    "\n",
    "fig.subplots_adjust(right=0.8)\n",
    "cbar_ax = fig.add_axes([0.85, 0.15, 0.05, 0.7])\n",
    "fig.colorbar(im, cax=cbar_ax)\n",
    "plt.savefig(f'results/{name}_only_organic_temp_plot.png' if ONLY_ORGANIC else f'results/{name}_temp_plot.png')\n",
    "plt.show()"
   ]
  },
  {
   "cell_type": "code",
   "execution_count": null,
   "metadata": {},
   "outputs": [],
   "source": [
    "import scipy as sp\n",
    "sp.stats.pearsonr(xc,y.ravel()),sp.stats.pearsonr(xs.ravel(),y.ravel())"
   ]
  },
  {
   "cell_type": "code",
   "execution_count": null,
   "metadata": {},
   "outputs": [],
   "source": []
  },
  {
   "cell_type": "code",
   "execution_count": null,
   "metadata": {},
   "outputs": [],
   "source": []
  }
 ],
 "metadata": {
  "kernelspec": {
   "display_name": "Python 3",
   "language": "python",
   "name": "python3"
  },
  "language_info": {
   "codemirror_mode": {
    "name": "ipython",
    "version": 3
   },
   "file_extension": ".py",
   "mimetype": "text/x-python",
   "name": "python",
   "nbconvert_exporter": "python",
   "pygments_lexer": "ipython3",
   "version": "3.8.5"
  }
 },
 "nbformat": 4,
 "nbformat_minor": 4
}
