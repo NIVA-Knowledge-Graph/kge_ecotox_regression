{
 "cells": [
  {
   "cell_type": "code",
   "execution_count": 1,
   "metadata": {},
   "outputs": [
    {
     "data": {
      "text/html": [
       "<div>\n",
       "<style scoped>\n",
       "    .dataframe tbody tr th:only-of-type {\n",
       "        vertical-align: middle;\n",
       "    }\n",
       "\n",
       "    .dataframe tbody tr th {\n",
       "        vertical-align: top;\n",
       "    }\n",
       "\n",
       "    .dataframe thead th {\n",
       "        text-align: right;\n",
       "    }\n",
       "</style>\n",
       "<table border=\"1\" class=\"dataframe\">\n",
       "  <thead>\n",
       "    <tr style=\"text-align: right;\">\n",
       "      <th></th>\n",
       "      <th>Unnamed: 0</th>\n",
       "      <th>species</th>\n",
       "      <th>chemical</th>\n",
       "      <th>prediction</th>\n",
       "    </tr>\n",
       "  </thead>\n",
       "  <tbody>\n",
       "    <tr>\n",
       "      <th>0</th>\n",
       "      <td>0</td>\n",
       "      <td>https://cfpub.epa.gov/ecotox/taxon/1</td>\n",
       "      <td>https://cfpub.epa.gov/ecotox/cas/10025919</td>\n",
       "      <td>3.409423</td>\n",
       "    </tr>\n",
       "    <tr>\n",
       "      <th>1</th>\n",
       "      <td>1</td>\n",
       "      <td>https://cfpub.epa.gov/ecotox/taxon/1</td>\n",
       "      <td>https://cfpub.epa.gov/ecotox/cas/10028156</td>\n",
       "      <td>4.745417</td>\n",
       "    </tr>\n",
       "    <tr>\n",
       "      <th>2</th>\n",
       "      <td>2</td>\n",
       "      <td>https://cfpub.epa.gov/ecotox/taxon/1</td>\n",
       "      <td>https://cfpub.epa.gov/ecotox/cas/100414</td>\n",
       "      <td>3.118691</td>\n",
       "    </tr>\n",
       "    <tr>\n",
       "      <th>3</th>\n",
       "      <td>3</td>\n",
       "      <td>https://cfpub.epa.gov/ecotox/taxon/1</td>\n",
       "      <td>https://cfpub.epa.gov/ecotox/cas/100425</td>\n",
       "      <td>3.371569</td>\n",
       "    </tr>\n",
       "    <tr>\n",
       "      <th>4</th>\n",
       "      <td>4</td>\n",
       "      <td>https://cfpub.epa.gov/ecotox/taxon/1</td>\n",
       "      <td>https://cfpub.epa.gov/ecotox/cas/10043013</td>\n",
       "      <td>3.915030</td>\n",
       "    </tr>\n",
       "  </tbody>\n",
       "</table>\n",
       "</div>"
      ],
      "text/plain": [
       "   Unnamed: 0                               species  \\\n",
       "0           0  https://cfpub.epa.gov/ecotox/taxon/1   \n",
       "1           1  https://cfpub.epa.gov/ecotox/taxon/1   \n",
       "2           2  https://cfpub.epa.gov/ecotox/taxon/1   \n",
       "3           3  https://cfpub.epa.gov/ecotox/taxon/1   \n",
       "4           4  https://cfpub.epa.gov/ecotox/taxon/1   \n",
       "\n",
       "                                    chemical  prediction  \n",
       "0  https://cfpub.epa.gov/ecotox/cas/10025919    3.409423  \n",
       "1  https://cfpub.epa.gov/ecotox/cas/10028156    4.745417  \n",
       "2    https://cfpub.epa.gov/ecotox/cas/100414    3.118691  \n",
       "3    https://cfpub.epa.gov/ecotox/cas/100425    3.371569  \n",
       "4  https://cfpub.epa.gov/ecotox/cas/10043013    3.915030  "
      ]
     },
     "execution_count": 1,
     "metadata": {},
     "output_type": "execute_result"
    }
   ],
   "source": [
    "import pandas as pd\n",
    "import numpy as np\n",
    "predictions = pd.read_csv('predictions.csv')\n",
    "predictions_embedding = pd.read_csv('predictions_embedding.csv')\n",
    "predictions.head()"
   ]
  },
  {
   "cell_type": "code",
   "execution_count": 2,
   "metadata": {},
   "outputs": [],
   "source": [
    "import sys\n",
    "from SPARQLWrapper import SPARQLWrapper, JSON\n",
    "namespace = 'https://cfpub.epa.gov/ecotox/'\n",
    "\n",
    "endpoint_url = \"https://query.wikidata.org/sparql\"\n",
    "\n",
    "query = \"\"\"select ?cas ?mw where {\n",
    "  ?c wdt:P231 ?castmp ;\n",
    "     wdt:P2067 ?mw .\n",
    "  bind(replace(?castmp,'-','') as ?cas)\n",
    "}\"\"\"\n",
    "\n",
    "def get_results(endpoint_url, query):\n",
    "    user_agent = \"WDQS-example Python/%s.%s\" % (sys.version_info[0], sys.version_info[1])\n",
    "    # TODO adjust user agent; see https://w.wiki/CX6\n",
    "    sparql = SPARQLWrapper(endpoint_url, agent=user_agent)\n",
    "    sparql.setQuery(query)\n",
    "    sparql.setReturnFormat(JSON)\n",
    "    return sparql.query().convert()\n",
    "\n",
    "results = get_results(endpoint_url, query)\n",
    "\n",
    "mw = {}\n",
    "for result in results[\"results\"][\"bindings\"]:\n",
    "    mw['https://cfpub.epa.gov/ecotox/cas/'+result['cas']['value']] = float(result['mw']['value'])\n"
   ]
  },
  {
   "cell_type": "code",
   "execution_count": 3,
   "metadata": {},
   "outputs": [],
   "source": [
    "predictions['molecular_weight'] = predictions['chemical'].apply(lambda x: mw[x])"
   ]
  },
  {
   "cell_type": "code",
   "execution_count": 4,
   "metadata": {},
   "outputs": [],
   "source": [
    "predictions['conc (mg/L)'] = 1e3 * 10**(-predictions['prediction']) * predictions['molecular_weight']\n",
    "predictions_embedding['conc (mg/L)'] = 1e3 * 10**(-predictions_embedding['prediction']) * predictions['molecular_weight']"
   ]
  },
  {
   "cell_type": "code",
   "execution_count": 5,
   "metadata": {},
   "outputs": [],
   "source": [
    "def hazard_function(c):\n",
    "    if np.isnan(c): \n",
    "        return 'NaN'\n",
    "    if c <= 1: #mg/L\n",
    "        return 'Category 1' # Very toxic\n",
    "    if c <= 10:\n",
    "        return 'Category 2' # Toxic\n",
    "    if c <= 100:\n",
    "        return 'Category 3' # Harmful\n",
    "    return 'Category 4' # Maybe harmful\n",
    "\n",
    "predictions['Hazard'] = list(map(hazard_function,predictions['conc (mg/L)'].values))\n",
    "predictions_embedding['Hazard'] = list(map(hazard_function,predictions_embedding['conc (mg/L)'].values))"
   ]
  },
  {
   "cell_type": "code",
   "execution_count": 6,
   "metadata": {},
   "outputs": [
    {
     "data": {
      "text/html": [
       "<div>\n",
       "<style scoped>\n",
       "    .dataframe tbody tr th:only-of-type {\n",
       "        vertical-align: middle;\n",
       "    }\n",
       "\n",
       "    .dataframe tbody tr th {\n",
       "        vertical-align: top;\n",
       "    }\n",
       "\n",
       "    .dataframe thead th {\n",
       "        text-align: right;\n",
       "    }\n",
       "</style>\n",
       "<table border=\"1\" class=\"dataframe\">\n",
       "  <thead>\n",
       "    <tr style=\"text-align: right;\">\n",
       "      <th></th>\n",
       "      <th>Unnamed: 0</th>\n",
       "      <th>species</th>\n",
       "      <th>chemical</th>\n",
       "      <th>prediction</th>\n",
       "      <th>molecular_weight</th>\n",
       "      <th>conc (mg/L)</th>\n",
       "    </tr>\n",
       "    <tr>\n",
       "      <th>Hazard</th>\n",
       "      <th></th>\n",
       "      <th></th>\n",
       "      <th></th>\n",
       "      <th></th>\n",
       "      <th></th>\n",
       "      <th></th>\n",
       "    </tr>\n",
       "  </thead>\n",
       "  <tbody>\n",
       "    <tr>\n",
       "      <th>Category 1</th>\n",
       "      <td>1246</td>\n",
       "      <td>1246</td>\n",
       "      <td>1246</td>\n",
       "      <td>1246</td>\n",
       "      <td>1246</td>\n",
       "      <td>1246</td>\n",
       "    </tr>\n",
       "    <tr>\n",
       "      <th>Category 2</th>\n",
       "      <td>2039</td>\n",
       "      <td>2039</td>\n",
       "      <td>2039</td>\n",
       "      <td>2039</td>\n",
       "      <td>2039</td>\n",
       "      <td>2039</td>\n",
       "    </tr>\n",
       "    <tr>\n",
       "      <th>Category 3</th>\n",
       "      <td>1800</td>\n",
       "      <td>1800</td>\n",
       "      <td>1800</td>\n",
       "      <td>1800</td>\n",
       "      <td>1800</td>\n",
       "      <td>1800</td>\n",
       "    </tr>\n",
       "    <tr>\n",
       "      <th>Category 4</th>\n",
       "      <td>2036</td>\n",
       "      <td>2036</td>\n",
       "      <td>2036</td>\n",
       "      <td>2036</td>\n",
       "      <td>2036</td>\n",
       "      <td>2036</td>\n",
       "    </tr>\n",
       "  </tbody>\n",
       "</table>\n",
       "</div>"
      ],
      "text/plain": [
       "            Unnamed: 0  species  chemical  prediction  molecular_weight  \\\n",
       "Hazard                                                                    \n",
       "Category 1        1246     1246      1246        1246              1246   \n",
       "Category 2        2039     2039      2039        2039              2039   \n",
       "Category 3        1800     1800      1800        1800              1800   \n",
       "Category 4        2036     2036      2036        2036              2036   \n",
       "\n",
       "            conc (mg/L)  \n",
       "Hazard                   \n",
       "Category 1         1246  \n",
       "Category 2         2039  \n",
       "Category 3         1800  \n",
       "Category 4         2036  "
      ]
     },
     "execution_count": 6,
     "metadata": {},
     "output_type": "execute_result"
    }
   ],
   "source": [
    "predictions.groupby('Hazard').count()"
   ]
  },
  {
   "cell_type": "code",
   "execution_count": 7,
   "metadata": {},
   "outputs": [],
   "source": [
    "from rdflib import Graph, URIRef\n",
    "import numpy as np\n",
    "import glob \n",
    "graph = Graph()\n",
    "for filename in glob.glob('reduced_kgs/reduced_*'):\n",
    "    graph.load(filename,format=filename.split('.')[-1])\n",
    "entities = sorted(list(set(graph.subjects()) | set(graph.objects())))\n",
    "relations = sorted(list(set(graph.predicates())))\n",
    "\n",
    "entity_mappings = {e:i for i,e in enumerate(entities)}\n",
    "relation_mappings = {e:i for i,e in enumerate(relations)}\n",
    "triples = np.asarray(list(map(lambda x: (entity_mappings[x[0]],\n",
    "                                         relation_mappings[x[1]],\n",
    "                                         entity_mappings[x[2]]),graph)))"
   ]
  },
  {
   "cell_type": "code",
   "execution_count": 8,
   "metadata": {},
   "outputs": [],
   "source": [
    "import sys  \n",
    "sys.path.insert(0, './')\n",
    "from embedding_model import ComplEx"
   ]
  },
  {
   "cell_type": "code",
   "execution_count": 9,
   "metadata": {},
   "outputs": [],
   "source": [
    "embedding_model = ComplEx(entities,relations)\n",
    "embedding_model.load_weights('model.tf')\n",
    "entity_matrix = embedding_model.get_layer('entity_embedding').weights[0].numpy()"
   ]
  },
  {
   "cell_type": "code",
   "execution_count": 65,
   "metadata": {},
   "outputs": [],
   "source": [
    "species = set(predictions.species)\n",
    "chemicals = set(predictions.chemical)"
   ]
  },
  {
   "cell_type": "code",
   "execution_count": 66,
   "metadata": {},
   "outputs": [
    {
     "data": {
      "application/vnd.jupyter.widget-view+json": {
       "model_id": "1070558268fb4922b172988ae506d6ff",
       "version_major": 2,
       "version_minor": 0
      },
      "text/plain": [
       "HBox(children=(FloatProgress(value=0.0, max=1449.0), HTML(value='')))"
      ]
     },
     "metadata": {},
     "output_type": "display_data"
    },
    {
     "name": "stdout",
     "output_type": "stream",
     "text": [
      "\n"
     ]
    },
    {
     "data": {
      "application/vnd.jupyter.widget-view+json": {
       "model_id": "7d12f7676443429ea9c6dd9ccd9abc27",
       "version_major": 2,
       "version_minor": 0
      },
      "text/plain": [
       "HBox(children=(FloatProgress(value=0.0, max=520.0), HTML(value='')))"
      ]
     },
     "metadata": {},
     "output_type": "display_data"
    },
    {
     "name": "stdout",
     "output_type": "stream",
     "text": [
      "\n",
      "CPU times: user 24.7 s, sys: 18.2 s, total: 42.9 s\n",
      "Wall time: 42.9 s\n"
     ]
    }
   ],
   "source": [
    "%%time\n",
    "import tqdm.notebook as tq\n",
    "\n",
    "distance_matrix_species = np.asarray([np.linalg.norm(entity_matrix[entity_mappings[URIRef(s)]]-entity_matrix,ord=2,axis=-1) for s in tq.tqdm(species)]) / len(entity_matrix[0])\n",
    "distance_matrix_chemicals = np.asarray([np.linalg.norm(entity_matrix[entity_mappings[URIRef(c)]]-entity_matrix,ord=2,axis=-1) for c in tq.tqdm(chemicals)]) / len(entity_matrix[0])"
   ]
  },
  {
   "cell_type": "code",
   "execution_count": 67,
   "metadata": {},
   "outputs": [
    {
     "data": {
      "text/plain": [
       "(1449, 59953)"
      ]
     },
     "execution_count": 67,
     "metadata": {},
     "output_type": "execute_result"
    }
   ],
   "source": [
    "distance_matrix_species.shape"
   ]
  },
  {
   "cell_type": "code",
   "execution_count": 68,
   "metadata": {},
   "outputs": [],
   "source": [
    "inverse_species_mappings = {k:i for i,k in enumerate(species)}\n",
    "inverse_chemical_mappings = {k:i for i,k in enumerate(chemicals)}"
   ]
  },
  {
   "cell_type": "code",
   "execution_count": 69,
   "metadata": {},
   "outputs": [
    {
     "name": "stdout",
     "output_type": "stream",
     "text": [
      "Category 4\n",
      "Species close to ['https://cfpub.epa.gov/ecotox/taxon/1695', 'https://cfpub.epa.gov/ecotox/taxon/10501', 'https://cfpub.epa.gov/ecotox/taxon/1716']\n",
      "Chemical close to ['https://cfpub.epa.gov/ecotox/cas/7803523', 'http://purl.obolibrary.org/obo/CHEBI_36897', 'http://purl.obolibrary.org/obo/CHEBI_38307']\n",
      "Category 1\n",
      "Species close to ['https://cfpub.epa.gov/ecotox/taxon/1695', 'https://cfpub.epa.gov/ecotox/taxon/10501', 'https://cfpub.epa.gov/ecotox/taxon/1716']\n",
      "Chemical close to ['https://cfpub.epa.gov/ecotox/cas/122394', 'https://cfpub.epa.gov/ecotox/cas/532321', 'https://cfpub.epa.gov/ecotox/cas/78115']\n",
      "Category 3\n",
      "Species close to ['https://cfpub.epa.gov/ecotox/taxon/1695', 'https://cfpub.epa.gov/ecotox/taxon/10501', 'https://cfpub.epa.gov/ecotox/taxon/1716']\n",
      "Chemical close to ['https://cfpub.epa.gov/ecotox/cas/103651', 'https://cfpub.epa.gov/ecotox/cas/111693', 'https://cfpub.epa.gov/ecotox/cas/97881']\n",
      "Category 3\n",
      "Species close to ['https://cfpub.epa.gov/ecotox/taxon/1695', 'https://cfpub.epa.gov/ecotox/taxon/10501', 'https://cfpub.epa.gov/ecotox/taxon/1716']\n",
      "Chemical close to ['https://cfpub.epa.gov/ecotox/cas/1310732', 'https://cfpub.epa.gov/ecotox/cas/107073', 'https://cfpub.epa.gov/ecotox/cas/680319']\n",
      "Category 4\n",
      "Species close to ['https://cfpub.epa.gov/ecotox/taxon/1695', 'https://cfpub.epa.gov/ecotox/taxon/10501', 'https://cfpub.epa.gov/ecotox/taxon/1716']\n",
      "Chemical close to ['https://cfpub.epa.gov/ecotox/cas/7784181', 'http://purl.obolibrary.org/obo/CHEBI_36859', 'http://purl.obolibrary.org/obo/CHEBI_38908']\n",
      "Category 4\n",
      "Species close to ['https://cfpub.epa.gov/ecotox/taxon/1695', 'https://cfpub.epa.gov/ecotox/taxon/10501', 'https://cfpub.epa.gov/ecotox/taxon/1716']\n",
      "Chemical close to ['https://cfpub.epa.gov/ecotox/cas/100970', 'https://cfpub.epa.gov/ecotox/cas/12125029', 'https://cfpub.epa.gov/ecotox/cas/1310732']\n",
      "Category 3\n",
      "Species close to ['https://cfpub.epa.gov/ecotox/taxon/1695', 'https://cfpub.epa.gov/ecotox/taxon/10501', 'https://cfpub.epa.gov/ecotox/taxon/1716']\n",
      "Chemical close to ['https://cfpub.epa.gov/ecotox/cas/7681381', 'https://cfpub.epa.gov/ecotox/cas/120127', 'https://cfpub.epa.gov/ecotox/cas/540885']\n",
      "Category 3\n",
      "Species close to ['https://cfpub.epa.gov/ecotox/taxon/1695', 'https://cfpub.epa.gov/ecotox/taxon/10501', 'https://cfpub.epa.gov/ecotox/taxon/1716']\n",
      "Chemical close to ['https://cfpub.epa.gov/ecotox/cas/75014', 'https://cfpub.epa.gov/ecotox/cas/66762', 'https://cfpub.epa.gov/ecotox/cas/111875']\n",
      "Category 2\n",
      "Species close to ['https://cfpub.epa.gov/ecotox/taxon/1695', 'https://cfpub.epa.gov/ecotox/taxon/10501', 'https://cfpub.epa.gov/ecotox/taxon/1716']\n",
      "Chemical close to ['https://cfpub.epa.gov/ecotox/cas/124403', 'https://cfpub.epa.gov/ecotox/cas/78795', 'https://cfpub.epa.gov/ecotox/cas/121324']\n",
      "Category 4\n",
      "Species close to ['https://cfpub.epa.gov/ecotox/taxon/1695', 'https://cfpub.epa.gov/ecotox/taxon/10501', 'https://cfpub.epa.gov/ecotox/taxon/1716']\n",
      "Chemical close to ['https://cfpub.epa.gov/ecotox/cas/60344', 'https://cfpub.epa.gov/ecotox/cas/10043524', 'https://cfpub.epa.gov/ecotox/cas/1310732']\n",
      "Category 4\n",
      "Species close to ['https://cfpub.epa.gov/ecotox/taxon/1695', 'https://cfpub.epa.gov/ecotox/taxon/10501', 'https://cfpub.epa.gov/ecotox/taxon/1716']\n",
      "Chemical close to ['https://cfpub.epa.gov/ecotox/cas/10049055', 'https://cfpub.epa.gov/ecotox/cas/27774136', 'https://cfpub.epa.gov/ecotox/cas/7446186']\n",
      "Category 3\n",
      "Species close to ['https://cfpub.epa.gov/ecotox/taxon/1695', 'https://cfpub.epa.gov/ecotox/taxon/10501', 'https://cfpub.epa.gov/ecotox/taxon/1716']\n",
      "Chemical close to ['http://id.nlm.nih.gov/mesh/D005296', 'http://id.nlm.nih.gov/mesh/D017974', 'http://id.nlm.nih.gov/mesh/D001967']\n"
     ]
    }
   ],
   "source": [
    "n = 3\n",
    "for i,row in enumerate(predictions_embedding.iterrows()):\n",
    "    haz = row[1]['Hazard']\n",
    "    \n",
    "    exp_species = np.argsort(distance_matrix_species[inverse_species_mappings[row[1]['species']]])[1:n+1]\n",
    "    exp_chemical = np.argsort(distance_matrix_chemicals[inverse_chemical_mappings[row[1]['chemical']]])[1:n+1]\n",
    "    \n",
    "    print(haz)\n",
    "    print('Species close to',[inverse_entity_mappings[i] for i in exp_species])\n",
    "    print('Chemical close to',[inverse_entity_mappings[i] for i in exp_chemical])\n",
    "    \n",
    "    \n",
    "    if i > 10: break"
   ]
  },
  {
   "cell_type": "code",
   "execution_count": null,
   "metadata": {},
   "outputs": [],
   "source": []
  }
 ],
 "metadata": {
  "kernelspec": {
   "display_name": "Python 3",
   "language": "python",
   "name": "python3"
  },
  "language_info": {
   "codemirror_mode": {
    "name": "ipython",
    "version": 3
   },
   "file_extension": ".py",
   "mimetype": "text/x-python",
   "name": "python",
   "nbconvert_exporter": "python",
   "pygments_lexer": "ipython3",
   "version": "3.8.5"
  }
 },
 "nbformat": 4,
 "nbformat_minor": 4
}
