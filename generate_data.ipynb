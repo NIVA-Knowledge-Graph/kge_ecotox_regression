{
 "cells": [
  {
   "cell_type": "code",
   "execution_count": 1,
   "metadata": {},
   "outputs": [],
   "source": [
    "import numpy as np\n",
    "import pandas as pd\n",
    "from rdflib import Graph, Literal, URIRef, Namespace\n",
    "from rdflib.plugins.sparql import prepareQuery\n",
    "from tqdm import tqdm\n",
    "import matplotlib.pyplot as plt"
   ]
  },
  {
   "cell_type": "code",
   "execution_count": 2,
   "metadata": {},
   "outputs": [
    {
     "name": "stdout",
     "output_type": "stream",
     "text": [
      "CPU times: user 5min 17s, sys: 5.68 s, total: 5min 23s\n",
      "Wall time: 5min 22s\n"
     ]
    }
   ],
   "source": [
    "%%time\n",
    "effects = Graph()\n",
    "effects.load('../TERA_OUTPUT/effects.nt',format='nt')"
   ]
  },
  {
   "cell_type": "code",
   "execution_count": 3,
   "metadata": {},
   "outputs": [],
   "source": [
    "ONLY_ORGANIC = True"
   ]
  },
  {
   "cell_type": "code",
   "execution_count": 4,
   "metadata": {},
   "outputs": [],
   "source": [
    "namespace = 'https://cfpub.epa.gov/ecotox/'"
   ]
  },
  {
   "cell_type": "code",
   "execution_count": 5,
   "metadata": {},
   "outputs": [],
   "source": [
    "from rdflib.namespace import RDF, XSD\n",
    "\n",
    "q = \"\"\"\n",
    "    select ?species ?chem ?conc ?unit ?time ?tunit where {\n",
    "        ?test ns:hasResult [ns:endpoint ?end ;\n",
    "                            ns:effect effect:MOR ;\n",
    "                            ns:concentration [\n",
    "                                rdf:value ?conc ;\n",
    "                                unit:units ?unit \n",
    "                            ]] .\n",
    "         ?test ns:studyDuration [\n",
    "                    rdf:value ?time ;\n",
    "                    unit:units ?tunit\n",
    "                    ] .\n",
    "        ?test ns:species ?species .\n",
    "        ?test ns:chemical ?chem .\n",
    "    filter (?unit in (unit:MicrogramPerLitre, unit:MilligramPerLitre))\n",
    "    filter (?end in (endpoint:LC50, endpoint:LD50, endpoint:EC50) )\n",
    "    #filter ((?tunit = \"Hour\" && (xsd:integer(?time) <= 96) && (xsd:integer(?time) >= 24)) || (?tunit = \"Day\" && (xsd:integer(?time) <= 4) && (xsd:integer(?time) >= 1)))\n",
    "    }\n",
    "    \"\"\"\n",
    "\n",
    "q = prepareQuery(q,\n",
    "                 initNs = { 'ns': Namespace(namespace), \n",
    "                           'rdf':RDF,\n",
    "                            'xsd':XSD,\n",
    "                           'unit':Namespace('http://qudt.org/vocab/unit#'),\n",
    "                           'endpoint':Namespace(namespace+'endpoint/'),\n",
    "                            'effect':Namespace(namespace+'effect/')})\n"
   ]
  },
  {
   "cell_type": "code",
   "execution_count": 6,
   "metadata": {},
   "outputs": [],
   "source": [
    "qres = effects.query(q)"
   ]
  },
  {
   "cell_type": "code",
   "execution_count": 7,
   "metadata": {},
   "outputs": [],
   "source": [
    "import sys\n",
    "from SPARQLWrapper import SPARQLWrapper, JSON\n",
    "\n",
    "endpoint_url = \"https://query.wikidata.org/sparql\"\n",
    "\n",
    "query = \"\"\"select ?cas ?mw where {\n",
    "  ?c wdt:P231 ?castmp ;\n",
    "     wdt:P2067 ?mw .\n",
    "  bind(replace(?castmp,'-','') as ?cas)\n",
    "}\"\"\"\n",
    "\n",
    "def get_results(endpoint_url, query):\n",
    "    user_agent = \"WDQS-example Python/%s.%s\" % (sys.version_info[0], sys.version_info[1])\n",
    "    # TODO adjust user agent; see https://w.wiki/CX6\n",
    "    sparql = SPARQLWrapper(endpoint_url, agent=user_agent)\n",
    "    sparql.setQuery(query)\n",
    "    sparql.setReturnFormat(JSON)\n",
    "    return sparql.query().convert()\n",
    "\n",
    "results = get_results(endpoint_url, query)\n",
    "\n",
    "mw = {}\n",
    "for result in results[\"results\"][\"bindings\"]:\n",
    "    mw[namespace +'cas/'+ result['cas']['value']] = float(result['mw']['value'])"
   ]
  },
  {
   "cell_type": "code",
   "execution_count": 8,
   "metadata": {},
   "outputs": [],
   "source": [
    "\n",
    "query = \"\"\"select ?cas ?part where {\n",
    "          ?chemical wdt:P527 ?part .\n",
    "          ?chemical wdt:P231 ?castmp .\n",
    "          bind(replace(?castmp,'-','') as ?cas)\n",
    "  } \"\"\"\n",
    "\n",
    "applicability_domain = set()\n",
    "results = get_results(endpoint_url, query)\n",
    "\n",
    "from collections import defaultdict\n",
    "r = defaultdict(set)\n",
    "for result in results[\"results\"][\"bindings\"]:\n",
    "    r[namespace +'cas/'+ result['cas']['value']].add(result['part']['value'])\n",
    "\n",
    "for k in r:\n",
    "    if ONLY_ORGANIC and 'http://www.wikidata.org/entity/Q623' in r[k]:\n",
    "        applicability_domain.add(k)\n",
    "    elif not (ONLY_ORGANIC or 'http://www.wikidata.org/entity/Q623' in r[k]):\n",
    "        applicability_domain.add(k)\n"
   ]
  },
  {
   "cell_type": "code",
   "execution_count": 9,
   "metadata": {},
   "outputs": [
    {
     "data": {
      "text/plain": [
       "(10833, 1338)"
      ]
     },
     "execution_count": 9,
     "metadata": {},
     "output_type": "execute_result"
    }
   ],
   "source": [
    "data = []\n",
    "j = 0\n",
    "for i,row in enumerate(qres):\n",
    "    a,c,b,u,t,tu = row\n",
    "    tu = str(tu)\n",
    "    t = float(t)\n",
    "    if tu == 'Day':\n",
    "        t *= 24\n",
    "    elif tu == 'Hour':\n",
    "        t *= 1\n",
    "    else:\n",
    "        continue\n",
    "    if t > 96 or t < 24: continue\n",
    "    try:\n",
    "        f = 1e6 if 'Micro' in str(u) else 1e3\n",
    "        data.append((str(a),str(c),float(b)/f/mw[str(c)],t))\n",
    "    except:\n",
    "        j += 1\n",
    "len(data),j"
   ]
  },
  {
   "cell_type": "code",
   "execution_count": 10,
   "metadata": {},
   "outputs": [],
   "source": [
    "data = pd.DataFrame(data=dict(zip(['species','chemical','conc (mol/L)','time'],zip(*data))))\n",
    "data = data[data['chemical'].isin(applicability_domain)]\n",
    "idx = (data.groupby(['species','chemical']).count() >= 3).index.tolist()\n",
    "data = data.set_index(['species','chemical'])\n",
    "data = data.loc[data.index.isin(idx)].reset_index()"
   ]
  },
  {
   "cell_type": "code",
   "execution_count": 13,
   "metadata": {},
   "outputs": [
    {
     "data": {
      "image/png": "[encoded data removed]",
      "text/plain": [
       "<Figure size 432x288 with 1 Axes>"
      ]
     },
     "metadata": {
      "needs_background": "light"
     },
     "output_type": "display_data"
    }
   ],
   "source": [
    "data['log conc (mol/L)'] = -np.log10(data['conc (mol/L)'])\n",
    "\n",
    "data.groupby(['species','chemical']).std().hist(bins=25, column = 'log conc (mol/L)')\n",
    "plt.title('')\n",
    "plt.xlabel('Standard deviation',fontsize=14)\n",
    "plt.ylabel('Count',fontsize=14)\n",
    "plt.savefig('only_organic_experiment_std.png' if ONLY_ORGANIC else 'experiment_std.png')"
   ]
  },
  {
   "cell_type": "code",
   "execution_count": null,
   "metadata": {},
   "outputs": [],
   "source": [
    "tmp = data.groupby(['species','chemical']).median()[['log conc (mol/L)']]\n",
    "effect_data = list(zip(*list(zip(*tmp.index.values)),tmp.values.ravel()))\n",
    "df = pd.DataFrame(data=dict(zip(['species','chemical','log conc (mol/L)'],zip(*effect_data))))\n",
    "df.to_csv('only_organic_effect_data.csv' if ONLY_ORGANIC else 'effect_data.csv')"
   ]
  },
  {
   "cell_type": "code",
   "execution_count": null,
   "metadata": {},
   "outputs": [],
   "source": [
    "df.shape"
   ]
  }
 ],
 "metadata": {
  "kernelspec": {
   "display_name": "Python 3",
   "language": "python",
   "name": "python3"
  },
  "language_info": {
   "codemirror_mode": {
    "name": "ipython",
    "version": 3
   },
   "file_extension": ".py",
   "mimetype": "text/x-python",
   "name": "python",
   "nbconvert_exporter": "python",
   "pygments_lexer": "ipython3",
   "version": "3.8.5"
  }
 },
 "nbformat": 4,
 "nbformat_minor": 4
}
