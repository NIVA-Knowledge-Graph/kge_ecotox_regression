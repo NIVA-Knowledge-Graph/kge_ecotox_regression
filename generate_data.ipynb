{
 "cells": [
  {
   "cell_type": "code",
   "execution_count": 20,
   "metadata": {},
   "outputs": [],
   "source": [
    "import numpy as np\n",
    "import pandas as pd\n",
    "from rdflib import Graph, Literal, URIRef, Namespace\n",
    "from rdflib.plugins.sparql import prepareQuery\n",
    "from tqdm import tqdm"
   ]
  },
  {
   "cell_type": "code",
   "execution_count": 21,
   "metadata": {},
   "outputs": [],
   "source": [
    "ONLY_ORGANIC = True"
   ]
  },
  {
   "cell_type": "code",
   "execution_count": 22,
   "metadata": {},
   "outputs": [
    {
     "name": "stdout",
     "output_type": "stream",
     "text": [
      "CPU times: user 5min 15s, sys: 2.12 s, total: 5min 17s\n",
      "Wall time: 5min 17s\n"
     ]
    }
   ],
   "source": [
    "%%time\n",
    "effects = Graph()\n",
    "effects.load('../TERA_OUTPUT/effects.nt',format='nt')"
   ]
  },
  {
   "cell_type": "code",
   "execution_count": 23,
   "metadata": {},
   "outputs": [],
   "source": [
    "namespace = 'https://cfpub.epa.gov/ecotox/'"
   ]
  },
  {
   "cell_type": "code",
   "execution_count": 24,
   "metadata": {},
   "outputs": [],
   "source": [
    "from rdflib.namespace import RDF\n",
    "\n",
    "q = \"\"\"\n",
    "    select ?species ?chem ?conc ?unit where {\n",
    "        ?test ns:hasResult [ns:endpoint ?end ;\n",
    "                            ns:effect effect:MOR ;\n",
    "                            ns:concentration [\n",
    "                                rdf:value ?conc ;\n",
    "                                unit:units ?unit \n",
    "                            ]] .\n",
    "        ?test ns:species ?species .\n",
    "        ?test ns:chemical ?chem .\n",
    "    filter (?unit in (unit:MicrogramPerLitre, unit:MilligramPerLitre))\n",
    "    filter (?end in (endpoint:LC50, endpoint:LD50, endpoint:EC50) )\n",
    "    }\n",
    "    \"\"\"\n",
    "\n",
    "q = prepareQuery(q,\n",
    "                 initNs = { 'ns': Namespace(namespace), \n",
    "                           'rdf':RDF,\n",
    "                           'unit':Namespace('http://qudt.org/vocab/unit#'),\n",
    "                           'endpoint':Namespace(namespace+'endpoint/'),\n",
    "                            'effect':Namespace(namespace+'effect/')})\n"
   ]
  },
  {
   "cell_type": "code",
   "execution_count": 25,
   "metadata": {},
   "outputs": [],
   "source": [
    "qres = effects.query(q)"
   ]
  },
  {
   "cell_type": "code",
   "execution_count": 26,
   "metadata": {},
   "outputs": [],
   "source": [
    "import sys\n",
    "from SPARQLWrapper import SPARQLWrapper, JSON\n",
    "\n",
    "endpoint_url = \"https://query.wikidata.org/sparql\"\n",
    "\n",
    "query = \"\"\"select ?cas ?mw where {\n",
    "  ?c wdt:P231 ?castmp ;\n",
    "     wdt:P2067 ?mw .\n",
    "  bind(replace(?castmp,'-','') as ?cas)\n",
    "}\"\"\"\n",
    "\n",
    "def get_results(endpoint_url, query):\n",
    "    user_agent = \"WDQS-example Python/%s.%s\" % (sys.version_info[0], sys.version_info[1])\n",
    "    # TODO adjust user agent; see https://w.wiki/CX6\n",
    "    sparql = SPARQLWrapper(endpoint_url, agent=user_agent)\n",
    "    sparql.setQuery(query)\n",
    "    sparql.setReturnFormat(JSON)\n",
    "    return sparql.query().convert()\n",
    "\n",
    "results = get_results(endpoint_url, query)\n",
    "\n",
    "mw = {}\n",
    "for result in results[\"results\"][\"bindings\"]:\n",
    "    mw[namespace +'cas/'+ result['cas']['value']] = float(result['mw']['value'])"
   ]
  },
  {
   "cell_type": "code",
   "execution_count": 27,
   "metadata": {},
   "outputs": [],
   "source": [
    "query = \"\"\"select ?cas where {\n",
    "          ?chemical wdt:P527 ?part .\n",
    "          ?chemical wdt:P231 ?castmp .\n",
    "          bind(replace(?castmp,'-','') as ?cas)\n",
    "          filter (?part in (wd:Q623, wd:Q556, wd:Q629, wd:Q627, wd:Q650, wd:Q688, wd:Q879, wd:Q1103, wd:Q682, wd:Q674, wd:Q670, wd:Q871, wd:Q925, wd:Q1096) )\n",
    "        }\"\"\"\n",
    "\n",
    "only_organic_query = \"\"\"select ?cas where {\n",
    "          ?chemical wdt:P527 ?part .\n",
    "          ?chemical wdt:P231 ?castmp .\n",
    "          bind(replace(?castmp,'-','') as ?cas)\n",
    "          filter (?part in (wd:Q623) )\n",
    "        }\"\"\"\n",
    "\n",
    "applicability_domain = set()\n",
    "results = get_results(endpoint_url, only_organic_query if ONLY_ORGANIC else query)\n",
    "\n",
    "for result in results[\"results\"][\"bindings\"]:\n",
    "    applicability_domain.add(namespace +'cas/'+ result['cas']['value'])"
   ]
  },
  {
   "cell_type": "code",
   "execution_count": 28,
   "metadata": {},
   "outputs": [
    {
     "data": {
      "text/plain": [
       "(83674, 9775)"
      ]
     },
     "execution_count": 28,
     "metadata": {},
     "output_type": "execute_result"
    }
   ],
   "source": [
    "data = []\n",
    "j = 0\n",
    "for i,row in enumerate(qres):\n",
    "    a,c,b,u = row\n",
    "    try:\n",
    "        f = 1e6 if 'Micro' in str(u) else 1e3\n",
    "        data.append((str(a),str(c),float(b)/f/mw[str(c)]))\n",
    "    except:\n",
    "        j += 1\n",
    "len(data),j"
   ]
  },
  {
   "cell_type": "code",
   "execution_count": 29,
   "metadata": {},
   "outputs": [
    {
     "data": {
      "text/html": [
       "<div>\n",
       "<style scoped>\n",
       "    .dataframe tbody tr th:only-of-type {\n",
       "        vertical-align: middle;\n",
       "    }\n",
       "\n",
       "    .dataframe tbody tr th {\n",
       "        vertical-align: top;\n",
       "    }\n",
       "\n",
       "    .dataframe thead th {\n",
       "        text-align: right;\n",
       "    }\n",
       "</style>\n",
       "<table border=\"1\" class=\"dataframe\">\n",
       "  <thead>\n",
       "    <tr style=\"text-align: right;\">\n",
       "      <th></th>\n",
       "      <th>species</th>\n",
       "      <th>chemical</th>\n",
       "      <th>conc (mol/L)</th>\n",
       "    </tr>\n",
       "  </thead>\n",
       "  <tbody>\n",
       "    <tr>\n",
       "      <th>0</th>\n",
       "      <td>https://cfpub.epa.gov/ecotox/taxon/101</td>\n",
       "      <td>https://cfpub.epa.gov/ecotox/cas/107028</td>\n",
       "      <td>9.102882e-07</td>\n",
       "    </tr>\n",
       "    <tr>\n",
       "      <th>1</th>\n",
       "      <td>https://cfpub.epa.gov/ecotox/taxon/5473</td>\n",
       "      <td>https://cfpub.epa.gov/ecotox/cas/62737</td>\n",
       "      <td>5.910542e-04</td>\n",
       "    </tr>\n",
       "    <tr>\n",
       "      <th>2</th>\n",
       "      <td>https://cfpub.epa.gov/ecotox/taxon/1</td>\n",
       "      <td>https://cfpub.epa.gov/ecotox/cas/91203</td>\n",
       "      <td>4.747663e-05</td>\n",
       "    </tr>\n",
       "    <tr>\n",
       "      <th>3</th>\n",
       "      <td>https://cfpub.epa.gov/ecotox/taxon/29050</td>\n",
       "      <td>https://cfpub.epa.gov/ecotox/cas/2921882</td>\n",
       "      <td>4.493216e-05</td>\n",
       "    </tr>\n",
       "    <tr>\n",
       "      <th>4</th>\n",
       "      <td>https://cfpub.epa.gov/ecotox/taxon/1049</td>\n",
       "      <td>https://cfpub.epa.gov/ecotox/cas/2921882</td>\n",
       "      <td>2.808618e-07</td>\n",
       "    </tr>\n",
       "  </tbody>\n",
       "</table>\n",
       "</div>"
      ],
      "text/plain": [
       "                                    species  \\\n",
       "0    https://cfpub.epa.gov/ecotox/taxon/101   \n",
       "1   https://cfpub.epa.gov/ecotox/taxon/5473   \n",
       "2      https://cfpub.epa.gov/ecotox/taxon/1   \n",
       "3  https://cfpub.epa.gov/ecotox/taxon/29050   \n",
       "4   https://cfpub.epa.gov/ecotox/taxon/1049   \n",
       "\n",
       "                                   chemical  conc (mol/L)  \n",
       "0   https://cfpub.epa.gov/ecotox/cas/107028  9.102882e-07  \n",
       "1    https://cfpub.epa.gov/ecotox/cas/62737  5.910542e-04  \n",
       "2    https://cfpub.epa.gov/ecotox/cas/91203  4.747663e-05  \n",
       "3  https://cfpub.epa.gov/ecotox/cas/2921882  4.493216e-05  \n",
       "4  https://cfpub.epa.gov/ecotox/cas/2921882  2.808618e-07  "
      ]
     },
     "execution_count": 29,
     "metadata": {},
     "output_type": "execute_result"
    }
   ],
   "source": [
    "data = pd.DataFrame(data=dict(zip(['species','chemical','conc (mol/L)'],zip(*data))))\n",
    "data = data[data['chemical'].isin(applicability_domain)]\n",
    "\n",
    "idx = (data.groupby(['species','chemical']).count() >= 3).index.tolist()\n",
    "data = data.set_index(['species','chemical'])\n",
    "data = data.loc[data.index.isin(idx)].reset_index()\n",
    "data.head()"
   ]
  },
  {
   "cell_type": "code",
   "execution_count": 30,
   "metadata": {},
   "outputs": [],
   "source": [
    "tmp = data.groupby(['species','chemical']).median()\n",
    "effect_data = list(zip(*list(zip(*tmp.index.values)),-np.log10(tmp.values.ravel())))\n",
    "df = pd.DataFrame(data=dict(zip(['species','chemical','conc (mol/L)'],zip(*effect_data))))\n",
    "df.to_csv('only_organic_effect_data.csv' if ONLY_ORGANIC else + 'effect_data.csv')"
   ]
  },
  {
   "cell_type": "code",
   "execution_count": 31,
   "metadata": {},
   "outputs": [
    {
     "data": {
      "text/html": [
       "<div>\n",
       "<style scoped>\n",
       "    .dataframe tbody tr th:only-of-type {\n",
       "        vertical-align: middle;\n",
       "    }\n",
       "\n",
       "    .dataframe tbody tr th {\n",
       "        vertical-align: top;\n",
       "    }\n",
       "\n",
       "    .dataframe thead th {\n",
       "        text-align: right;\n",
       "    }\n",
       "</style>\n",
       "<table border=\"1\" class=\"dataframe\">\n",
       "  <thead>\n",
       "    <tr style=\"text-align: right;\">\n",
       "      <th></th>\n",
       "      <th>species</th>\n",
       "      <th>chemical</th>\n",
       "      <th>conc (mol/L)</th>\n",
       "    </tr>\n",
       "  </thead>\n",
       "  <tbody>\n",
       "    <tr>\n",
       "      <th>0</th>\n",
       "      <td>https://cfpub.epa.gov/ecotox/taxon/1</td>\n",
       "      <td>https://cfpub.epa.gov/ecotox/cas/100414</td>\n",
       "      <td>3.398977</td>\n",
       "    </tr>\n",
       "    <tr>\n",
       "      <th>1</th>\n",
       "      <td>https://cfpub.epa.gov/ecotox/taxon/1</td>\n",
       "      <td>https://cfpub.epa.gov/ecotox/cas/100425</td>\n",
       "      <td>3.512146</td>\n",
       "    </tr>\n",
       "    <tr>\n",
       "      <th>2</th>\n",
       "      <td>https://cfpub.epa.gov/ecotox/taxon/1</td>\n",
       "      <td>https://cfpub.epa.gov/ecotox/cas/100447</td>\n",
       "      <td>4.237130</td>\n",
       "    </tr>\n",
       "    <tr>\n",
       "      <th>3</th>\n",
       "      <td>https://cfpub.epa.gov/ecotox/taxon/1</td>\n",
       "      <td>https://cfpub.epa.gov/ecotox/cas/100516</td>\n",
       "      <td>2.147166</td>\n",
       "    </tr>\n",
       "    <tr>\n",
       "      <th>4</th>\n",
       "      <td>https://cfpub.epa.gov/ecotox/taxon/1</td>\n",
       "      <td>https://cfpub.epa.gov/ecotox/cas/100527</td>\n",
       "      <td>3.610505</td>\n",
       "    </tr>\n",
       "    <tr>\n",
       "      <th>...</th>\n",
       "      <td>...</td>\n",
       "      <td>...</td>\n",
       "      <td>...</td>\n",
       "    </tr>\n",
       "    <tr>\n",
       "      <th>4426</th>\n",
       "      <td>https://cfpub.epa.gov/ecotox/taxon/9943</td>\n",
       "      <td>https://cfpub.epa.gov/ecotox/cas/110918</td>\n",
       "      <td>3.062257</td>\n",
       "    </tr>\n",
       "    <tr>\n",
       "      <th>4427</th>\n",
       "      <td>https://cfpub.epa.gov/ecotox/taxon/997</td>\n",
       "      <td>https://cfpub.epa.gov/ecotox/cas/148243</td>\n",
       "      <td>0.582372</td>\n",
       "    </tr>\n",
       "    <tr>\n",
       "      <th>4428</th>\n",
       "      <td>https://cfpub.epa.gov/ecotox/taxon/997</td>\n",
       "      <td>https://cfpub.epa.gov/ecotox/cas/50293</td>\n",
       "      <td>6.004827</td>\n",
       "    </tr>\n",
       "    <tr>\n",
       "      <th>4429</th>\n",
       "      <td>https://cfpub.epa.gov/ecotox/taxon/997</td>\n",
       "      <td>https://cfpub.epa.gov/ecotox/cas/52645531</td>\n",
       "      <td>6.312399</td>\n",
       "    </tr>\n",
       "    <tr>\n",
       "      <th>4430</th>\n",
       "      <td>https://cfpub.epa.gov/ecotox/taxon/997</td>\n",
       "      <td>https://cfpub.epa.gov/ecotox/cas/62737</td>\n",
       "      <td>4.535390</td>\n",
       "    </tr>\n",
       "  </tbody>\n",
       "</table>\n",
       "<p>4431 rows × 3 columns</p>\n",
       "</div>"
      ],
      "text/plain": [
       "                                      species  \\\n",
       "0        https://cfpub.epa.gov/ecotox/taxon/1   \n",
       "1        https://cfpub.epa.gov/ecotox/taxon/1   \n",
       "2        https://cfpub.epa.gov/ecotox/taxon/1   \n",
       "3        https://cfpub.epa.gov/ecotox/taxon/1   \n",
       "4        https://cfpub.epa.gov/ecotox/taxon/1   \n",
       "...                                       ...   \n",
       "4426  https://cfpub.epa.gov/ecotox/taxon/9943   \n",
       "4427   https://cfpub.epa.gov/ecotox/taxon/997   \n",
       "4428   https://cfpub.epa.gov/ecotox/taxon/997   \n",
       "4429   https://cfpub.epa.gov/ecotox/taxon/997   \n",
       "4430   https://cfpub.epa.gov/ecotox/taxon/997   \n",
       "\n",
       "                                       chemical  conc (mol/L)  \n",
       "0       https://cfpub.epa.gov/ecotox/cas/100414      3.398977  \n",
       "1       https://cfpub.epa.gov/ecotox/cas/100425      3.512146  \n",
       "2       https://cfpub.epa.gov/ecotox/cas/100447      4.237130  \n",
       "3       https://cfpub.epa.gov/ecotox/cas/100516      2.147166  \n",
       "4       https://cfpub.epa.gov/ecotox/cas/100527      3.610505  \n",
       "...                                         ...           ...  \n",
       "4426    https://cfpub.epa.gov/ecotox/cas/110918      3.062257  \n",
       "4427    https://cfpub.epa.gov/ecotox/cas/148243      0.582372  \n",
       "4428     https://cfpub.epa.gov/ecotox/cas/50293      6.004827  \n",
       "4429  https://cfpub.epa.gov/ecotox/cas/52645531      6.312399  \n",
       "4430     https://cfpub.epa.gov/ecotox/cas/62737      4.535390  \n",
       "\n",
       "[4431 rows x 3 columns]"
      ]
     },
     "execution_count": 31,
     "metadata": {},
     "output_type": "execute_result"
    }
   ],
   "source": [
    "df"
   ]
  },
  {
   "cell_type": "code",
   "execution_count": null,
   "metadata": {},
   "outputs": [],
   "source": []
  }
 ],
 "metadata": {
  "kernelspec": {
   "display_name": "Python 3",
   "language": "python",
   "name": "python3"
  },
  "language_info": {
   "codemirror_mode": {
    "name": "ipython",
    "version": 3
   },
   "file_extension": ".py",
   "mimetype": "text/x-python",
   "name": "python",
   "nbconvert_exporter": "python",
   "pygments_lexer": "ipython3",
   "version": "3.8.5"
  }
 },
 "nbformat": 4,
 "nbformat_minor": 4
}
