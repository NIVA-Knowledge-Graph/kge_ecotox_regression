{
 "cells": [
  {
   "cell_type": "code",
   "execution_count": 164,
   "metadata": {},
   "outputs": [],
   "source": [
    "import numpy as np\n",
    "import pandas as pd\n",
    "from rdflib import Graph, Literal, URIRef, Namespace\n",
    "from rdflib.plugins.sparql import prepareQuery\n",
    "from tqdm import tqdm"
   ]
  },
  {
   "cell_type": "code",
   "execution_count": 165,
   "metadata": {},
   "outputs": [
    {
     "name": "stdout",
     "output_type": "stream",
     "text": [
      "CPU times: user 9min 49s, sys: 6.49 s, total: 9min 55s\n",
      "Wall time: 9min 58s\n"
     ]
    }
   ],
   "source": [
    "%%time\n",
    "effects = Graph()\n",
    "effects.load('../TERA_OUTPUT/effects.nt',format='nt')"
   ]
  },
  {
   "cell_type": "code",
   "execution_count": 166,
   "metadata": {},
   "outputs": [],
   "source": [
    "namespace = 'https://cfpub.epa.gov/ecotox/'"
   ]
  },
  {
   "cell_type": "code",
   "execution_count": 167,
   "metadata": {},
   "outputs": [],
   "source": [
    "from rdflib.namespace import RDF\n",
    "\n",
    "q = \"\"\"\n",
    "    select ?species ?chem ?conc ?unit where {\n",
    "        ?test ns:hasResult [ns:endpoint ?end ;\n",
    "                            ns:effect effect:MOR ;\n",
    "                            ns:concentration [\n",
    "                                rdf:value ?conc ;\n",
    "                                unit:units ?unit \n",
    "                            ]] .\n",
    "        ?test ns:species ?species .\n",
    "        ?test ns:chemical ?chem .\n",
    "    filter (?unit in (unit:MicrogramPerLitre, unit:MilligramPerLitre))\n",
    "    filter (?end in (endpoint:LC50, endpoint:LD50, endpoint:EC50) )\n",
    "    }\n",
    "    \"\"\"\n",
    "\n",
    "q = prepareQuery(q,\n",
    "                 initNs = { 'ns': Namespace(namespace), \n",
    "                           'rdf':RDF,\n",
    "                           'unit':Namespace('http://qudt.org/vocab/unit#'),\n",
    "                           'endpoint':Namespace(namespace+'endpoint/'),\n",
    "                            'effect':Namespace(namespace+'effect/')})\n"
   ]
  },
  {
   "cell_type": "code",
   "execution_count": 168,
   "metadata": {},
   "outputs": [],
   "source": [
    "qres = effects.query(q)"
   ]
  },
  {
   "cell_type": "code",
   "execution_count": 169,
   "metadata": {},
   "outputs": [],
   "source": [
    "import sys\n",
    "from SPARQLWrapper import SPARQLWrapper, JSON\n",
    "\n",
    "endpoint_url = \"https://query.wikidata.org/sparql\"\n",
    "\n",
    "query = \"\"\"select ?cas ?mw where {\n",
    "  ?c wdt:P231 ?castmp ;\n",
    "     wdt:P2067 ?mw .\n",
    "  bind(replace(?castmp,'-','') as ?cas)\n",
    "}\"\"\"\n",
    "\n",
    "def get_results(endpoint_url, query):\n",
    "    user_agent = \"WDQS-example Python/%s.%s\" % (sys.version_info[0], sys.version_info[1])\n",
    "    # TODO adjust user agent; see https://w.wiki/CX6\n",
    "    sparql = SPARQLWrapper(endpoint_url, agent=user_agent)\n",
    "    sparql.setQuery(query)\n",
    "    sparql.setReturnFormat(JSON)\n",
    "    return sparql.query().convert()\n",
    "\n",
    "results = get_results(endpoint_url, query)\n",
    "\n",
    "mw = {}\n",
    "for result in results[\"results\"][\"bindings\"]:\n",
    "    mw[namespace +'cas/'+ result['cas']['value']] = float(result['mw']['value'])"
   ]
  },
  {
   "cell_type": "code",
   "execution_count": 176,
   "metadata": {},
   "outputs": [],
   "source": [
    "query = \"\"\"select ?cas where {\n",
    "          ?chemical wdt:P527 ?part .\n",
    "          ?chemical wdt:P231 ?castmp .\n",
    "          bind(replace(?castmp,'-','') as ?cas)\n",
    "          filter (?part in (wd:Q623, wd:Q556, wd:Q629, wd:Q627, wd:Q650, wd:Q688, wd:Q879, wd:Q1103, wd:Q682, wd:Q674, wd:Q670, wd:Q871, wd:Q925, wd:Q1096) )\n",
    "        }\"\"\"\n",
    "\n",
    "applicability_domain = set()\n",
    "results = get_results(endpoint_url, query)\n",
    "\n",
    "for result in results[\"results\"][\"bindings\"]:\n",
    "    applicability_domain.add(namespace +'cas/'+ result['cas']['value'])"
   ]
  },
  {
   "cell_type": "code",
   "execution_count": 191,
   "metadata": {},
   "outputs": [
    {
     "data": {
      "text/plain": [
       "(83826, 9623)"
      ]
     },
     "execution_count": 191,
     "metadata": {},
     "output_type": "execute_result"
    }
   ],
   "source": [
    "data = []\n",
    "j = 0\n",
    "for i,row in enumerate(qres):\n",
    "    a,c,b,u = row\n",
    "    try:\n",
    "        f = 1e6 if 'Micro' in str(u) else 1e3\n",
    "        data.append((str(a),str(c),float(b)/f/mw[str(c)]))\n",
    "    except:\n",
    "        j += 1\n",
    "len(data),j"
   ]
  },
  {
   "cell_type": "code",
   "execution_count": 192,
   "metadata": {},
   "outputs": [],
   "source": [
    "data = pd.DataFrame(data=dict(zip(['species','chemical','conc (mol/L)'],zip(*data))))\n",
    "data = data[data['chemical'].isin(applicability_domain)]"
   ]
  },
  {
   "cell_type": "code",
   "execution_count": 193,
   "metadata": {},
   "outputs": [],
   "source": [
    "tmp = data.groupby(['species','chemical']).median()\n",
    "effect_data = list(zip(*list(zip(*tmp.index.values)),-np.log10(tmp.values.ravel())))\n",
    "pd.DataFrame(data=dict(zip(['species','chemical','conc (mol/L)'],zip(*effect_data)))).to_csv('effect_data.csv')"
   ]
  },
  {
   "cell_type": "code",
   "execution_count": 194,
   "metadata": {},
   "outputs": [
    {
     "data": {
      "text/html": [
       "<div>\n",
       "<style scoped>\n",
       "    .dataframe tbody tr th:only-of-type {\n",
       "        vertical-align: middle;\n",
       "    }\n",
       "\n",
       "    .dataframe tbody tr th {\n",
       "        vertical-align: top;\n",
       "    }\n",
       "\n",
       "    .dataframe thead th {\n",
       "        text-align: right;\n",
       "    }\n",
       "</style>\n",
       "<table border=\"1\" class=\"dataframe\">\n",
       "  <thead>\n",
       "    <tr style=\"text-align: right;\">\n",
       "      <th></th>\n",
       "      <th>chemical</th>\n",
       "      <th>conc (mol/L)</th>\n",
       "    </tr>\n",
       "    <tr>\n",
       "      <th>species</th>\n",
       "      <th></th>\n",
       "      <th></th>\n",
       "    </tr>\n",
       "  </thead>\n",
       "  <tbody>\n",
       "    <tr>\n",
       "      <th>https://cfpub.epa.gov/ecotox/taxon/4</th>\n",
       "      <td>2907</td>\n",
       "      <td>2907</td>\n",
       "    </tr>\n",
       "    <tr>\n",
       "      <th>https://cfpub.epa.gov/ecotox/taxon/1</th>\n",
       "      <td>2862</td>\n",
       "      <td>2862</td>\n",
       "    </tr>\n",
       "    <tr>\n",
       "      <th>https://cfpub.epa.gov/ecotox/taxon/5</th>\n",
       "      <td>1987</td>\n",
       "      <td>1987</td>\n",
       "    </tr>\n",
       "    <tr>\n",
       "      <th>https://cfpub.epa.gov/ecotox/taxon/2</th>\n",
       "      <td>1214</td>\n",
       "      <td>1214</td>\n",
       "    </tr>\n",
       "    <tr>\n",
       "      <th>https://cfpub.epa.gov/ecotox/taxon/2371</th>\n",
       "      <td>707</td>\n",
       "      <td>707</td>\n",
       "    </tr>\n",
       "    <tr>\n",
       "      <th>...</th>\n",
       "      <td>...</td>\n",
       "      <td>...</td>\n",
       "    </tr>\n",
       "    <tr>\n",
       "      <th>https://cfpub.epa.gov/ecotox/taxon/28845</th>\n",
       "      <td>1</td>\n",
       "      <td>1</td>\n",
       "    </tr>\n",
       "    <tr>\n",
       "      <th>https://cfpub.epa.gov/ecotox/taxon/28846</th>\n",
       "      <td>1</td>\n",
       "      <td>1</td>\n",
       "    </tr>\n",
       "    <tr>\n",
       "      <th>https://cfpub.epa.gov/ecotox/taxon/28849</th>\n",
       "      <td>1</td>\n",
       "      <td>1</td>\n",
       "    </tr>\n",
       "    <tr>\n",
       "      <th>https://cfpub.epa.gov/ecotox/taxon/28850</th>\n",
       "      <td>1</td>\n",
       "      <td>1</td>\n",
       "    </tr>\n",
       "    <tr>\n",
       "      <th>https://cfpub.epa.gov/ecotox/taxon/1803</th>\n",
       "      <td>1</td>\n",
       "      <td>1</td>\n",
       "    </tr>\n",
       "  </tbody>\n",
       "</table>\n",
       "<p>1750 rows × 2 columns</p>\n",
       "</div>"
      ],
      "text/plain": [
       "                                          chemical  conc (mol/L)\n",
       "species                                                         \n",
       "https://cfpub.epa.gov/ecotox/taxon/4          2907          2907\n",
       "https://cfpub.epa.gov/ecotox/taxon/1          2862          2862\n",
       "https://cfpub.epa.gov/ecotox/taxon/5          1987          1987\n",
       "https://cfpub.epa.gov/ecotox/taxon/2          1214          1214\n",
       "https://cfpub.epa.gov/ecotox/taxon/2371        707           707\n",
       "...                                            ...           ...\n",
       "https://cfpub.epa.gov/ecotox/taxon/28845         1             1\n",
       "https://cfpub.epa.gov/ecotox/taxon/28846         1             1\n",
       "https://cfpub.epa.gov/ecotox/taxon/28849         1             1\n",
       "https://cfpub.epa.gov/ecotox/taxon/28850         1             1\n",
       "https://cfpub.epa.gov/ecotox/taxon/1803          1             1\n",
       "\n",
       "[1750 rows x 2 columns]"
      ]
     },
     "execution_count": 194,
     "metadata": {},
     "output_type": "execute_result"
    }
   ],
   "source": [
    "data.groupby(['species']).count().sort_values(ascending=False,by='chemical')"
   ]
  },
  {
   "cell_type": "code",
   "execution_count": 195,
   "metadata": {},
   "outputs": [
    {
     "data": {
      "text/plain": [
       "606"
      ]
     },
     "execution_count": 195,
     "metadata": {},
     "output_type": "execute_result"
    }
   ],
   "source": [
    "len(applicability_domain.intersection(set(data['chemical'])))"
   ]
  },
  {
   "cell_type": "code",
   "execution_count": null,
   "metadata": {},
   "outputs": [],
   "source": []
  }
 ],
 "metadata": {
  "kernelspec": {
   "display_name": "Python 3",
   "language": "python",
   "name": "python3"
  },
  "language_info": {
   "codemirror_mode": {
    "name": "ipython",
    "version": 3
   },
   "file_extension": ".py",
   "mimetype": "text/x-python",
   "name": "python",
   "nbconvert_exporter": "python",
   "pygments_lexer": "ipython3",
   "version": "3.8.5"
  }
 },
 "nbformat": 4,
 "nbformat_minor": 4
}
