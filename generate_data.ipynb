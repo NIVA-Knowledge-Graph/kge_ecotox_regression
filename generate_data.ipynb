{
 "cells": [
  {
   "cell_type": "code",
   "execution_count": 69,
   "metadata": {},
   "outputs": [],
   "source": [
    "import numpy as np\n",
    "import pandas as pd\n",
    "from rdflib import Graph, Literal, URIRef, Namespace\n",
    "from rdflib.plugins.sparql import prepareQuery\n",
    "from tqdm import tqdm"
   ]
  },
  {
   "cell_type": "code",
   "execution_count": 70,
   "metadata": {},
   "outputs": [
    {
     "name": "stdout",
     "output_type": "stream",
     "text": [
      "CPU times: user 5min 7s, sys: 2.2 s, total: 5min 9s\n",
      "Wall time: 5min 9s\n"
     ]
    }
   ],
   "source": [
    "%%time\n",
    "effects = Graph()\n",
    "effects.load('../TERA_OUTPUT/effects.nt',format='nt')"
   ]
  },
  {
   "cell_type": "code",
   "execution_count": 71,
   "metadata": {},
   "outputs": [],
   "source": [
    "namespace = 'https://cfpub.epa.gov/ecotox/'"
   ]
  },
  {
   "cell_type": "code",
   "execution_count": 72,
   "metadata": {},
   "outputs": [],
   "source": [
    "from rdflib.namespace import RDF\n",
    "\n",
    "q = \"\"\"\n",
    "    select ?species ?chem ?conc ?unit where {\n",
    "        ?test ns:hasResult [ns:endpoint ?end ;\n",
    "                            ns:effect effect:MOR ;\n",
    "                            ns:concentration [\n",
    "                                rdf:value ?conc ;\n",
    "                                unit:units ?unit \n",
    "                            ]] .\n",
    "        ?test ns:species ?species .\n",
    "        ?test ns:chemical ?chem .\n",
    "    filter (?unit in (unit:MicrogramPerLitre, unit:MilligramPerLitre))\n",
    "    filter (?end in (endpoint:LC50, endpoint:LD50, endpoint:EC50) )\n",
    "    }\n",
    "    \"\"\"\n",
    "\n",
    "q = prepareQuery(q,\n",
    "                 initNs = { 'ns': Namespace(namespace), \n",
    "                           'rdf':RDF,\n",
    "                           'unit':Namespace('http://qudt.org/vocab/unit#'),\n",
    "                           'endpoint':Namespace(namespace+'endpoint/'),\n",
    "                            'effect':Namespace(namespace+'effect/')})\n"
   ]
  },
  {
   "cell_type": "code",
   "execution_count": 73,
   "metadata": {},
   "outputs": [],
   "source": [
    "qres = effects.query(q)"
   ]
  },
  {
   "cell_type": "code",
   "execution_count": 74,
   "metadata": {},
   "outputs": [],
   "source": [
    "import sys\n",
    "from SPARQLWrapper import SPARQLWrapper, JSON\n",
    "\n",
    "endpoint_url = \"https://query.wikidata.org/sparql\"\n",
    "\n",
    "query = \"\"\"select ?cas ?mw where {\n",
    "  ?c wdt:P231 ?castmp ;\n",
    "     wdt:P2067 ?mw .\n",
    "  bind(replace(?castmp,'-','') as ?cas)\n",
    "}\"\"\"\n",
    "\n",
    "def get_results(endpoint_url, query):\n",
    "    user_agent = \"WDQS-example Python/%s.%s\" % (sys.version_info[0], sys.version_info[1])\n",
    "    # TODO adjust user agent; see https://w.wiki/CX6\n",
    "    sparql = SPARQLWrapper(endpoint_url, agent=user_agent)\n",
    "    sparql.setQuery(query)\n",
    "    sparql.setReturnFormat(JSON)\n",
    "    return sparql.query().convert()\n",
    "\n",
    "results = get_results(endpoint_url, query)\n",
    "\n",
    "mw = {}\n",
    "for result in results[\"results\"][\"bindings\"]:\n",
    "    mw[namespace +'cas/'+ result['cas']['value']] = float(result['mw']['value'])"
   ]
  },
  {
   "cell_type": "code",
   "execution_count": 75,
   "metadata": {},
   "outputs": [],
   "source": [
    "query = \"\"\"select ?cas where {\n",
    "          ?chemical wdt:P527 ?part .\n",
    "          ?chemical wdt:P231 ?castmp .\n",
    "          bind(replace(?castmp,'-','') as ?cas)\n",
    "          filter (?part in (wd:Q623, wd:Q556, wd:Q629, wd:Q627, wd:Q650, wd:Q688, wd:Q879, wd:Q1103, wd:Q682, wd:Q674, wd:Q670, wd:Q871, wd:Q925, wd:Q1096) )\n",
    "        }\"\"\"\n",
    "\n",
    "applicability_domain = set()\n",
    "results = get_results(endpoint_url, query)\n",
    "\n",
    "for result in results[\"results\"][\"bindings\"]:\n",
    "    applicability_domain.add(namespace +'cas/'+ result['cas']['value'])"
   ]
  },
  {
   "cell_type": "code",
   "execution_count": 76,
   "metadata": {},
   "outputs": [
    {
     "data": {
      "text/plain": [
       "(83847, 9602)"
      ]
     },
     "execution_count": 76,
     "metadata": {},
     "output_type": "execute_result"
    }
   ],
   "source": [
    "data = []\n",
    "j = 0\n",
    "for i,row in enumerate(qres):\n",
    "    a,c,b,u = row\n",
    "    try:\n",
    "        f = 1e6 if 'Micro' in str(u) else 1e3\n",
    "        data.append((str(a),str(c),float(b)/f/mw[str(c)]))\n",
    "    except:\n",
    "        j += 1\n",
    "len(data),j"
   ]
  },
  {
   "cell_type": "code",
   "execution_count": 77,
   "metadata": {},
   "outputs": [
    {
     "data": {
      "text/html": [
       "<div>\n",
       "<style scoped>\n",
       "    .dataframe tbody tr th:only-of-type {\n",
       "        vertical-align: middle;\n",
       "    }\n",
       "\n",
       "    .dataframe tbody tr th {\n",
       "        vertical-align: top;\n",
       "    }\n",
       "\n",
       "    .dataframe thead th {\n",
       "        text-align: right;\n",
       "    }\n",
       "</style>\n",
       "<table border=\"1\" class=\"dataframe\">\n",
       "  <thead>\n",
       "    <tr style=\"text-align: right;\">\n",
       "      <th></th>\n",
       "      <th>species</th>\n",
       "      <th>chemical</th>\n",
       "      <th>conc (mol/L)</th>\n",
       "    </tr>\n",
       "  </thead>\n",
       "  <tbody>\n",
       "    <tr>\n",
       "      <th>0</th>\n",
       "      <td>https://cfpub.epa.gov/ecotox/taxon/2</td>\n",
       "      <td>https://cfpub.epa.gov/ecotox/cas/7758987</td>\n",
       "      <td>1.825265e-05</td>\n",
       "    </tr>\n",
       "    <tr>\n",
       "      <th>1</th>\n",
       "      <td>https://cfpub.epa.gov/ecotox/taxon/7</td>\n",
       "      <td>https://cfpub.epa.gov/ecotox/cas/1910425</td>\n",
       "      <td>4.295979e-05</td>\n",
       "    </tr>\n",
       "    <tr>\n",
       "      <th>2</th>\n",
       "      <td>https://cfpub.epa.gov/ecotox/taxon/212</td>\n",
       "      <td>https://cfpub.epa.gov/ecotox/cas/7778509</td>\n",
       "      <td>4.765584e-05</td>\n",
       "    </tr>\n",
       "    <tr>\n",
       "      <th>3</th>\n",
       "      <td>https://cfpub.epa.gov/ecotox/taxon/1460</td>\n",
       "      <td>https://cfpub.epa.gov/ecotox/cas/2921882</td>\n",
       "      <td>2.865937e-08</td>\n",
       "    </tr>\n",
       "    <tr>\n",
       "      <th>4</th>\n",
       "      <td>https://cfpub.epa.gov/ecotox/taxon/230</td>\n",
       "      <td>https://cfpub.epa.gov/ecotox/cas/121755</td>\n",
       "      <td>1.117090e-01</td>\n",
       "    </tr>\n",
       "    <tr>\n",
       "      <th>...</th>\n",
       "      <td>...</td>\n",
       "      <td>...</td>\n",
       "      <td>...</td>\n",
       "    </tr>\n",
       "    <tr>\n",
       "      <th>39777</th>\n",
       "      <td>https://cfpub.epa.gov/ecotox/taxon/19218</td>\n",
       "      <td>https://cfpub.epa.gov/ecotox/cas/10108642</td>\n",
       "      <td>2.175793e-05</td>\n",
       "    </tr>\n",
       "    <tr>\n",
       "      <th>39778</th>\n",
       "      <td>https://cfpub.epa.gov/ecotox/taxon/5</td>\n",
       "      <td>https://cfpub.epa.gov/ecotox/cas/7681825</td>\n",
       "      <td>5.203677e-04</td>\n",
       "    </tr>\n",
       "    <tr>\n",
       "      <th>39779</th>\n",
       "      <td>https://cfpub.epa.gov/ecotox/taxon/109</td>\n",
       "      <td>https://cfpub.epa.gov/ecotox/cas/74839</td>\n",
       "      <td>9.580379e-06</td>\n",
       "    </tr>\n",
       "    <tr>\n",
       "      <th>39780</th>\n",
       "      <td>https://cfpub.epa.gov/ecotox/taxon/16176</td>\n",
       "      <td>https://cfpub.epa.gov/ecotox/cas/52645531</td>\n",
       "      <td>6.947311e-07</td>\n",
       "    </tr>\n",
       "    <tr>\n",
       "      <th>39781</th>\n",
       "      <td>https://cfpub.epa.gov/ecotox/taxon/85</td>\n",
       "      <td>https://cfpub.epa.gov/ecotox/cas/7487947</td>\n",
       "      <td>1.022405e-05</td>\n",
       "    </tr>\n",
       "  </tbody>\n",
       "</table>\n",
       "<p>39782 rows × 3 columns</p>\n",
       "</div>"
      ],
      "text/plain": [
       "                                        species  \\\n",
       "0          https://cfpub.epa.gov/ecotox/taxon/2   \n",
       "1          https://cfpub.epa.gov/ecotox/taxon/7   \n",
       "2        https://cfpub.epa.gov/ecotox/taxon/212   \n",
       "3       https://cfpub.epa.gov/ecotox/taxon/1460   \n",
       "4        https://cfpub.epa.gov/ecotox/taxon/230   \n",
       "...                                         ...   \n",
       "39777  https://cfpub.epa.gov/ecotox/taxon/19218   \n",
       "39778      https://cfpub.epa.gov/ecotox/taxon/5   \n",
       "39779    https://cfpub.epa.gov/ecotox/taxon/109   \n",
       "39780  https://cfpub.epa.gov/ecotox/taxon/16176   \n",
       "39781     https://cfpub.epa.gov/ecotox/taxon/85   \n",
       "\n",
       "                                        chemical  conc (mol/L)  \n",
       "0       https://cfpub.epa.gov/ecotox/cas/7758987  1.825265e-05  \n",
       "1       https://cfpub.epa.gov/ecotox/cas/1910425  4.295979e-05  \n",
       "2       https://cfpub.epa.gov/ecotox/cas/7778509  4.765584e-05  \n",
       "3       https://cfpub.epa.gov/ecotox/cas/2921882  2.865937e-08  \n",
       "4        https://cfpub.epa.gov/ecotox/cas/121755  1.117090e-01  \n",
       "...                                          ...           ...  \n",
       "39777  https://cfpub.epa.gov/ecotox/cas/10108642  2.175793e-05  \n",
       "39778   https://cfpub.epa.gov/ecotox/cas/7681825  5.203677e-04  \n",
       "39779     https://cfpub.epa.gov/ecotox/cas/74839  9.580379e-06  \n",
       "39780  https://cfpub.epa.gov/ecotox/cas/52645531  6.947311e-07  \n",
       "39781   https://cfpub.epa.gov/ecotox/cas/7487947  1.022405e-05  \n",
       "\n",
       "[39782 rows x 3 columns]"
      ]
     },
     "execution_count": 77,
     "metadata": {},
     "output_type": "execute_result"
    }
   ],
   "source": [
    "data = pd.DataFrame(data=dict(zip(['species','chemical','conc (mol/L)'],zip(*data))))\n",
    "data = data[data['chemical'].isin(applicability_domain)]\n",
    "\n",
    "idx = (data.groupby(['species','chemical']).count() >= 3).index.tolist()\n",
    "data = data.set_index(['species','chemical'])\n",
    "data = data.loc[data.index.isin(idx)].reset_index()\n",
    "data"
   ]
  },
  {
   "cell_type": "code",
   "execution_count": 78,
   "metadata": {},
   "outputs": [],
   "source": [
    "tmp = data.groupby(['species','chemical']).median()\n",
    "effect_data = list(zip(*list(zip(*tmp.index.values)),-np.log10(tmp.values.ravel())))\n",
    "pd.DataFrame(data=dict(zip(['species','chemical','conc (mol/L)'],zip(*effect_data)))).to_csv('effect_data.csv')"
   ]
  },
  {
   "cell_type": "code",
   "execution_count": 79,
   "metadata": {},
   "outputs": [
    {
     "data": {
      "text/html": [
       "<div>\n",
       "<style scoped>\n",
       "    .dataframe tbody tr th:only-of-type {\n",
       "        vertical-align: middle;\n",
       "    }\n",
       "\n",
       "    .dataframe tbody tr th {\n",
       "        vertical-align: top;\n",
       "    }\n",
       "\n",
       "    .dataframe thead th {\n",
       "        text-align: right;\n",
       "    }\n",
       "</style>\n",
       "<table border=\"1\" class=\"dataframe\">\n",
       "  <thead>\n",
       "    <tr style=\"text-align: right;\">\n",
       "      <th></th>\n",
       "      <th>chemical</th>\n",
       "      <th>conc (mol/L)</th>\n",
       "    </tr>\n",
       "    <tr>\n",
       "      <th>species</th>\n",
       "      <th></th>\n",
       "      <th></th>\n",
       "    </tr>\n",
       "  </thead>\n",
       "  <tbody>\n",
       "    <tr>\n",
       "      <th>https://cfpub.epa.gov/ecotox/taxon/4</th>\n",
       "      <td>2907</td>\n",
       "      <td>2907</td>\n",
       "    </tr>\n",
       "    <tr>\n",
       "      <th>https://cfpub.epa.gov/ecotox/taxon/1</th>\n",
       "      <td>2863</td>\n",
       "      <td>2863</td>\n",
       "    </tr>\n",
       "    <tr>\n",
       "      <th>https://cfpub.epa.gov/ecotox/taxon/5</th>\n",
       "      <td>1987</td>\n",
       "      <td>1987</td>\n",
       "    </tr>\n",
       "    <tr>\n",
       "      <th>https://cfpub.epa.gov/ecotox/taxon/2</th>\n",
       "      <td>1214</td>\n",
       "      <td>1214</td>\n",
       "    </tr>\n",
       "    <tr>\n",
       "      <th>https://cfpub.epa.gov/ecotox/taxon/2371</th>\n",
       "      <td>707</td>\n",
       "      <td>707</td>\n",
       "    </tr>\n",
       "    <tr>\n",
       "      <th>...</th>\n",
       "      <td>...</td>\n",
       "      <td>...</td>\n",
       "    </tr>\n",
       "    <tr>\n",
       "      <th>https://cfpub.epa.gov/ecotox/taxon/28845</th>\n",
       "      <td>1</td>\n",
       "      <td>1</td>\n",
       "    </tr>\n",
       "    <tr>\n",
       "      <th>https://cfpub.epa.gov/ecotox/taxon/28846</th>\n",
       "      <td>1</td>\n",
       "      <td>1</td>\n",
       "    </tr>\n",
       "    <tr>\n",
       "      <th>https://cfpub.epa.gov/ecotox/taxon/28849</th>\n",
       "      <td>1</td>\n",
       "      <td>1</td>\n",
       "    </tr>\n",
       "    <tr>\n",
       "      <th>https://cfpub.epa.gov/ecotox/taxon/28850</th>\n",
       "      <td>1</td>\n",
       "      <td>1</td>\n",
       "    </tr>\n",
       "    <tr>\n",
       "      <th>https://cfpub.epa.gov/ecotox/taxon/1803</th>\n",
       "      <td>1</td>\n",
       "      <td>1</td>\n",
       "    </tr>\n",
       "  </tbody>\n",
       "</table>\n",
       "<p>1750 rows × 2 columns</p>\n",
       "</div>"
      ],
      "text/plain": [
       "                                          chemical  conc (mol/L)\n",
       "species                                                         \n",
       "https://cfpub.epa.gov/ecotox/taxon/4          2907          2907\n",
       "https://cfpub.epa.gov/ecotox/taxon/1          2863          2863\n",
       "https://cfpub.epa.gov/ecotox/taxon/5          1987          1987\n",
       "https://cfpub.epa.gov/ecotox/taxon/2          1214          1214\n",
       "https://cfpub.epa.gov/ecotox/taxon/2371        707           707\n",
       "...                                            ...           ...\n",
       "https://cfpub.epa.gov/ecotox/taxon/28845         1             1\n",
       "https://cfpub.epa.gov/ecotox/taxon/28846         1             1\n",
       "https://cfpub.epa.gov/ecotox/taxon/28849         1             1\n",
       "https://cfpub.epa.gov/ecotox/taxon/28850         1             1\n",
       "https://cfpub.epa.gov/ecotox/taxon/1803          1             1\n",
       "\n",
       "[1750 rows x 2 columns]"
      ]
     },
     "execution_count": 79,
     "metadata": {},
     "output_type": "execute_result"
    }
   ],
   "source": [
    "data.groupby(['species']).count().sort_values(ascending=False,by='chemical')"
   ]
  },
  {
   "cell_type": "code",
   "execution_count": 80,
   "metadata": {},
   "outputs": [
    {
     "data": {
      "text/plain": [
       "608"
      ]
     },
     "execution_count": 80,
     "metadata": {},
     "output_type": "execute_result"
    }
   ],
   "source": [
    "len(applicability_domain.intersection(set(data['chemical'])))"
   ]
  },
  {
   "cell_type": "code",
   "execution_count": null,
   "metadata": {},
   "outputs": [],
   "source": []
  }
 ],
 "metadata": {
  "kernelspec": {
   "display_name": "Python 3",
   "language": "python",
   "name": "python3"
  },
  "language_info": {
   "codemirror_mode": {
    "name": "ipython",
    "version": 3
   },
   "file_extension": ".py",
   "mimetype": "text/x-python",
   "name": "python",
   "nbconvert_exporter": "python",
   "pygments_lexer": "ipython3",
   "version": "3.8.5"
  }
 },
 "nbformat": 4,
 "nbformat_minor": 4
}
